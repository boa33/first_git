{
 "cells": [
  {
   "cell_type": "code",
   "execution_count": 4,
   "id": "01e48b57-2984-4fbe-bdda-1451c320e0f9",
   "metadata": {},
   "outputs": [],
   "source": [
    "import numpy as np\n",
    "import pandas as pd"
   ]
  },
  {
   "cell_type": "code",
   "execution_count": 6,
   "id": "93786a43-151a-42c9-ab1e-ef62dc09658c",
   "metadata": {},
   "outputs": [
    {
     "name": "stdout",
     "output_type": "stream",
     "text": [
      "(4, 11, 2)\n"
     ]
    },
    {
     "data": {
      "text/plain": [
       "array([[10.  ,  8.04],\n",
       "       [ 8.  ,  6.95],\n",
       "       [13.  ,  7.58],\n",
       "       [ 9.  ,  8.81],\n",
       "       [11.  ,  8.33],\n",
       "       [14.  ,  9.96],\n",
       "       [ 6.  ,  7.24],\n",
       "       [ 4.  ,  4.26],\n",
       "       [12.  , 10.84],\n",
       "       [ 7.  ,  4.82],\n",
       "       [ 5.  ,  5.68]])"
      ]
     },
     "execution_count": 6,
     "metadata": {},
     "output_type": "execute_result"
    }
   ],
   "source": [
    "anscombe_data=np.load('../data/ch3_anscombe.npy')\n",
    "\n",
    "print(anscombe_data.shape)\n",
    "anscombe_data[0]"
   ]
  },
  {
   "cell_type": "code",
   "execution_count": 9,
   "id": "e1040132-486f-421f-8a8c-875504d1b7fe",
   "metadata": {},
   "outputs": [
    {
     "name": "stdout",
     "output_type": "stream",
     "text": [
      "(4, 11, 2)\n"
     ]
    }
   ],
   "source": [
    "a=np.array(anscombe_data)\n",
    "dimensions=np.shape(a)\n",
    "print(dimensions)"
   ]
  },
  {
   "cell_type": "code",
   "execution_count": 21,
   "id": "5c415d40-83c1-47bf-b825-06d4666449b3",
   "metadata": {},
   "outputs": [
    {
     "ename": "SyntaxError",
     "evalue": "invalid syntax (<ipython-input-21-f1fc8f19da7d>, line 9)",
     "output_type": "error",
     "traceback": [
      "\u001b[0;36m  File \u001b[0;32m\"<ipython-input-21-f1fc8f19da7d>\"\u001b[0;36m, line \u001b[0;32m9\u001b[0m\n\u001b[0;31m    [f '{np.mean(dataX)}',\u001b[0m\n\u001b[0m                        ^\u001b[0m\n\u001b[0;31mSyntaxError\u001b[0m\u001b[0;31m:\u001b[0m invalid syntax\n"
     ]
    }
   ],
   "source": [
    "stats_df = pd.DataFrame(index=['X_mean', 'X_variance','Y_mean',\n",
    "                              'Y_variance', 'X&Y_correlation',\n",
    "                              'X&Y_regression line'])\n",
    "for i, data in enumerate(anscombe_data):\n",
    "    dataX = data[:,0]\n",
    "    dataY = data[:,1]\n",
    "    poly_fit = np.polyfit(dataX,dataY,1)\n",
    "    stats_df[f'data{i+1}']=\\\n",
    "        [f '{np.mean(dataX)}',\n",
    "         f '{np.var(dataX):.2f}',\n",
    "         f '{np.mean(dataY):.2f}',\n",
    "         f '{np.var(dataY):.2f}',\n",
    "         f '{np.corrcoef(dataX,dataY)[0,1]:.2f}' ,\n",
    "         f '{poly_fit[1]:.2f} +{poly_fit[0]:.2f}x']\n",
    "stats_df"
   ]
  },
  {
   "cell_type": "code",
   "execution_count": null,
   "id": "be4a8523-03c9-4622-8829-a21bf433b031",
   "metadata": {},
   "outputs": [],
   "source": []
  },
  {
   "cell_type": "code",
   "execution_count": null,
   "id": "15d4f839-52a6-4459-8fe6-6f3549627545",
   "metadata": {},
   "outputs": [],
   "source": []
  }
 ],
 "metadata": {
  "kernelspec": {
   "display_name": "Python Multi",
   "language": "python",
   "name": "multi"
  },
  "language_info": {
   "codemirror_mode": {
    "name": "ipython",
    "version": 3
   },
   "file_extension": ".py",
   "mimetype": "text/x-python",
   "name": "python",
   "nbconvert_exporter": "python",
   "pygments_lexer": "ipython3",
   "version": "3.7.6"
  }
 },
 "nbformat": 4,
 "nbformat_minor": 5
}
