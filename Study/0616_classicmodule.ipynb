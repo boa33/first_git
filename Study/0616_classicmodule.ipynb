{
 "cells": [
  {
   "cell_type": "code",
   "execution_count": 1,
   "id": "0875027d-53d4-47f9-9adf-9d859ce131f7",
   "metadata": {},
   "outputs": [],
   "source": [
    "!cd"
   ]
  },
  {
   "cell_type": "code",
   "execution_count": 2,
   "id": "eff49e5a-54d0-4b31-8100-5a916429a32b",
   "metadata": {},
   "outputs": [
    {
     "name": "stdout",
     "output_type": "stream",
     "text": [
      "Collecting PyMySQL==1.0.0\n",
      "  Using cached PyMySQL-1.0.0-py3-none-any.whl (43 kB)\n",
      "\u001b[33mWARNING: The candidate selected for download or install is a yanked version: 'pymysql' candidate (version 1.0.0 at https://files.pythonhosted.org/packages/7e/06/59223a2e0bbe2c830ad5e90c09d781626b5e7f840404a02838b502045413/PyMySQL-1.0.0-py3-none-any.whl#sha256=1ebdce36061c61fe32d3156825768236ac19b62b23180e1667032b2c690921c7 (from https://pypi.org/simple/pymysql/))\n",
      "Reason for being yanked: Missing `python_requires` option\u001b[0m\n",
      "Installing collected packages: PyMySQL\n",
      "Successfully installed PyMySQL-1.0.0\n"
     ]
    }
   ],
   "source": [
    "!pip install PyMySQL==1.0.0"
   ]
  },
  {
   "cell_type": "code",
   "execution_count": 3,
   "id": "a241a216-0d80-45e6-8b0a-9f27dc383420",
   "metadata": {},
   "outputs": [],
   "source": [
    "import pymysql.cursors"
   ]
  },
  {
   "cell_type": "code",
   "execution_count": 5,
   "id": "65163bad-4b5a-4b5b-8f3d-e02bc360cf7d",
   "metadata": {},
   "outputs": [],
   "source": [
    "connection = pymysql.connect(host='localhost',\n",
    "        user='root',\n",
    "        password='12345678',\n",
    "        db='tips',\n",
    "        charset='utf8',\n",
    "        cursorclass=pymysql.cursors.DictCursor)"
   ]
  },
  {
   "cell_type": "code",
   "execution_count": 7,
   "id": "9caa81fe-04d9-4989-9e07-6f50a1b7906b",
   "metadata": {},
   "outputs": [
    {
     "name": "stdout",
     "output_type": "stream",
     "text": [
      "[{'total_bill': 39.42}, {'total_bill': 50.81}, {'total_bill': 48.33}]\n"
     ]
    }
   ],
   "source": [
    "try:\n",
    "    with connection.cursor() as cursor:\n",
    "        # Read a single record\n",
    "        #sql = \"SELECT `id`, `password` FROM `users` WHERE `email`=%s\"\n",
    "        sql = \"SELECT total_bill FROM tips where tip >= 7 ;\"\n",
    "        #sql = \"SELECT count(total_bill) FROM tip.tips where tip >= 7 ;\"\n",
    "        cursor.execute(sql)\n",
    "        result = cursor.fetchall()\n",
    "        print(result)\n",
    "finally:\n",
    "    connection.close()"
   ]
  },
  {
   "cell_type": "code",
   "execution_count": null,
   "id": "6de9e7a8-c1cc-480f-ba8c-0d8b407661e6",
   "metadata": {},
   "outputs": [],
   "source": []
  }
 ],
 "metadata": {
  "kernelspec": {
   "display_name": "Python Multi",
   "language": "python",
   "name": "multi"
  },
  "language_info": {
   "codemirror_mode": {
    "name": "ipython",
    "version": 3
   },
   "file_extension": ".py",
   "mimetype": "text/x-python",
   "name": "python",
   "nbconvert_exporter": "python",
   "pygments_lexer": "ipython3",
   "version": "3.7.6"
  }
 },
 "nbformat": 4,
 "nbformat_minor": 5
}
