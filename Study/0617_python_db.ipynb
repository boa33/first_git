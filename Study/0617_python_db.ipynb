{
 "cells": [
  {
   "cell_type": "code",
   "execution_count": 1,
   "id": "local-motel",
   "metadata": {},
   "outputs": [],
   "source": [
    "!cd"
   ]
  },
  {
   "cell_type": "code",
   "execution_count": 2,
   "id": "sudden-fellowship",
   "metadata": {},
   "outputs": [],
   "source": [
    "#!pip install PyMySQL==1.0.0"
   ]
  },
  {
   "cell_type": "code",
   "execution_count": 3,
   "id": "6852b727-9798-41c8-9059-8bf8529c4a41",
   "metadata": {},
   "outputs": [],
   "source": [
    "import pymysql.cursors\n",
    "# Connect to the database"
   ]
  },
  {
   "cell_type": "code",
   "execution_count": 4,
   "id": "0206b3e2-93d3-428c-8225-d66c96141d3c",
   "metadata": {},
   "outputs": [],
   "source": [
    "# localhost or 127.0.0.0"
   ]
  },
  {
   "cell_type": "code",
   "execution_count": 5,
   "id": "34ade9b2-603f-41c5-9642-39da461e3d63",
   "metadata": {
    "tags": []
   },
   "outputs": [
    {
     "data": {
      "text/plain": [
       "'try:\\n    with connection.cursor() as cursor:\\n        # Read a single record\\n        #sql = \"SELECT `id`, `password` FROM `users` WHERE `email`=%s\"\\n        sql = \"select * from tips where tips.day=\\'\\';\"\\n        #sql = \"SELECT count(total_bill) FROM tip.tips where tip >= 7 ;\"\\n        cursor.execute(sql)\\n        result = cursor.fetchall()\\n        print(result)\\nfinally:\\n    connection.close()'"
      ]
     },
     "execution_count": 5,
     "metadata": {},
     "output_type": "execute_result"
    }
   ],
   "source": [
    "connection = pymysql.connect(host='localhost',\n",
    "        user='root',\n",
    "        password='12345678',\n",
    "        db='tip',\n",
    "        charset='utf8',\n",
    "        cursorclass=pymysql.cursors.DictCursor)\n",
    "\n",
    "'''try:\n",
    "    with connection.cursor() as cursor:\n",
    "        # Read a single record\n",
    "        #sql = \"SELECT `id`, `password` FROM `users` WHERE `email`=%s\"\n",
    "        sql = \"select * from tips where tips.day='';\"\n",
    "        #sql = \"SELECT count(total_bill) FROM tip.tips where tip >= 7 ;\"\n",
    "        cursor.execute(sql)\n",
    "        result = cursor.fetchall()\n",
    "        print(result)\n",
    "finally:\n",
    "    connection.close()'''"
   ]
  },
  {
   "cell_type": "code",
   "execution_count": 6,
   "id": "rough-monte",
   "metadata": {},
   "outputs": [],
   "source": [
    "import pymysql.cursors\n",
    "import pandas as pd"
   ]
  },
  {
   "cell_type": "code",
   "execution_count": 7,
   "id": "polished-somerset",
   "metadata": {},
   "outputs": [
    {
     "name": "stdout",
     "output_type": "stream",
     "text": [
      "     total_bill   tip     sex smoker   day    time  size\n",
      "0         16.99  1.01  Female     No   Sun  Dinner     2\n",
      "1         10.34  1.66    Male     No   Sun  Dinner     3\n",
      "2         21.01  3.50    Male     No   Sun  Dinner     3\n",
      "3         23.68  3.31    Male     No   Sun  Dinner     2\n",
      "4         24.59  3.61  Female     No   Sun  Dinner     4\n",
      "..          ...   ...     ...    ...   ...     ...   ...\n",
      "240       27.18  2.00  Female    Yes   Sat  Dinner     2\n",
      "241       22.67  2.00    Male    Yes   Sat  Dinner     2\n",
      "242       17.82  1.75    Male     No   Sat  Dinner     2\n",
      "243       18.78  3.00  Female     No  Thur  Dinner     2\n",
      "244       20.34  4.00    None     No  None  Dinner     3\n",
      "\n",
      "[245 rows x 7 columns]\n"
     ]
    }
   ],
   "source": [
    "# MySQL DB에서 데이터 받아와서 DataFrame에 저장\n",
    "\n",
    "conn = pymysql.connect(host='localhost', user='root', \n",
    "                       password='12345678', db='tip', charset='utf8',\n",
    "                       autocommit=True, cursorclass=pymysql.cursors.DictCursor)\n",
    "try:\n",
    "\n",
    "   with conn.cursor() as curs:\n",
    "      sql = \"select * from tip.tips;\"\n",
    "      curs.execute(sql)\n",
    "      rs = curs.fetchall()\n",
    "\n",
    "      # DB에서 받아온 값을 DataFrame에 넣음\n",
    "\n",
    "      df = pd.DataFrame(rs)\n",
    "      print(df)\n",
    "    \n",
    "    #df.to_csv('query.csv')\n",
    "\n",
    "finally:\n",
    "\n",
    "   conn.close()"
   ]
  },
  {
   "cell_type": "code",
   "execution_count": 8,
   "id": "6d843da7-13cf-4ddb-ab52-24bc4d0dfff1",
   "metadata": {},
   "outputs": [
    {
     "data": {
      "text/plain": [
       "total_bill    0\n",
       "tip           0\n",
       "sex           1\n",
       "smoker        0\n",
       "day           1\n",
       "time          0\n",
       "size          0\n",
       "dtype: int64"
      ]
     },
     "execution_count": 8,
     "metadata": {},
     "output_type": "execute_result"
    }
   ],
   "source": [
    "df.isnull().sum()"
   ]
  },
  {
   "cell_type": "code",
   "execution_count": 9,
   "id": "3bee59e9-6ebd-4390-92cc-6059cf3095a5",
   "metadata": {},
   "outputs": [],
   "source": [
    "df['sex'].replace({'Female':0,'Male':1}, inplace=True)\n",
    "df['smoker'].replace({\"No\" : 0, \"Yes\" : 1}, inplace=True)\n",
    "df['day'].replace({\"Thur\" : 0, \"Fri\" : 1, \"Sat\" : 2, \"Sun\" : 3}, inplace=True)\n",
    "df['time'].replace({\"Lunch\" : 0, \"Dinner\" : 1}, inplace=True)"
   ]
  },
  {
   "cell_type": "code",
   "execution_count": 10,
   "id": "e9746c4d-aeb6-48cd-af69-4a6e86555633",
   "metadata": {},
   "outputs": [],
   "source": [
    "import numpy as np"
   ]
  },
  {
   "cell_type": "code",
   "execution_count": 11,
   "id": "05e50431-b552-433c-95ca-a845af79c91f",
   "metadata": {},
   "outputs": [],
   "source": [
    "df.replace('',np.nan,inplace=True) # ''-> np.nan"
   ]
  },
  {
   "cell_type": "code",
   "execution_count": 12,
   "id": "f8cd52ce-9166-432b-bbf2-87eb4147ae85",
   "metadata": {},
   "outputs": [],
   "source": [
    "#df=df.drop('day', axis =1) #독립변인들의 value값만 추출"
   ]
  },
  {
   "cell_type": "code",
   "execution_count": 13,
   "id": "25637d2b-93d9-4adb-a5ee-4924186c1718",
   "metadata": {},
   "outputs": [
    {
     "data": {
      "text/plain": [
       "total_bill    0\n",
       "tip           0\n",
       "sex           1\n",
       "smoker        0\n",
       "day           1\n",
       "time          0\n",
       "size          0\n",
       "dtype: int64"
      ]
     },
     "execution_count": 13,
     "metadata": {},
     "output_type": "execute_result"
    }
   ],
   "source": [
    "df.isnull().sum()"
   ]
  },
  {
   "cell_type": "code",
   "execution_count": 14,
   "id": "b4aa7b49-3851-4756-aa4f-f0e60fa31a92",
   "metadata": {},
   "outputs": [
    {
     "data": {
      "text/html": [
       "<div>\n",
       "<style scoped>\n",
       "    .dataframe tbody tr th:only-of-type {\n",
       "        vertical-align: middle;\n",
       "    }\n",
       "\n",
       "    .dataframe tbody tr th {\n",
       "        vertical-align: top;\n",
       "    }\n",
       "\n",
       "    .dataframe thead th {\n",
       "        text-align: right;\n",
       "    }\n",
       "</style>\n",
       "<table border=\"1\" class=\"dataframe\">\n",
       "  <thead>\n",
       "    <tr style=\"text-align: right;\">\n",
       "      <th></th>\n",
       "      <th>total_bill</th>\n",
       "      <th>tip</th>\n",
       "      <th>sex</th>\n",
       "      <th>smoker</th>\n",
       "      <th>day</th>\n",
       "      <th>time</th>\n",
       "      <th>size</th>\n",
       "    </tr>\n",
       "  </thead>\n",
       "  <tbody>\n",
       "    <tr>\n",
       "      <th>count</th>\n",
       "      <td>245.000000</td>\n",
       "      <td>245.000000</td>\n",
       "      <td>244.000000</td>\n",
       "      <td>245.000000</td>\n",
       "      <td>244.000000</td>\n",
       "      <td>245.000000</td>\n",
       "      <td>245.000000</td>\n",
       "    </tr>\n",
       "    <tr>\n",
       "      <th>mean</th>\n",
       "      <td>19.788204</td>\n",
       "      <td>3.002367</td>\n",
       "      <td>0.643443</td>\n",
       "      <td>0.379592</td>\n",
       "      <td>1.725410</td>\n",
       "      <td>0.722449</td>\n",
       "      <td>2.571429</td>\n",
       "    </tr>\n",
       "    <tr>\n",
       "      <th>std</th>\n",
       "      <td>8.884221</td>\n",
       "      <td>1.382282</td>\n",
       "      <td>0.479967</td>\n",
       "      <td>0.486279</td>\n",
       "      <td>1.155774</td>\n",
       "      <td>0.448707</td>\n",
       "      <td>0.949547</td>\n",
       "    </tr>\n",
       "    <tr>\n",
       "      <th>min</th>\n",
       "      <td>3.070000</td>\n",
       "      <td>1.000000</td>\n",
       "      <td>0.000000</td>\n",
       "      <td>0.000000</td>\n",
       "      <td>0.000000</td>\n",
       "      <td>0.000000</td>\n",
       "      <td>1.000000</td>\n",
       "    </tr>\n",
       "    <tr>\n",
       "      <th>25%</th>\n",
       "      <td>13.370000</td>\n",
       "      <td>2.000000</td>\n",
       "      <td>0.000000</td>\n",
       "      <td>0.000000</td>\n",
       "      <td>0.000000</td>\n",
       "      <td>0.000000</td>\n",
       "      <td>2.000000</td>\n",
       "    </tr>\n",
       "    <tr>\n",
       "      <th>50%</th>\n",
       "      <td>17.810000</td>\n",
       "      <td>2.920000</td>\n",
       "      <td>1.000000</td>\n",
       "      <td>0.000000</td>\n",
       "      <td>2.000000</td>\n",
       "      <td>1.000000</td>\n",
       "      <td>2.000000</td>\n",
       "    </tr>\n",
       "    <tr>\n",
       "      <th>75%</th>\n",
       "      <td>24.080000</td>\n",
       "      <td>3.600000</td>\n",
       "      <td>1.000000</td>\n",
       "      <td>1.000000</td>\n",
       "      <td>3.000000</td>\n",
       "      <td>1.000000</td>\n",
       "      <td>3.000000</td>\n",
       "    </tr>\n",
       "    <tr>\n",
       "      <th>max</th>\n",
       "      <td>50.810000</td>\n",
       "      <td>10.000000</td>\n",
       "      <td>1.000000</td>\n",
       "      <td>1.000000</td>\n",
       "      <td>3.000000</td>\n",
       "      <td>1.000000</td>\n",
       "      <td>6.000000</td>\n",
       "    </tr>\n",
       "  </tbody>\n",
       "</table>\n",
       "</div>"
      ],
      "text/plain": [
       "       total_bill         tip         sex      smoker         day        time  \\\n",
       "count  245.000000  245.000000  244.000000  245.000000  244.000000  245.000000   \n",
       "mean    19.788204    3.002367    0.643443    0.379592    1.725410    0.722449   \n",
       "std      8.884221    1.382282    0.479967    0.486279    1.155774    0.448707   \n",
       "min      3.070000    1.000000    0.000000    0.000000    0.000000    0.000000   \n",
       "25%     13.370000    2.000000    0.000000    0.000000    0.000000    0.000000   \n",
       "50%     17.810000    2.920000    1.000000    0.000000    2.000000    1.000000   \n",
       "75%     24.080000    3.600000    1.000000    1.000000    3.000000    1.000000   \n",
       "max     50.810000   10.000000    1.000000    1.000000    3.000000    1.000000   \n",
       "\n",
       "             size  \n",
       "count  245.000000  \n",
       "mean     2.571429  \n",
       "std      0.949547  \n",
       "min      1.000000  \n",
       "25%      2.000000  \n",
       "50%      2.000000  \n",
       "75%      3.000000  \n",
       "max      6.000000  "
      ]
     },
     "execution_count": 14,
     "metadata": {},
     "output_type": "execute_result"
    }
   ],
   "source": [
    "df.describe()"
   ]
  },
  {
   "cell_type": "code",
   "execution_count": 15,
   "id": "67be47cf-7a49-4581-bfbe-c4815c406e5f",
   "metadata": {
    "tags": []
   },
   "outputs": [
    {
     "name": "stdout",
     "output_type": "stream",
     "text": [
      "<class 'pandas.core.frame.DataFrame'>\n",
      "RangeIndex: 245 entries, 0 to 244\n",
      "Data columns (total 7 columns):\n",
      " #   Column      Non-Null Count  Dtype  \n",
      "---  ------      --------------  -----  \n",
      " 0   total_bill  245 non-null    float64\n",
      " 1   tip         245 non-null    float64\n",
      " 2   sex         244 non-null    float64\n",
      " 3   smoker      245 non-null    int64  \n",
      " 4   day         244 non-null    float64\n",
      " 5   time        245 non-null    int64  \n",
      " 6   size        245 non-null    int64  \n",
      "dtypes: float64(4), int64(3)\n",
      "memory usage: 13.5 KB\n"
     ]
    }
   ],
   "source": [
    "df.info()"
   ]
  },
  {
   "cell_type": "code",
   "execution_count": 16,
   "id": "0b5e69db-7891-4728-81b0-cc50292e52d8",
   "metadata": {},
   "outputs": [
    {
     "data": {
      "text/plain": [
       "pandas.core.frame.DataFrame"
      ]
     },
     "execution_count": 16,
     "metadata": {},
     "output_type": "execute_result"
    }
   ],
   "source": [
    "type(df)"
   ]
  },
  {
   "cell_type": "code",
   "execution_count": 17,
   "id": "9129b84a-7abb-424c-bec6-2483968407db",
   "metadata": {},
   "outputs": [],
   "source": [
    "#import numpy as np\n",
    "from sklearn.impute import SimpleImputer"
   ]
  },
  {
   "cell_type": "code",
   "execution_count": 18,
   "id": "f56ef2c9-8583-44d6-bb80-c882b64fe9f0",
   "metadata": {},
   "outputs": [],
   "source": [
    "data=df.values"
   ]
  },
  {
   "cell_type": "code",
   "execution_count": 19,
   "id": "73ddea06-fd16-4e35-a765-a76b7b9090b9",
   "metadata": {},
   "outputs": [],
   "source": [
    "y=df['total_bill']"
   ]
  },
  {
   "cell_type": "code",
   "execution_count": 20,
   "id": "869da10c-5b5d-43e0-9f93-f8ffb2d475e7",
   "metadata": {},
   "outputs": [],
   "source": [
    "X=df.drop('total_bill', axis=1)"
   ]
  },
  {
   "cell_type": "code",
   "execution_count": 21,
   "id": "b7158f27-836e-434a-8eff-263cc6d6ae94",
   "metadata": {},
   "outputs": [
    {
     "data": {
      "text/html": [
       "<div>\n",
       "<style scoped>\n",
       "    .dataframe tbody tr th:only-of-type {\n",
       "        vertical-align: middle;\n",
       "    }\n",
       "\n",
       "    .dataframe tbody tr th {\n",
       "        vertical-align: top;\n",
       "    }\n",
       "\n",
       "    .dataframe thead th {\n",
       "        text-align: right;\n",
       "    }\n",
       "</style>\n",
       "<table border=\"1\" class=\"dataframe\">\n",
       "  <thead>\n",
       "    <tr style=\"text-align: right;\">\n",
       "      <th></th>\n",
       "      <th>tip</th>\n",
       "      <th>sex</th>\n",
       "      <th>smoker</th>\n",
       "      <th>day</th>\n",
       "      <th>time</th>\n",
       "      <th>size</th>\n",
       "    </tr>\n",
       "  </thead>\n",
       "  <tbody>\n",
       "    <tr>\n",
       "      <th>count</th>\n",
       "      <td>245.000000</td>\n",
       "      <td>244.000000</td>\n",
       "      <td>245.000000</td>\n",
       "      <td>244.000000</td>\n",
       "      <td>245.000000</td>\n",
       "      <td>245.000000</td>\n",
       "    </tr>\n",
       "    <tr>\n",
       "      <th>mean</th>\n",
       "      <td>3.002367</td>\n",
       "      <td>0.643443</td>\n",
       "      <td>0.379592</td>\n",
       "      <td>1.725410</td>\n",
       "      <td>0.722449</td>\n",
       "      <td>2.571429</td>\n",
       "    </tr>\n",
       "    <tr>\n",
       "      <th>std</th>\n",
       "      <td>1.382282</td>\n",
       "      <td>0.479967</td>\n",
       "      <td>0.486279</td>\n",
       "      <td>1.155774</td>\n",
       "      <td>0.448707</td>\n",
       "      <td>0.949547</td>\n",
       "    </tr>\n",
       "    <tr>\n",
       "      <th>min</th>\n",
       "      <td>1.000000</td>\n",
       "      <td>0.000000</td>\n",
       "      <td>0.000000</td>\n",
       "      <td>0.000000</td>\n",
       "      <td>0.000000</td>\n",
       "      <td>1.000000</td>\n",
       "    </tr>\n",
       "    <tr>\n",
       "      <th>25%</th>\n",
       "      <td>2.000000</td>\n",
       "      <td>0.000000</td>\n",
       "      <td>0.000000</td>\n",
       "      <td>0.000000</td>\n",
       "      <td>0.000000</td>\n",
       "      <td>2.000000</td>\n",
       "    </tr>\n",
       "    <tr>\n",
       "      <th>50%</th>\n",
       "      <td>2.920000</td>\n",
       "      <td>1.000000</td>\n",
       "      <td>0.000000</td>\n",
       "      <td>2.000000</td>\n",
       "      <td>1.000000</td>\n",
       "      <td>2.000000</td>\n",
       "    </tr>\n",
       "    <tr>\n",
       "      <th>75%</th>\n",
       "      <td>3.600000</td>\n",
       "      <td>1.000000</td>\n",
       "      <td>1.000000</td>\n",
       "      <td>3.000000</td>\n",
       "      <td>1.000000</td>\n",
       "      <td>3.000000</td>\n",
       "    </tr>\n",
       "    <tr>\n",
       "      <th>max</th>\n",
       "      <td>10.000000</td>\n",
       "      <td>1.000000</td>\n",
       "      <td>1.000000</td>\n",
       "      <td>3.000000</td>\n",
       "      <td>1.000000</td>\n",
       "      <td>6.000000</td>\n",
       "    </tr>\n",
       "  </tbody>\n",
       "</table>\n",
       "</div>"
      ],
      "text/plain": [
       "              tip         sex      smoker         day        time        size\n",
       "count  245.000000  244.000000  245.000000  244.000000  245.000000  245.000000\n",
       "mean     3.002367    0.643443    0.379592    1.725410    0.722449    2.571429\n",
       "std      1.382282    0.479967    0.486279    1.155774    0.448707    0.949547\n",
       "min      1.000000    0.000000    0.000000    0.000000    0.000000    1.000000\n",
       "25%      2.000000    0.000000    0.000000    0.000000    0.000000    2.000000\n",
       "50%      2.920000    1.000000    0.000000    2.000000    1.000000    2.000000\n",
       "75%      3.600000    1.000000    1.000000    3.000000    1.000000    3.000000\n",
       "max     10.000000    1.000000    1.000000    3.000000    1.000000    6.000000"
      ]
     },
     "execution_count": 21,
     "metadata": {},
     "output_type": "execute_result"
    }
   ],
   "source": [
    "X.describe()"
   ]
  },
  {
   "cell_type": "code",
   "execution_count": 22,
   "id": "deb6b3a4-1803-4705-9836-67db4c51a141",
   "metadata": {},
   "outputs": [
    {
     "data": {
      "text/plain": [
       "count    245.000000\n",
       "mean      19.788204\n",
       "std        8.884221\n",
       "min        3.070000\n",
       "25%       13.370000\n",
       "50%       17.810000\n",
       "75%       24.080000\n",
       "max       50.810000\n",
       "Name: total_bill, dtype: float64"
      ]
     },
     "execution_count": 22,
     "metadata": {},
     "output_type": "execute_result"
    }
   ],
   "source": [
    "y.describe()"
   ]
  },
  {
   "cell_type": "code",
   "execution_count": 23,
   "id": "987d0cf4-b845-4c57-a1ec-b5279f1887cd",
   "metadata": {},
   "outputs": [
    {
     "data": {
      "text/plain": [
       "(245, 7)"
      ]
     },
     "execution_count": 23,
     "metadata": {},
     "output_type": "execute_result"
    }
   ],
   "source": [
    "data.shape"
   ]
  },
  {
   "cell_type": "code",
   "execution_count": 24,
   "id": "6cb708da-a412-4aa9-b409-8f2d5b6a3823",
   "metadata": {},
   "outputs": [],
   "source": [
    "data=X.values"
   ]
  },
  {
   "cell_type": "code",
   "execution_count": 25,
   "id": "ba4a032e-a084-4af7-840a-410dc52c37a4",
   "metadata": {},
   "outputs": [],
   "source": [
    "y=y.values"
   ]
  },
  {
   "cell_type": "code",
   "execution_count": 26,
   "id": "f492ce02-b056-492d-a90e-f7263a8ae135",
   "metadata": {},
   "outputs": [
    {
     "data": {
      "text/plain": [
       "array([2., 3., 3., 2., 4., 4., 2., 4., 2., 2., 2., 4., 2., 4., 2., 2., 3.,\n",
       "       3., 3., 3., 2., 2., 2., 4., 2., 4., 2., 2., 2., 2., 2., 4., 2., 4.,\n",
       "       2., 3., 3., 3., 3., 3., 3., 2., 2., 2., 4., 2., 2., 4., 3., 2., 2.,\n",
       "       2., 4., 2., 4., 2., 4., 2., 2., 4., 2., 2., 2., 4., 3., 3., 2., 1.,\n",
       "       2., 2., 2., 3., 2., 2., 2., 2., 2., 4., 2., 2., 2., 2., 1., 2., 2.,\n",
       "       4., 2., 2., 2., 2., 2., 2., 2., 2., 2., 4., 2., 2., 2., 2., 2., 2.,\n",
       "       3., 2., 2., 2., 2., 2., 2., 2., 2., 1., 3., 2., 3., 2., 4., 2., 2.,\n",
       "       4., 2., 2., 2., 2., 2., 6., 2., 2., 2., 3., 2., 2., 2., 2., 2., 2.,\n",
       "       2., 2., 2., 2., 2., 6., 5., 6., 2., 2., 3., 2., 2., 2., 2., 2., 3.,\n",
       "       4., 4., 5., 6., 4., 2., 4., 4., 2., 3., 2., 2., 3., 2., 4., 2., 2.,\n",
       "       3., 2., 2., 2., 2., 2., 2., 2., 2., 2., 4., 2., 3., 4., 2., 5., 3.,\n",
       "       5., 3., 3., 2., 2., 2., 2., 2., 2., 2., 4., 2., 2., 3., 2., 2., 2.,\n",
       "       4., 3., 3., 4., 2., 2., 3., 4., 4., 2., 3., 2., 5., 2., 2., 4., 2.,\n",
       "       2., 1., 3., 2., 2., 2., 4., 2., 2., 4., 3., 2., 2., 2., 2., 2., 2.,\n",
       "       3., 3., 2., 2., 2., 2., 3.])"
      ]
     },
     "execution_count": 26,
     "metadata": {},
     "output_type": "execute_result"
    }
   ],
   "source": [
    "data[:,5]"
   ]
  },
  {
   "cell_type": "code",
   "execution_count": 27,
   "id": "eeb07847-83e2-4f3b-b18b-37da34332525",
   "metadata": {},
   "outputs": [
    {
     "data": {
      "text/plain": [
       "2"
      ]
     },
     "execution_count": 27,
     "metadata": {},
     "output_type": "execute_result"
    }
   ],
   "source": [
    "sum(np.isnan(data).flatten())"
   ]
  },
  {
   "cell_type": "code",
   "execution_count": 28,
   "id": "2e16cfd8-aa0d-4cf9-81df-93bd812b9808",
   "metadata": {},
   "outputs": [
    {
     "data": {
      "text/plain": [
       "0"
      ]
     },
     "execution_count": 28,
     "metadata": {},
     "output_type": "execute_result"
    }
   ],
   "source": [
    "sum(np.isnan(y).flatten())"
   ]
  },
  {
   "cell_type": "code",
   "execution_count": 29,
   "id": "701e738d-c7ab-4b2b-ad16-d1a6cebe79c3",
   "metadata": {},
   "outputs": [],
   "source": [
    "imputer = SimpleImputer(strategy='median')"
   ]
  },
  {
   "cell_type": "code",
   "execution_count": 30,
   "id": "bcab22ac-0724-47c3-b1c4-fc61c3773bfe",
   "metadata": {},
   "outputs": [
    {
     "data": {
      "text/plain": [
       "SimpleImputer(strategy='median')"
      ]
     },
     "execution_count": 30,
     "metadata": {},
     "output_type": "execute_result"
    }
   ],
   "source": [
    "imputer.fit(data)"
   ]
  },
  {
   "cell_type": "code",
   "execution_count": 33,
   "id": "4e386f20-06f4-451b-a43c-6d2483de271b",
   "metadata": {},
   "outputs": [],
   "source": [
    "data_trans = imputer.transform(data)"
   ]
  },
  {
   "cell_type": "code",
   "execution_count": 34,
   "id": "7a77ae9a-6de5-4502-bd94-c1faa8d72526",
   "metadata": {
    "tags": []
   },
   "outputs": [],
   "source": [
    "#df['total_bill'].hist()"
   ]
  },
  {
   "cell_type": "markdown",
   "id": "6802a24f-b974-4ad0-95a1-e1a67c9af597",
   "metadata": {},
   "source": [
    "**REF**"
   ]
  },
  {
   "cell_type": "code",
   "execution_count": 37,
   "id": "961b5740-4a1d-4c74-bfff-c0155a46246d",
   "metadata": {},
   "outputs": [],
   "source": [
    "from sklearn.feature_selection import RFE"
   ]
  },
  {
   "cell_type": "code",
   "execution_count": 38,
   "id": "f7e153c3-cf20-4a38-b03a-50efd831e380",
   "metadata": {},
   "outputs": [],
   "source": [
    "from sklearn.tree import DecisionTreeClassifier"
   ]
  },
  {
   "cell_type": "code",
   "execution_count": 39,
   "id": "03b0b89f-147a-47be-855a-70f8ed942492",
   "metadata": {},
   "outputs": [],
   "source": [
    "from sklearn.svm import SVR"
   ]
  },
  {
   "cell_type": "code",
   "execution_count": 40,
   "id": "32158c90-c899-4f57-8d72-fc0f5171c750",
   "metadata": {},
   "outputs": [],
   "source": [
    "estimator = SVR(kernel='linear')"
   ]
  },
  {
   "cell_type": "code",
   "execution_count": 41,
   "id": "06f7fb36-96e3-44eb-a87a-03adf2091265",
   "metadata": {},
   "outputs": [],
   "source": [
    "rfe = RFE(estimator, n_features_to_select=4)"
   ]
  },
  {
   "cell_type": "code",
   "execution_count": 42,
   "id": "874ffb0e-2e2e-4ec4-b2ab-61f1af98a3d2",
   "metadata": {},
   "outputs": [],
   "source": [
    "selector=rfe.fit(data_trans, y)\n"
   ]
  },
  {
   "cell_type": "code",
   "execution_count": 43,
   "id": "5b199650-68cf-4697-8b1f-578e6c663203",
   "metadata": {},
   "outputs": [
    {
     "data": {
      "text/plain": [
       "array([ True, False,  True, False,  True,  True])"
      ]
     },
     "execution_count": 43,
     "metadata": {},
     "output_type": "execute_result"
    }
   ],
   "source": [
    "selector.support_"
   ]
  },
  {
   "cell_type": "code",
   "execution_count": 44,
   "id": "792fae34-76dd-4a15-afab-820468353a89",
   "metadata": {},
   "outputs": [
    {
     "name": "stdout",
     "output_type": "stream",
     "text": [
      "Column: 0,  Rank: 1\n",
      "Column: 1,  Rank: 3\n",
      "Column: 2,  Rank: 1\n",
      "Column: 3,  Rank: 2\n",
      "Column: 4,  Rank: 1\n",
      "Column: 5,  Rank: 1\n"
     ]
    }
   ],
   "source": [
    "# summarize all features\n",
    "for i in range(data_trans.shape[1]):\n",
    "  print('Column: %d,  Rank: %d' % (i,  rfe.ranking_[i]))"
   ]
  },
  {
   "cell_type": "code",
   "execution_count": 45,
   "id": "1cbdbe78-9f56-4692-b539-7b0bcecd75ec",
   "metadata": {},
   "outputs": [],
   "source": [
    "df1=pd.DataFrame(data_trans)"
   ]
  },
  {
   "cell_type": "code",
   "execution_count": 46,
   "id": "15571ca0-d25d-4bbe-8453-b7264896d604",
   "metadata": {
    "collapsed": true,
    "jupyter": {
     "outputs_hidden": true
    },
    "tags": []
   },
   "outputs": [
    {
     "data": {
      "text/html": [
       "<div>\n",
       "<style scoped>\n",
       "    .dataframe tbody tr th:only-of-type {\n",
       "        vertical-align: middle;\n",
       "    }\n",
       "\n",
       "    .dataframe tbody tr th {\n",
       "        vertical-align: top;\n",
       "    }\n",
       "\n",
       "    .dataframe thead th {\n",
       "        text-align: right;\n",
       "    }\n",
       "</style>\n",
       "<table border=\"1\" class=\"dataframe\">\n",
       "  <thead>\n",
       "    <tr style=\"text-align: right;\">\n",
       "      <th></th>\n",
       "      <th>0</th>\n",
       "      <th>1</th>\n",
       "      <th>2</th>\n",
       "      <th>3</th>\n",
       "      <th>4</th>\n",
       "      <th>5</th>\n",
       "    </tr>\n",
       "  </thead>\n",
       "  <tbody>\n",
       "    <tr>\n",
       "      <th>0</th>\n",
       "      <td>1.01</td>\n",
       "      <td>0.0</td>\n",
       "      <td>0.0</td>\n",
       "      <td>3.0</td>\n",
       "      <td>1.0</td>\n",
       "      <td>2.0</td>\n",
       "    </tr>\n",
       "    <tr>\n",
       "      <th>1</th>\n",
       "      <td>1.66</td>\n",
       "      <td>1.0</td>\n",
       "      <td>0.0</td>\n",
       "      <td>3.0</td>\n",
       "      <td>1.0</td>\n",
       "      <td>3.0</td>\n",
       "    </tr>\n",
       "    <tr>\n",
       "      <th>2</th>\n",
       "      <td>3.50</td>\n",
       "      <td>1.0</td>\n",
       "      <td>0.0</td>\n",
       "      <td>3.0</td>\n",
       "      <td>1.0</td>\n",
       "      <td>3.0</td>\n",
       "    </tr>\n",
       "    <tr>\n",
       "      <th>3</th>\n",
       "      <td>3.31</td>\n",
       "      <td>1.0</td>\n",
       "      <td>0.0</td>\n",
       "      <td>3.0</td>\n",
       "      <td>1.0</td>\n",
       "      <td>2.0</td>\n",
       "    </tr>\n",
       "    <tr>\n",
       "      <th>4</th>\n",
       "      <td>3.61</td>\n",
       "      <td>0.0</td>\n",
       "      <td>0.0</td>\n",
       "      <td>3.0</td>\n",
       "      <td>1.0</td>\n",
       "      <td>4.0</td>\n",
       "    </tr>\n",
       "    <tr>\n",
       "      <th>...</th>\n",
       "      <td>...</td>\n",
       "      <td>...</td>\n",
       "      <td>...</td>\n",
       "      <td>...</td>\n",
       "      <td>...</td>\n",
       "      <td>...</td>\n",
       "    </tr>\n",
       "    <tr>\n",
       "      <th>240</th>\n",
       "      <td>2.00</td>\n",
       "      <td>0.0</td>\n",
       "      <td>1.0</td>\n",
       "      <td>2.0</td>\n",
       "      <td>1.0</td>\n",
       "      <td>2.0</td>\n",
       "    </tr>\n",
       "    <tr>\n",
       "      <th>241</th>\n",
       "      <td>2.00</td>\n",
       "      <td>1.0</td>\n",
       "      <td>1.0</td>\n",
       "      <td>2.0</td>\n",
       "      <td>1.0</td>\n",
       "      <td>2.0</td>\n",
       "    </tr>\n",
       "    <tr>\n",
       "      <th>242</th>\n",
       "      <td>1.75</td>\n",
       "      <td>1.0</td>\n",
       "      <td>0.0</td>\n",
       "      <td>2.0</td>\n",
       "      <td>1.0</td>\n",
       "      <td>2.0</td>\n",
       "    </tr>\n",
       "    <tr>\n",
       "      <th>243</th>\n",
       "      <td>3.00</td>\n",
       "      <td>0.0</td>\n",
       "      <td>0.0</td>\n",
       "      <td>0.0</td>\n",
       "      <td>1.0</td>\n",
       "      <td>2.0</td>\n",
       "    </tr>\n",
       "    <tr>\n",
       "      <th>244</th>\n",
       "      <td>4.00</td>\n",
       "      <td>1.0</td>\n",
       "      <td>0.0</td>\n",
       "      <td>2.0</td>\n",
       "      <td>1.0</td>\n",
       "      <td>3.0</td>\n",
       "    </tr>\n",
       "  </tbody>\n",
       "</table>\n",
       "<p>245 rows × 6 columns</p>\n",
       "</div>"
      ],
      "text/plain": [
       "        0    1    2    3    4    5\n",
       "0    1.01  0.0  0.0  3.0  1.0  2.0\n",
       "1    1.66  1.0  0.0  3.0  1.0  3.0\n",
       "2    3.50  1.0  0.0  3.0  1.0  3.0\n",
       "3    3.31  1.0  0.0  3.0  1.0  2.0\n",
       "4    3.61  0.0  0.0  3.0  1.0  4.0\n",
       "..    ...  ...  ...  ...  ...  ...\n",
       "240  2.00  0.0  1.0  2.0  1.0  2.0\n",
       "241  2.00  1.0  1.0  2.0  1.0  2.0\n",
       "242  1.75  1.0  0.0  2.0  1.0  2.0\n",
       "243  3.00  0.0  0.0  0.0  1.0  2.0\n",
       "244  4.00  1.0  0.0  2.0  1.0  3.0\n",
       "\n",
       "[245 rows x 6 columns]"
      ]
     },
     "execution_count": 46,
     "metadata": {},
     "output_type": "execute_result"
    }
   ],
   "source": [
    "df1"
   ]
  },
  {
   "cell_type": "code",
   "execution_count": 47,
   "id": "e7940ee3-6c7e-4b66-88f6-db93e875c427",
   "metadata": {},
   "outputs": [
    {
     "data": {
      "text/plain": [
       "Index(['total_bill', 'tip', 'sex', 'smoker', 'day', 'time', 'size'], dtype='object')"
      ]
     },
     "execution_count": 47,
     "metadata": {},
     "output_type": "execute_result"
    }
   ],
   "source": [
    "df.columns"
   ]
  },
  {
   "cell_type": "code",
   "execution_count": 49,
   "id": "9c38e27f-395e-43ed-8ec5-46581342e9d6",
   "metadata": {
    "collapsed": true,
    "jupyter": {
     "outputs_hidden": true
    },
    "tags": []
   },
   "outputs": [
    {
     "ename": "NameError",
     "evalue": "name 'df_trans' is not defined",
     "output_type": "error",
     "traceback": [
      "\u001b[0;31m---------------------------------------------------------------------------\u001b[0m",
      "\u001b[0;31mNameError\u001b[0m                                 Traceback (most recent call last)",
      "\u001b[0;32m<ipython-input-49-976fb0047f2c>\u001b[0m in \u001b[0;36m<module>\u001b[0;34m\u001b[0m\n\u001b[0;32m----> 1\u001b[0;31m \u001b[0mdf_trans\u001b[0m\u001b[0;34m\u001b[0m\u001b[0;34m\u001b[0m\u001b[0m\n\u001b[0m",
      "\u001b[0;31mNameError\u001b[0m: name 'df_trans' is not defined"
     ]
    }
   ],
   "source": [
    "# df_trans  # 에러"
   ]
  },
  {
   "cell_type": "code",
   "execution_count": 50,
   "id": "0e78c50e-ef3d-4723-a55d-6ff7384f054d",
   "metadata": {
    "collapsed": true,
    "jupyter": {
     "outputs_hidden": true
    },
    "tags": []
   },
   "outputs": [
    {
     "data": {
      "text/plain": [
       "0      16.99\n",
       "1      10.34\n",
       "2      21.01\n",
       "3      23.68\n",
       "4      24.59\n",
       "       ...  \n",
       "240    27.18\n",
       "241    22.67\n",
       "242    17.82\n",
       "243    18.78\n",
       "244    20.34\n",
       "Name: total_bill, Length: 245, dtype: float64"
      ]
     },
     "execution_count": 50,
     "metadata": {},
     "output_type": "execute_result"
    }
   ],
   "source": [
    "df. total_bill"
   ]
  },
  {
   "cell_type": "code",
   "execution_count": 51,
   "id": "57ab1a75-de72-4964-a453-1924e69e1e72",
   "metadata": {
    "collapsed": true,
    "jupyter": {
     "outputs_hidden": true
    },
    "tags": []
   },
   "outputs": [
    {
     "data": {
      "text/plain": [
       "0      16.99\n",
       "1      10.34\n",
       "2      21.01\n",
       "3      23.68\n",
       "4      24.59\n",
       "       ...  \n",
       "240    27.18\n",
       "241    22.67\n",
       "242    17.82\n",
       "243    18.78\n",
       "244    20.34\n",
       "Name: total_bill, Length: 245, dtype: float64"
      ]
     },
     "execution_count": 51,
     "metadata": {},
     "output_type": "execute_result"
    }
   ],
   "source": [
    "df['total_bill']"
   ]
  },
  {
   "cell_type": "code",
   "execution_count": 52,
   "id": "b814b1ac-5f9b-43c1-b92e-d261881be2c7",
   "metadata": {
    "collapsed": true,
    "jupyter": {
     "outputs_hidden": true
    },
    "tags": []
   },
   "outputs": [
    {
     "data": {
      "text/plain": [
       "<AxesSubplot:>"
      ]
     },
     "execution_count": 52,
     "metadata": {},
     "output_type": "execute_result"
    },
    {
     "data": {
      "image/png": "[encoded data removed]",
      "text/plain": [
       "<Figure size 432x288 with 1 Axes>"
      ]
     },
     "metadata": {
      "needs_background": "light"
     },
     "output_type": "display_data"
    }
   ],
   "source": [
    "df['total_bill'].hist()"
   ]
  },
  {
   "cell_type": "markdown",
   "id": "4252e84a-2cf7-490e-aaaf-15a8dfa55b4b",
   "metadata": {},
   "source": [
    "**MinMaxScaler**"
   ]
  },
  {
   "cell_type": "code",
   "execution_count": 54,
   "id": "5026ec1a-db1c-4b52-bf22-7584d4f42ecf",
   "metadata": {},
   "outputs": [],
   "source": [
    "from sklearn.preprocessing import MinMaxScaler"
   ]
  },
  {
   "cell_type": "code",
   "execution_count": 55,
   "id": "74bbab03-c145-4a76-a8c5-995950c8d47d",
   "metadata": {},
   "outputs": [],
   "source": [
    "trans = MinMaxScaler()"
   ]
  },
  {
   "cell_type": "code",
   "execution_count": 56,
   "id": "8caadc38-bcfe-4bec-ae2b-b7473a7ad640",
   "metadata": {},
   "outputs": [
    {
     "data": {
      "text/plain": [
       "(245, 6)"
      ]
     },
     "execution_count": 56,
     "metadata": {},
     "output_type": "execute_result"
    }
   ],
   "source": [
    "data.shape"
   ]
  },
  {
   "cell_type": "code",
   "execution_count": 57,
   "id": "53ce9b95-f034-4b4c-b74a-f37ec296befe",
   "metadata": {},
   "outputs": [],
   "source": [
    "X_norm = trans.fit_transform(data)"
   ]
  },
  {
   "cell_type": "code",
   "execution_count": 60,
   "id": "d7c1352f-fb13-4e40-a1f2-30ef999863eb",
   "metadata": {},
   "outputs": [],
   "source": [
    "df_norm = pd.DataFrame(X_norm)"
   ]
  },
  {
   "cell_type": "code",
   "execution_count": 62,
   "id": "7fb4f249-4b91-4c0a-b864-1d840f8defd3",
   "metadata": {},
   "outputs": [
    {
     "data": {
      "text/html": [
       "<div>\n",
       "<style scoped>\n",
       "    .dataframe tbody tr th:only-of-type {\n",
       "        vertical-align: middle;\n",
       "    }\n",
       "\n",
       "    .dataframe tbody tr th {\n",
       "        vertical-align: top;\n",
       "    }\n",
       "\n",
       "    .dataframe thead th {\n",
       "        text-align: right;\n",
       "    }\n",
       "</style>\n",
       "<table border=\"1\" class=\"dataframe\">\n",
       "  <thead>\n",
       "    <tr style=\"text-align: right;\">\n",
       "      <th></th>\n",
       "      <th>0</th>\n",
       "      <th>1</th>\n",
       "      <th>2</th>\n",
       "      <th>3</th>\n",
       "      <th>4</th>\n",
       "      <th>5</th>\n",
       "    </tr>\n",
       "  </thead>\n",
       "  <tbody>\n",
       "    <tr>\n",
       "      <th>count</th>\n",
       "      <td>245.000000</td>\n",
       "      <td>244.000000</td>\n",
       "      <td>245.000000</td>\n",
       "      <td>244.000000</td>\n",
       "      <td>245.000000</td>\n",
       "      <td>245.000000</td>\n",
       "    </tr>\n",
       "    <tr>\n",
       "      <th>mean</th>\n",
       "      <td>0.222485</td>\n",
       "      <td>0.643443</td>\n",
       "      <td>0.379592</td>\n",
       "      <td>0.575137</td>\n",
       "      <td>0.722449</td>\n",
       "      <td>0.314286</td>\n",
       "    </tr>\n",
       "    <tr>\n",
       "      <th>std</th>\n",
       "      <td>0.153587</td>\n",
       "      <td>0.479967</td>\n",
       "      <td>0.486279</td>\n",
       "      <td>0.385258</td>\n",
       "      <td>0.448707</td>\n",
       "      <td>0.189909</td>\n",
       "    </tr>\n",
       "    <tr>\n",
       "      <th>min</th>\n",
       "      <td>0.000000</td>\n",
       "      <td>0.000000</td>\n",
       "      <td>0.000000</td>\n",
       "      <td>0.000000</td>\n",
       "      <td>0.000000</td>\n",
       "      <td>0.000000</td>\n",
       "    </tr>\n",
       "    <tr>\n",
       "      <th>25%</th>\n",
       "      <td>0.111111</td>\n",
       "      <td>0.000000</td>\n",
       "      <td>0.000000</td>\n",
       "      <td>0.000000</td>\n",
       "      <td>0.000000</td>\n",
       "      <td>0.200000</td>\n",
       "    </tr>\n",
       "    <tr>\n",
       "      <th>50%</th>\n",
       "      <td>0.213333</td>\n",
       "      <td>1.000000</td>\n",
       "      <td>0.000000</td>\n",
       "      <td>0.666667</td>\n",
       "      <td>1.000000</td>\n",
       "      <td>0.200000</td>\n",
       "    </tr>\n",
       "    <tr>\n",
       "      <th>75%</th>\n",
       "      <td>0.288889</td>\n",
       "      <td>1.000000</td>\n",
       "      <td>1.000000</td>\n",
       "      <td>1.000000</td>\n",
       "      <td>1.000000</td>\n",
       "      <td>0.400000</td>\n",
       "    </tr>\n",
       "    <tr>\n",
       "      <th>max</th>\n",
       "      <td>1.000000</td>\n",
       "      <td>1.000000</td>\n",
       "      <td>1.000000</td>\n",
       "      <td>1.000000</td>\n",
       "      <td>1.000000</td>\n",
       "      <td>1.000000</td>\n",
       "    </tr>\n",
       "  </tbody>\n",
       "</table>\n",
       "</div>"
      ],
      "text/plain": [
       "                0           1           2           3           4           5\n",
       "count  245.000000  244.000000  245.000000  244.000000  245.000000  245.000000\n",
       "mean     0.222485    0.643443    0.379592    0.575137    0.722449    0.314286\n",
       "std      0.153587    0.479967    0.486279    0.385258    0.448707    0.189909\n",
       "min      0.000000    0.000000    0.000000    0.000000    0.000000    0.000000\n",
       "25%      0.111111    0.000000    0.000000    0.000000    0.000000    0.200000\n",
       "50%      0.213333    1.000000    0.000000    0.666667    1.000000    0.200000\n",
       "75%      0.288889    1.000000    1.000000    1.000000    1.000000    0.400000\n",
       "max      1.000000    1.000000    1.000000    1.000000    1.000000    1.000000"
      ]
     },
     "execution_count": 62,
     "metadata": {},
     "output_type": "execute_result"
    }
   ],
   "source": [
    "df_norm.describe()"
   ]
  },
  {
   "cell_type": "code",
   "execution_count": 63,
   "id": "40d76aa7-06a5-4f56-a464-87de2f8b7762",
   "metadata": {},
   "outputs": [
    {
     "data": {
      "text/html": [
       "<div>\n",
       "<style scoped>\n",
       "    .dataframe tbody tr th:only-of-type {\n",
       "        vertical-align: middle;\n",
       "    }\n",
       "\n",
       "    .dataframe tbody tr th {\n",
       "        vertical-align: top;\n",
       "    }\n",
       "\n",
       "    .dataframe thead th {\n",
       "        text-align: right;\n",
       "    }\n",
       "</style>\n",
       "<table border=\"1\" class=\"dataframe\">\n",
       "  <thead>\n",
       "    <tr style=\"text-align: right;\">\n",
       "      <th></th>\n",
       "      <th>total_bill</th>\n",
       "      <th>tip</th>\n",
       "      <th>sex</th>\n",
       "      <th>smoker</th>\n",
       "      <th>day</th>\n",
       "      <th>time</th>\n",
       "      <th>size</th>\n",
       "    </tr>\n",
       "  </thead>\n",
       "  <tbody>\n",
       "    <tr>\n",
       "      <th>count</th>\n",
       "      <td>245.000000</td>\n",
       "      <td>245.000000</td>\n",
       "      <td>244.000000</td>\n",
       "      <td>245.000000</td>\n",
       "      <td>244.000000</td>\n",
       "      <td>245.000000</td>\n",
       "      <td>245.000000</td>\n",
       "    </tr>\n",
       "    <tr>\n",
       "      <th>mean</th>\n",
       "      <td>19.788204</td>\n",
       "      <td>3.002367</td>\n",
       "      <td>0.643443</td>\n",
       "      <td>0.379592</td>\n",
       "      <td>1.725410</td>\n",
       "      <td>0.722449</td>\n",
       "      <td>2.571429</td>\n",
       "    </tr>\n",
       "    <tr>\n",
       "      <th>std</th>\n",
       "      <td>8.884221</td>\n",
       "      <td>1.382282</td>\n",
       "      <td>0.479967</td>\n",
       "      <td>0.486279</td>\n",
       "      <td>1.155774</td>\n",
       "      <td>0.448707</td>\n",
       "      <td>0.949547</td>\n",
       "    </tr>\n",
       "    <tr>\n",
       "      <th>min</th>\n",
       "      <td>3.070000</td>\n",
       "      <td>1.000000</td>\n",
       "      <td>0.000000</td>\n",
       "      <td>0.000000</td>\n",
       "      <td>0.000000</td>\n",
       "      <td>0.000000</td>\n",
       "      <td>1.000000</td>\n",
       "    </tr>\n",
       "    <tr>\n",
       "      <th>25%</th>\n",
       "      <td>13.370000</td>\n",
       "      <td>2.000000</td>\n",
       "      <td>0.000000</td>\n",
       "      <td>0.000000</td>\n",
       "      <td>0.000000</td>\n",
       "      <td>0.000000</td>\n",
       "      <td>2.000000</td>\n",
       "    </tr>\n",
       "    <tr>\n",
       "      <th>50%</th>\n",
       "      <td>17.810000</td>\n",
       "      <td>2.920000</td>\n",
       "      <td>1.000000</td>\n",
       "      <td>0.000000</td>\n",
       "      <td>2.000000</td>\n",
       "      <td>1.000000</td>\n",
       "      <td>2.000000</td>\n",
       "    </tr>\n",
       "    <tr>\n",
       "      <th>75%</th>\n",
       "      <td>24.080000</td>\n",
       "      <td>3.600000</td>\n",
       "      <td>1.000000</td>\n",
       "      <td>1.000000</td>\n",
       "      <td>3.000000</td>\n",
       "      <td>1.000000</td>\n",
       "      <td>3.000000</td>\n",
       "    </tr>\n",
       "    <tr>\n",
       "      <th>max</th>\n",
       "      <td>50.810000</td>\n",
       "      <td>10.000000</td>\n",
       "      <td>1.000000</td>\n",
       "      <td>1.000000</td>\n",
       "      <td>3.000000</td>\n",
       "      <td>1.000000</td>\n",
       "      <td>6.000000</td>\n",
       "    </tr>\n",
       "  </tbody>\n",
       "</table>\n",
       "</div>"
      ],
      "text/plain": [
       "       total_bill         tip         sex      smoker         day        time  \\\n",
       "count  245.000000  245.000000  244.000000  245.000000  244.000000  245.000000   \n",
       "mean    19.788204    3.002367    0.643443    0.379592    1.725410    0.722449   \n",
       "std      8.884221    1.382282    0.479967    0.486279    1.155774    0.448707   \n",
       "min      3.070000    1.000000    0.000000    0.000000    0.000000    0.000000   \n",
       "25%     13.370000    2.000000    0.000000    0.000000    0.000000    0.000000   \n",
       "50%     17.810000    2.920000    1.000000    0.000000    2.000000    1.000000   \n",
       "75%     24.080000    3.600000    1.000000    1.000000    3.000000    1.000000   \n",
       "max     50.810000   10.000000    1.000000    1.000000    3.000000    1.000000   \n",
       "\n",
       "             size  \n",
       "count  245.000000  \n",
       "mean     2.571429  \n",
       "std      0.949547  \n",
       "min      1.000000  \n",
       "25%      2.000000  \n",
       "50%      2.000000  \n",
       "75%      3.000000  \n",
       "max      6.000000  "
      ]
     },
     "execution_count": 63,
     "metadata": {},
     "output_type": "execute_result"
    }
   ],
   "source": [
    "df.describe()"
   ]
  },
  {
   "cell_type": "markdown",
   "id": "a75407f0-4e80-46b2-b185-719d53af767d",
   "metadata": {},
   "source": [
    "**StandardScaler**"
   ]
  },
  {
   "cell_type": "code",
   "execution_count": 65,
   "id": "dc46428d-fb82-4ca3-8444-ad520f107b87",
   "metadata": {},
   "outputs": [],
   "source": [
    "from sklearn.preprocessing import StandardScaler"
   ]
  },
  {
   "cell_type": "code",
   "execution_count": 66,
   "id": "fc10552f-8a21-4e8c-8418-657a38176c59",
   "metadata": {},
   "outputs": [],
   "source": [
    "sc=StandardScaler()"
   ]
  },
  {
   "cell_type": "code",
   "execution_count": 67,
   "id": "5ef76b50-6e22-419c-b6bf-7da1e0217fb7",
   "metadata": {},
   "outputs": [],
   "source": [
    "df_sc=sc.fit_transform(data)"
   ]
  },
  {
   "cell_type": "code",
   "execution_count": 68,
   "id": "0caf8cb6-f1fa-48af-9058-b465532cc9ac",
   "metadata": {},
   "outputs": [],
   "source": [
    "df_trsfrom_sc=pd.DataFrame(df_sc)"
   ]
  },
  {
   "cell_type": "code",
   "execution_count": 69,
   "id": "c378fd1e-a33d-4e00-8244-b646b358fadd",
   "metadata": {},
   "outputs": [
    {
     "data": {
      "text/html": [
       "<div>\n",
       "<style scoped>\n",
       "    .dataframe tbody tr th:only-of-type {\n",
       "        vertical-align: middle;\n",
       "    }\n",
       "\n",
       "    .dataframe tbody tr th {\n",
       "        vertical-align: top;\n",
       "    }\n",
       "\n",
       "    .dataframe thead th {\n",
       "        text-align: right;\n",
       "    }\n",
       "</style>\n",
       "<table border=\"1\" class=\"dataframe\">\n",
       "  <thead>\n",
       "    <tr style=\"text-align: right;\">\n",
       "      <th></th>\n",
       "      <th>0</th>\n",
       "      <th>1</th>\n",
       "      <th>2</th>\n",
       "      <th>3</th>\n",
       "      <th>4</th>\n",
       "      <th>5</th>\n",
       "    </tr>\n",
       "  </thead>\n",
       "  <tbody>\n",
       "    <tr>\n",
       "      <th>count</th>\n",
       "      <td>245.0</td>\n",
       "      <td>244.0</td>\n",
       "      <td>245.0</td>\n",
       "      <td>244.0</td>\n",
       "      <td>245.0</td>\n",
       "      <td>245.0</td>\n",
       "    </tr>\n",
       "    <tr>\n",
       "      <th>mean</th>\n",
       "      <td>0.0</td>\n",
       "      <td>-0.0</td>\n",
       "      <td>-0.0</td>\n",
       "      <td>-0.0</td>\n",
       "      <td>-0.0</td>\n",
       "      <td>-0.0</td>\n",
       "    </tr>\n",
       "    <tr>\n",
       "      <th>std</th>\n",
       "      <td>1.0</td>\n",
       "      <td>1.0</td>\n",
       "      <td>1.0</td>\n",
       "      <td>1.0</td>\n",
       "      <td>1.0</td>\n",
       "      <td>1.0</td>\n",
       "    </tr>\n",
       "    <tr>\n",
       "      <th>min</th>\n",
       "      <td>-1.0</td>\n",
       "      <td>-1.0</td>\n",
       "      <td>-1.0</td>\n",
       "      <td>-1.0</td>\n",
       "      <td>-2.0</td>\n",
       "      <td>-2.0</td>\n",
       "    </tr>\n",
       "    <tr>\n",
       "      <th>25%</th>\n",
       "      <td>-1.0</td>\n",
       "      <td>-1.0</td>\n",
       "      <td>-1.0</td>\n",
       "      <td>-1.0</td>\n",
       "      <td>-2.0</td>\n",
       "      <td>-1.0</td>\n",
       "    </tr>\n",
       "    <tr>\n",
       "      <th>50%</th>\n",
       "      <td>-0.0</td>\n",
       "      <td>1.0</td>\n",
       "      <td>-1.0</td>\n",
       "      <td>0.0</td>\n",
       "      <td>1.0</td>\n",
       "      <td>-1.0</td>\n",
       "    </tr>\n",
       "    <tr>\n",
       "      <th>75%</th>\n",
       "      <td>0.0</td>\n",
       "      <td>1.0</td>\n",
       "      <td>1.0</td>\n",
       "      <td>1.0</td>\n",
       "      <td>1.0</td>\n",
       "      <td>0.0</td>\n",
       "    </tr>\n",
       "    <tr>\n",
       "      <th>max</th>\n",
       "      <td>5.0</td>\n",
       "      <td>1.0</td>\n",
       "      <td>1.0</td>\n",
       "      <td>1.0</td>\n",
       "      <td>1.0</td>\n",
       "      <td>4.0</td>\n",
       "    </tr>\n",
       "  </tbody>\n",
       "</table>\n",
       "</div>"
      ],
      "text/plain": [
       "           0      1      2      3      4      5\n",
       "count  245.0  244.0  245.0  244.0  245.0  245.0\n",
       "mean     0.0   -0.0   -0.0   -0.0   -0.0   -0.0\n",
       "std      1.0    1.0    1.0    1.0    1.0    1.0\n",
       "min     -1.0   -1.0   -1.0   -1.0   -2.0   -2.0\n",
       "25%     -1.0   -1.0   -1.0   -1.0   -2.0   -1.0\n",
       "50%     -0.0    1.0   -1.0    0.0    1.0   -1.0\n",
       "75%      0.0    1.0    1.0    1.0    1.0    0.0\n",
       "max      5.0    1.0    1.0    1.0    1.0    4.0"
      ]
     },
     "execution_count": 69,
     "metadata": {},
     "output_type": "execute_result"
    }
   ],
   "source": [
    "df_trsfrom_sc.describe().round()"
   ]
  },
  {
   "cell_type": "code",
   "execution_count": 70,
   "id": "f19a046e-61f9-4f7c-b7f7-9a3e3c0228a9",
   "metadata": {},
   "outputs": [
    {
     "data": {
      "text/plain": [
       "array([[1.01, 0.  , 0.  , 3.  , 1.  , 2.  ],\n",
       "       [1.66, 1.  , 0.  , 3.  , 1.  , 3.  ],\n",
       "       [3.5 , 1.  , 0.  , 3.  , 1.  , 3.  ],\n",
       "       ...,\n",
       "       [1.75, 1.  , 0.  , 2.  , 1.  , 2.  ],\n",
       "       [3.  , 0.  , 0.  , 0.  , 1.  , 2.  ],\n",
       "       [4.  ,  nan, 0.  ,  nan, 1.  , 3.  ]])"
      ]
     },
     "execution_count": 70,
     "metadata": {},
     "output_type": "execute_result"
    }
   ],
   "source": [
    "data"
   ]
  },
  {
   "cell_type": "markdown",
   "id": "ab96f4cf-c967-4dbe-b83a-c09b98cbdf1f",
   "metadata": {},
   "source": [
    "**PCA**"
   ]
  },
  {
   "cell_type": "code",
   "execution_count": 71,
   "id": "c2bb8eaa-de21-41c6-9f20-286929232298",
   "metadata": {},
   "outputs": [],
   "source": [
    "from sklearn.decomposition import PCA"
   ]
  },
  {
   "cell_type": "code",
   "execution_count": 72,
   "id": "b924a178-7be6-4b9b-89dc-18d1ccc80802",
   "metadata": {},
   "outputs": [
    {
     "data": {
      "text/plain": [
       "(245, 6)"
      ]
     },
     "execution_count": 72,
     "metadata": {},
     "output_type": "execute_result"
    }
   ],
   "source": [
    "data_trans.shape"
   ]
  },
  {
   "cell_type": "code",
   "execution_count": 73,
   "id": "3ce12dca-5e94-4c2c-a963-b666d2dd6524",
   "metadata": {},
   "outputs": [],
   "source": [
    "trans = PCA(n_components=4) #주성분을 몇개로 할지 결정"
   ]
  },
  {
   "cell_type": "code",
   "execution_count": 74,
   "id": "60faa115-da06-4bc3-8cb0-bf7391bba321",
   "metadata": {},
   "outputs": [],
   "source": [
    "X_dim = trans.fit_transform(data_trans)"
   ]
  },
  {
   "cell_type": "code",
   "execution_count": 75,
   "id": "25cb6c2d-c3e8-4133-94a6-28b2aa9884fc",
   "metadata": {},
   "outputs": [
    {
     "name": "stdout",
     "output_type": "stream",
     "text": [
      "[[-1.51524816 -1.86950745  0.29215756 -0.47390072]\n",
      " [-0.4913902  -1.66136096  0.90729883 -0.20147596]\n",
      " [ 1.05519485 -1.04185307  0.13436856 -0.31179314]]\n"
     ]
    }
   ],
   "source": [
    "print(X_dim[:3, :])"
   ]
  },
  {
   "cell_type": "markdown",
   "id": "e4a4936f-6a3c-4deb-8ded-9e5287f8784a",
   "metadata": {},
   "source": [
    "**Regression Feature Selection**"
   ]
  },
  {
   "cell_type": "code",
   "execution_count": 79,
   "id": "a13ceea6-0e75-4381-b400-f2ea3c3e9bb4",
   "metadata": {},
   "outputs": [
    {
     "ename": "ImportError",
     "evalue": "cannot import name 'f_regress' from 'sklearn.feature_selection' (/Users/kimboa/opt/anaconda3/envs/multi/lib/python3.7/site-packages/sklearn/feature_selection/__init__.py)",
     "output_type": "error",
     "traceback": [
      "\u001b[0;31m---------------------------------------------------------------------------\u001b[0m",
      "\u001b[0;31mImportError\u001b[0m                               Traceback (most recent call last)",
      "\u001b[0;32m<ipython-input-79-79a987bb8fa6>\u001b[0m in \u001b[0;36m<module>\u001b[0;34m\u001b[0m\n\u001b[1;32m      1\u001b[0m \u001b[0;32mfrom\u001b[0m \u001b[0msklearn\u001b[0m\u001b[0;34m.\u001b[0m\u001b[0mfeature_selection\u001b[0m \u001b[0;32mimport\u001b[0m \u001b[0mSelectKBest\u001b[0m\u001b[0;34m\u001b[0m\u001b[0;34m\u001b[0m\u001b[0m\n\u001b[0;32m----> 2\u001b[0;31m \u001b[0;32mfrom\u001b[0m \u001b[0msklearn\u001b[0m\u001b[0;34m.\u001b[0m\u001b[0mfeature_selection\u001b[0m \u001b[0;32mimport\u001b[0m \u001b[0mf_regress\u001b[0m\u001b[0;34m\u001b[0m\u001b[0;34m\u001b[0m\u001b[0m\n\u001b[0m",
      "\u001b[0;31mImportError\u001b[0m: cannot import name 'f_regress' from 'sklearn.feature_selection' (/Users/kimboa/opt/anaconda3/envs/multi/lib/python3.7/site-packages/sklearn/feature_selection/__init__.py)"
     ]
    }
   ],
   "source": [
    "from sklearn.feature_selection import SelectKBest\n",
    "from sklearn.feature_selection import f_regress"
   ]
  },
  {
   "cell_type": "code",
   "execution_count": 77,
   "id": "ed9f65c4-34a9-4abc-a9b6-30bf0a91cf0b",
   "metadata": {},
   "outputs": [
    {
     "ename": "NameError",
     "evalue": "name 'f_regression' is not defined",
     "output_type": "error",
     "traceback": [
      "\u001b[0;31m---------------------------------------------------------------------------\u001b[0m",
      "\u001b[0;31mNameError\u001b[0m                                 Traceback (most recent call last)",
      "\u001b[0;32m<ipython-input-77-75108f448b81>\u001b[0m in \u001b[0;36m<module>\u001b[0;34m\u001b[0m\n\u001b[0;32m----> 1\u001b[0;31m \u001b[0mfs\u001b[0m \u001b[0;34m=\u001b[0m \u001b[0mSelectKBest\u001b[0m\u001b[0;34m(\u001b[0m\u001b[0mscore_func\u001b[0m\u001b[0;34m=\u001b[0m\u001b[0mf_regression\u001b[0m\u001b[0;34m,\u001b[0m \u001b[0mk\u001b[0m\u001b[0;34m=\u001b[0m\u001b[0;36m4\u001b[0m\u001b[0;34m)\u001b[0m\u001b[0;34m\u001b[0m\u001b[0;34m\u001b[0m\u001b[0m\n\u001b[0m",
      "\u001b[0;31mNameError\u001b[0m: name 'f_regression' is not defined"
     ]
    }
   ],
   "source": [
    "fs = SelectKBest(score_func=f_regression, k=4)\n"
   ]
  },
  {
   "cell_type": "code",
   "execution_count": null,
   "id": "ec0fa5c0-901c-4f2e-a6bd-ab7cf9db996b",
   "metadata": {},
   "outputs": [],
   "source": [
    "data_trans.shape\n"
   ]
  },
  {
   "cell_type": "code",
   "execution_count": null,
   "id": "517f57c4-645a-4eb8-81b5-fe12253f4aca",
   "metadata": {},
   "outputs": [],
   "source": [
    "y.shape"
   ]
  },
  {
   "cell_type": "code",
   "execution_count": null,
   "id": "b16c76b3-4ec4-4e55-a0ef-0f2702d26a89",
   "metadata": {},
   "outputs": [],
   "source": [
    "X_selected = fs.fit_transform(data_trans, y)"
   ]
  },
  {
   "cell_type": "code",
   "execution_count": null,
   "id": "a3feb4e2-8da9-44d8-be55-9d6f4c3e53ef",
   "metadata": {},
   "outputs": [],
   "source": [
    "print(X_selected.shape)"
   ]
  },
  {
   "cell_type": "code",
   "execution_count": 37,
   "id": "2ccb85fd-2b37-4622-abae-d83c1c8aa991",
   "metadata": {},
   "outputs": [],
   "source": [
    "# 새출발"
   ]
  },
  {
   "cell_type": "code",
   "execution_count": 38,
   "id": "5df8f9d8-448a-488a-b39c-609be205432c",
   "metadata": {},
   "outputs": [],
   "source": [
    "import pymysql.cursors\n",
    "import pandas as pd"
   ]
  },
  {
   "cell_type": "code",
   "execution_count": 39,
   "id": "972f05cc-4970-4c3b-a84b-c76c0c365957",
   "metadata": {},
   "outputs": [],
   "source": [
    "sql=\"select customers.state, customers.customerName, payments.checkNumber from customers LEFT JOIN payments on customers.customerNumber = payments.customerNumber where payments.paymentDate >= '2004-10-06';\""
   ]
  },
  {
   "cell_type": "code",
   "execution_count": null,
   "id": "370addf9-0d42-4003-8066-af8f41abce22",
   "metadata": {},
   "outputs": [],
   "source": [
    "!cd"
   ]
  },
  {
   "cell_type": "code",
   "execution_count": null,
   "id": "18477dfd-0511-4901-b3f3-060c390d04f3",
   "metadata": {},
   "outputs": [],
   "source": [
    "df.to_csv('query_car.csv')"
   ]
  },
  {
   "cell_type": "code",
   "execution_count": null,
   "id": "f9a60ad4-5a0b-41f6-ad2e-b54e504dc9dc",
   "metadata": {},
   "outputs": [],
   "source": []
  }
 ],
 "metadata": {
  "kernelspec": {
   "display_name": "Python Multi",
   "language": "python",
   "name": "multi"
  },
  "language_info": {
   "codemirror_mode": {
    "name": "ipython",
    "version": 3
   },
   "file_extension": ".py",
   "mimetype": "text/x-python",
   "name": "python",
   "nbconvert_exporter": "python",
   "pygments_lexer": "ipython3",
   "version": "3.7.6"
  }
 },
 "nbformat": 4,
 "nbformat_minor": 5
}
