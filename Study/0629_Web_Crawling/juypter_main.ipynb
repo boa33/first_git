{
 "cells": [
  {
   "cell_type": "markdown",
   "metadata": {},
   "source": [
    "<h3>Google Image Scrapper for Juypter Notebook</h3>"
   ]
  },
  {
   "cell_type": "code",
   "execution_count": null,
   "metadata": {},
   "outputs": [],
   "source": [
    "#!pip install selenium==4.0.0a6"
   ]
  },
  {
   "cell_type": "code",
   "execution_count": 4,
   "metadata": {},
   "outputs": [
    {
     "name": "stdout",
     "output_type": "stream",
     "text": [
      "/Users/kimboa/Downloads/2021-K-Digital-Training-main 2/Web_Crawling\n"
     ]
    }
   ],
   "source": [
    "!pwd"
   ]
  },
  {
   "cell_type": "code",
   "execution_count": 13,
   "metadata": {},
   "outputs": [],
   "source": [
    "from GoogleImageScrapper import GoogleImageScraper\n",
    "import os\n",
    "import time\n",
    "\n",
    "sleep_between_interactions = 1\n",
    "webdriver_path = os.getcwd()+\"//webdriver//chromedriver\"\n",
    "image_path = os.getcwd()+\"//images\""
   ]
  },
  {
   "cell_type": "code",
   "execution_count": 15,
   "metadata": {
    "tags": []
   },
   "outputs": [
    {
     "name": "stdout",
     "output_type": "stream",
     "text": [
      "GoogleImageScraper Notification: Scraping for image link... Please wait.\n",
      "0. https://www.maangchi.com/wp-content/uploads/2018/02/roasted-chicken-1.jpg\n",
      "1. https://www.simplyrecipes.com/thmb/WFAZWL7N-orBG_wnB52Zun4xxhk=/3111x3111/smart/filters:no_upscale()/Simply-Recipes-Grilled-BBQ-Chicken-LEAD-10-03fd9892eaae4ce1a8a3f4c949657cfd.jpg\n",
      "2. https://upload.wikimedia.org/wikipedia/commons/5/57/Chickens_in_market.jpg\n",
      "3. https://www.seriouseats.com/thmb/hGmf-CklPEWYtGrsB1XIOfldngM=/1500x844/smart/filters:no_upscale()/__opt__aboutcom__coeus__resources__content_migration__serious_eats__seriouseats.com__2015__07__20210324-SouthernFriedChicken-Andrew-Janjigian-21-cea1fe39234844638018b15259cabdc2.jpg\n",
      "4. https://fitfoodiefinds.com/wp-content/uploads/2020/07/chicken-chop-salad-1-3.jpg\n",
      "5. https://www.ugetwellsoon.com/wp-content/uploads/2021/04/delish-190808-baked-drumsticks-0217-landscape-pf-1567089281.jpg\n",
      "6. https://www.simplyrecipes.com/thmb/WJ56IyTzJrWMcOBT0r1W1-yDNLE=/735x0/__opt__aboutcom__coeus__resources__content_migration__simply_recipes__uploads__2020__08__Beer-Can-Chicken-LEAD-1b-a7ea38b7c9024fe6b7a72e9ee177390d.jpg\n",
      "GoogleImageScraper Notification: Saving Image... Please wait.\n",
      "0 .Image saved at: /Users/kimboa/Downloads/2021-K-Digital-Training-main 2/Web_Crawling//images/chicken0.jpg\n",
      "1 .Image saved at: /Users/kimboa/Downloads/2021-K-Digital-Training-main 2/Web_Crawling//images/chicken1.jpg\n",
      "2 .Image saved at: /Users/kimboa/Downloads/2021-K-Digital-Training-main 2/Web_Crawling//images/chicken2.jpg\n",
      "3 .Image saved at: /Users/kimboa/Downloads/2021-K-Digital-Training-main 2/Web_Crawling//images/chicken3.jpg\n",
      "4 .Image saved at: /Users/kimboa/Downloads/2021-K-Digital-Training-main 2/Web_Crawling//images/chicken4.jpg\n",
      "5 .Image saved at: /Users/kimboa/Downloads/2021-K-Digital-Training-main 2/Web_Crawling//images/chicken5.jpg\n",
      "6 .Image saved at: /Users/kimboa/Downloads/2021-K-Digital-Training-main 2/Web_Crawling//images/chicken6.jpg\n",
      "GoogleImageScraper Notification: Download Completed.\n"
     ]
    }
   ],
   "source": [
    "#image_path = os.getcwd()+\"\\\\photos\"\n",
    "#add new search key into array [\"cat\",\"t-shirt\",\"apple\",\"orange\",\"pear\",\"fish\"]\n",
    "#search_keys= [\"woodpecker\",\"owl\"]\n",
    "search_keys= [\"chicken\"]\n",
    "number_of_images = 10\n",
    "headless = False\n",
    "#min_resolution = (width,height)\n",
    "min_resolution=(0,0)\n",
    "#max_resolution = (width,height)\n",
    "max_resolution=(2000,2000)\n",
    "for search_key in search_keys:\n",
    "    image_scrapper = GoogleImageScraper(webdriver_path,image_path,search_key,number_of_images,headless,min_resolution,max_resolution)\n",
    "    image_urls = image_scrapper.find_image_urls()\n",
    "    image_scrapper.save_images(image_urls)\n",
    "    time.sleep(sleep_between_interactions)"
   ]
  },
  {
   "cell_type": "code",
   "execution_count": null,
   "metadata": {},
   "outputs": [],
   "source": []
  },
  {
   "cell_type": "code",
   "execution_count": null,
   "metadata": {},
   "outputs": [],
   "source": []
  }
 ],
 "metadata": {
  "kernelspec": {
   "display_name": "Python Multi",
   "language": "python",
   "name": "multi"
  },
  "language_info": {
   "codemirror_mode": {
    "name": "ipython",
    "version": 3
   },
   "file_extension": ".py",
   "mimetype": "text/x-python",
   "name": "python",
   "nbconvert_exporter": "python",
   "pygments_lexer": "ipython3",
   "version": "3.7.6"
  }
 },
 "nbformat": 4,
 "nbformat_minor": 4
}
