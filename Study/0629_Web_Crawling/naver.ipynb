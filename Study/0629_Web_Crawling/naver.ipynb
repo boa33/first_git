{
 "cells": [
  {
   "cell_type": "code",
   "execution_count": 9,
   "id": "arbitrary-diary",
   "metadata": {
    "tags": []
   },
   "outputs": [
    {
     "name": "stdout",
     "output_type": "stream",
     "text": [
      "Requirement already satisfied: bs4 in /Users/kimboa/opt/anaconda3/envs/multi/lib/python3.7/site-packages (0.0.1)\n",
      "Requirement already satisfied: beautifulsoup4 in /Users/kimboa/opt/anaconda3/envs/multi/lib/python3.7/site-packages (from bs4) (4.9.3)\n",
      "Requirement already satisfied: soupsieve>1.2 in /Users/kimboa/opt/anaconda3/envs/multi/lib/python3.7/site-packages (from beautifulsoup4->bs4) (2.2.1)\n",
      "Note: you may need to restart the kernel to use updated packages.\n"
     ]
    }
   ],
   "source": [
    "pip install bs4"
   ]
  },
  {
   "cell_type": "code",
   "execution_count": 10,
   "id": "moved-longitude",
   "metadata": {
    "tags": []
   },
   "outputs": [],
   "source": [
    "from selenium import webdriver as wd\n",
    "from bs4 import BeautifulSoup as bs\n",
    "from selenium.webdriver.common.by import By\n",
    "# 명시적 대기를 위해 \n",
    "from selenium.webdriver.support.ui import WebDriverWait\n",
    "from selenium.webdriver.support import expected_conditions as EC\n",
    "\n",
    "import time\n"
   ]
  },
  {
   "cell_type": "code",
   "execution_count": 11,
   "id": "enclosed-speaker",
   "metadata": {
    "jupyter": {
     "source_hidden": true
    },
    "tags": []
   },
   "outputs": [],
   "source": [
    "# 상품 정보를 담는 클레스\n",
    "# class TourInfo:\n",
    "#     # 맴버변수 (실제 컬럼보다는 작게 세팅했음)\n",
    "#     title = ''\n",
    "#     price = ''\n",
    "#     area  = ''\n",
    "#     link  = ''\n",
    "#     img   = ''\n",
    "#     contents = ''\n",
    "#     # 생성자\n",
    "#     def __init__(self, title, price, area, link, img, contents=None ):\n",
    "#         self.title = title\n",
    "#         self.price = price\n",
    "#         self.area  = area\n",
    "#         self.link  = link\n",
    "#         self.img   = img\n",
    "#         self.contents = contents"
   ]
  },
  {
   "cell_type": "code",
   "execution_count": 17,
   "id": "stunning-upper",
   "metadata": {},
   "outputs": [],
   "source": [
    "# 사전에 필요한 정보를 로드 => 디비혹스 쉘, 베치 파일에서 인자로 받아서 세팅\n",
    "\n",
    "main_url = 'http://www.naver.com/' \n",
    "keyword  = '증권'\n",
    "# 상품 정보를 담는 리스트 (TourInfo 리스트)\n",
    "tour_list = []"
   ]
  },
  {
   "cell_type": "code",
   "execution_count": 18,
   "id": "creative-glass",
   "metadata": {
    "tags": []
   },
   "outputs": [],
   "source": [
    "# 윈도우용\n",
    "driver = wd.Chrome(executable_path='.//webdriver//chromedriver')"
   ]
  },
  {
   "cell_type": "code",
   "execution_count": 19,
   "id": "9d4aa8e0-28ca-4865-873d-79330dff5cf0",
   "metadata": {
    "tags": []
   },
   "outputs": [],
   "source": [
    "# 사이트 접속 (get)\n",
    "driver.get(main_url)\n",
    "# 검색창을 찾아서 검색어 입력"
   ]
  },
  {
   "cell_type": "code",
   "execution_count": 20,
   "id": "c4c36e21-10f4-4d15-b60e-3f7282e15d5a",
   "metadata": {
    "tags": []
   },
   "outputs": [],
   "source": [
    "# id : SearchGNBText\n",
    "driver.find_element_by_id('query').send_keys(keyword)\n",
    "# 수정할경우 => 뒤에 내용이 붙어버림 => .clear() -> send_keys('내용')\n",
    "# 검색 버튼 클릭\n",
    "driver.find_element_by_id('search_btn').click()"
   ]
  },
  {
   "cell_type": "code",
   "execution_count": 21,
   "id": "e455f45b-aa90-4e11-ad64-f3a96ebd8fe9",
   "metadata": {},
   "outputs": [],
   "source": [
    "time.sleep(3)"
   ]
  },
  {
   "cell_type": "code",
   "execution_count": 22,
   "id": "tough-treat",
   "metadata": {},
   "outputs": [],
   "source": [
    "driver.close()"
   ]
  },
  {
   "cell_type": "code",
   "execution_count": null,
   "id": "imperial-classic",
   "metadata": {
    "jupyter": {
     "source_hidden": true
    },
    "tags": []
   },
   "outputs": [],
   "source": [
    "# 잠시 대기 => 페이가 로드되고 나서 즉각적으로 데이터를 획득 하는 행위는 \n",
    "# # 명시적 대기 => 특정 요소가 로케이트(발결된때까지) 대기\n",
    "# try:\n",
    "#     element = WebDriverWait(driver, 10).until(\n",
    "#         # 지정한 한개 요소가 올라면 웨이트 종료\n",
    "#         EC.presence_of_element_located( (By.CLASS_NAME, 'oTravelBox') )\n",
    "#     )\n",
    "# except Exception as e:\n",
    "#     print( '오류 발생', e)\n",
    "# # 암묵적 대기 => DOM이 다 로드 될때까지 대기 하고 먼저 로드되면 바로 진행\n",
    "# # 요소를 찾을 특정 시간 동안 DOM 풀링을 지시 예를 들어 10 초이내 라로 \n",
    "# # 발견 되면 진행\n",
    "# driver.implicitly_wait( 10 )\n",
    "# # 절대기 대기 => time.sleep(10) -> 클라우드 페어(디도스 방어  솔류션)\n",
    "# # 더보기 눌러서 => 게시판 진입 \n",
    "# driver.find_element_by_css_selector('.oTravelBox>.boxList>.moreBtnWrap>.moreBtn').click()"
   ]
  },
  {
   "cell_type": "code",
   "execution_count": 14,
   "id": "capital-sierra",
   "metadata": {
    "collapsed": true,
    "jupyter": {
     "outputs_hidden": true,
     "source_hidden": true
    },
    "tags": []
   },
   "outputs": [
    {
     "name": "stdout",
     "output_type": "stream",
     "text": [
      "1 페이지 이동\n",
      "썸네임 http://tourimage.interpark.com/product/tour/00161/Q40/280/Q4010006_1_310.JPG\n",
      "링크 searchModule.OnClickDetail('http://tour.interpark.com/goods/detail/?BaseGoodsCd=Q4010006','')\n",
      "상품명 [사이판골프 8일] 라오라오베이 + 하얏트호텔\n",
      "코멘트 \n",
      "가격 2,690,000 원~\n",
      "여행 기간 : 7박8일\n",
      "출발 가능 기간 : 2021.07.24~2021.11.27\n",
      "평점 10.0\n",
      "1개의 상품평\n",
      "====================================================================================================\n",
      "썸네임 http://tourimage.interpark.com/product/tour/00161/Q10/280/Q1010398_1_400.jpg\n",
      "링크 searchModule.OnClickDetail('http://tour.interpark.com/goods/detail/?BaseGoodsCd=Q1010398','')\n",
      "상품명 [칸차나부리 골프 5일] 미션힐 골프텔+ 무제한\n",
      "코멘트 세계 100대 명문 골프장 중 하나!\n",
      "가격 699,000 원~\n",
      "여행 기간 : 3박5일\n",
      "출발 가능 기간 : 2021.10.31~2022.03.26\n",
      "평점 8.0\n",
      "1개의 상품평\n",
      "====================================================================================================\n",
      "썸네임 http://tourimage.interpark.com/product/tour/00161/Q10/280/Q1010255_1_697.JPG\n",
      "링크 searchModule.OnClickDetail('http://tour.interpark.com/goods/detail/?BaseGoodsCd=Q1010255','')\n",
      "상품명 [파타야 골프 5일] 세인트앤드류 108홀 + 골프텔\n",
      "코멘트 왕복항공권 불포함(추천스케쥴-대한항공)\n",
      "가격 590,000 원~\n",
      "여행 기간 : 3박5일\n",
      "출발 가능 기간 : 2021.11.01~2022.03.30\n",
      "평점 9.3\n",
      "1개의 상품평\n",
      "====================================================================================================\n",
      "썸네임 http://tourimage.interpark.com/product/tour/00161/Q60/280/Q6010404_1_227.JPG\n",
      "링크 searchModule.OnClickDetail('http://tour.interpark.com/goods/detail/?BaseGoodsCd=Q6010404','')\n",
      "상품명 [구마모토 골프 3일] 천연온천 용천각+ 3색 54홀\n",
      "코멘트 일본 료칸 용천각 화실 및 온천 이용\n",
      "가격 1,299,000 원~\n",
      "여행 기간 : 2박3일\n",
      "출발 가능 기간 : 2021.07.02~2022.03.25\n",
      "평점 0.0\n",
      "0개의 상품평\n",
      "====================================================================================================\n",
      "썸네임 http://tourimage.interpark.com/product/tour/00161/Q40/280/Q4010048_1_263.JPG\n",
      "링크 searchModule.OnClickDetail('http://tour.interpark.com/goods/detail/?BaseGoodsCd=Q4010048','')\n",
      "상품명 [사이판골프 4일] 라오라오베이 + 하얏트호텔\n",
      "코멘트 \n",
      "가격 1,249,000 원~\n",
      "여행 기간 : 3박4일\n",
      "출발 가능 기간 : 2021.11.03~2022.02.23\n",
      "평점 0.0\n",
      "0개의 상품평\n",
      "====================================================================================================\n",
      "썸네임 http://tourimage.interpark.com/product/tour/00161/Q40/280/Q4010047_1_443.jpg\n",
      "링크 searchModule.OnClickDetail('http://tour.interpark.com/goods/detail/?BaseGoodsCd=Q4010047','')\n",
      "상품명 [괌 골프 4일] 망길라오/탈로포포/C.C.P 54홀\n",
      "코멘트 \n",
      "가격 1,099,000 원~\n",
      "여행 기간 : 3박4일\n",
      "출발 가능 기간 : 2021.10.31~2022.02.28\n",
      "평점 0.0\n",
      "0개의 상품평\n",
      "====================================================================================================\n",
      "썸네임 http://tourimage.interpark.com/product/tour/00161/Q40/280/Q4010046_13_347.JPG\n",
      "링크 searchModule.OnClickDetail('http://tour.interpark.com/goods/detail/?BaseGoodsCd=Q4010046','')\n",
      "상품명 [사이판골프 5일] 라오라오베이 + 하얏트호텔\n",
      "코멘트 \n",
      "가격 1,299,000 원~\n",
      "여행 기간 : 3박5일\n",
      "출발 가능 기간 : 2021.10.01~2022.01.24\n",
      "평점 0.0\n",
      "0개의 상품평\n",
      "====================================================================================================\n",
      "썸네임 http://tourimage.interpark.com/product/tour/00161/Q40/280/Q4010008_7_823.jpg\n",
      "링크 searchModule.OnClickDetail('http://tour.interpark.com/goods/detail/?BaseGoodsCd=Q4010008','')\n",
      "상품명 [괌 골프 4일] 레오팔레스 골프 54홀\n",
      "코멘트 \n",
      "가격 1,350,000 원~\n",
      "여행 기간 : 3박4일\n",
      "출발 가능 기간 : 2021.10.31~2022.02.28\n",
      "평점 0.0\n",
      "0개의 상품평\n",
      "====================================================================================================\n",
      "썸네임 http://tourimage.interpark.com/product/tour/00161/Q10/280/Q1011384_1_297.jpg\n",
      "링크 searchModule.OnClickDetail('http://tour.interpark.com/goods/detail/?BaseGoodsCd=Q1011384','')\n",
      "상품명 [타이페이 골프 4일] 신주 엠버서더호텔 + 3색 54홀\n",
      "코멘트 타이완 메인도시- 타이페이\n",
      "가격 1,299,000 원~\n",
      "여행 기간 : 3박4일\n",
      "출발 가능 기간 : 2021.10.31~2022.03.26\n",
      "평점 0.0\n",
      "0개의 상품평\n",
      "====================================================================================================\n",
      "썸네임 http://tourimage.interpark.com/product/tour/00161/Q10/280/Q1011383_1_173.jpg\n",
      "링크 searchModule.OnClickDetail('http://tour.interpark.com/goods/detail/?BaseGoodsCd=Q1011383','')\n",
      "상품명 [타이페이 골프 4일] 쉐라톤+72홀 - 양승/미라마/대계\n",
      "코멘트 타이완 메인도시- 타이페이\n",
      "가격 1,649,000 원~\n",
      "여행 기간 : 3박4일\n",
      "출발 가능 기간 : 2021.10.31~2022.03.26\n",
      "평점 0.0\n",
      "0개의 상품평\n",
      "====================================================================================================\n",
      "[<__main__.TourInfo object at 0x10d3d8850>, <__main__.TourInfo object at 0x10d437150>, <__main__.TourInfo object at 0x10d3e49d0>, <__main__.TourInfo object at 0x10d437110>, <__main__.TourInfo object at 0x10c6ba990>, <__main__.TourInfo object at 0x10a1527d0>, <__main__.TourInfo object at 0x10d3dbe50>, <__main__.TourInfo object at 0x10c6ba210>, <__main__.TourInfo object at 0x10c6badd0>, <__main__.TourInfo object at 0x10c6ba350>] 10\n"
     ]
    }
   ],
   "source": [
    "# searchModule.SetCategoryList(1, '') 스크립트 실행\n",
    "# # 16은 임시값, 게시물을 넘어갔을때 현상을 확인차\n",
    "# for page in range(1, 2): # 2):\n",
    "#     try:\n",
    "#         # 자바스크립트 구동하기\n",
    "#         driver.execute_script(\"searchModule.SetCategoryList(%s, '')\" % page)\n",
    "#         time.sleep(2)\n",
    "#         print(\"%s 페이지 이동\" % page)\n",
    "#         #############################################################\n",
    "#         # 여러 사이트에서 정보를 수집할 경우 공통 정보 정의 단계 필요\n",
    "#         # 상품명, 코멘트, 기간1, 기간2, 가격, 평점, 썸네일, 링크(상품상세정보)\n",
    "#         boxItems = driver.find_elements_by_css_selector('.oTravelBox>.boxList>li')\n",
    "#         # 상품 하나 하나 접근\n",
    "#         for li in boxItems:\n",
    "#             # 이미지를 링크값을 사용할것인가? \n",
    "#             # 직접 다운로드 해서 우리 서버에 업로드(ftp) 할것인가?\n",
    "#             print( '썸네임', li.find_element_by_css_selector('img').get_attribute('src') )\n",
    "#             print( '링크', li.find_element_by_css_selector('a').get_attribute('onclick') )\n",
    "#             print( '상품명', li.find_element_by_css_selector('h5.proTit').text )\n",
    "#             print( '코멘트', li.find_element_by_css_selector('.proSub').text )\n",
    "#             print( '가격',   li.find_element_by_css_selector('.proPrice').text )\n",
    "#             area = ''\n",
    "#             for info in li.find_elements_by_css_selector('.info-row .proInfo'):\n",
    "#                 print(  info.text )\n",
    "#             print('='*100)\n",
    "#             # 데이터 모음\n",
    "#             # li.find_elements_by_css_selector('.info-row .proInfo')[1].text\n",
    "#             # 데이터가 부족하거나 없을수도 있으므로 직접 인덱스로 표현은 위험성이 있음\n",
    "#             obj = TourInfo(  \n",
    "#                 li.find_element_by_css_selector('h5.proTit').text,\n",
    "#                 li.find_element_by_css_selector('.proPrice').text,\n",
    "#                 li.find_elements_by_css_selector('.info-row .proInfo')[1].text,\n",
    "#                 li.find_element_by_css_selector('a').get_attribute('onclick'),\n",
    "#                 li.find_element_by_css_selector('img').get_attribute('src')\n",
    "#             )\n",
    "#             tour_list.append( obj )\n",
    "#     except Exception as e1:\n",
    "#         print( '오류', e1 )\n",
    "\n",
    "# print( tour_list, len(tour_list) )\n"
   ]
  },
  {
   "cell_type": "code",
   "execution_count": null,
   "id": "ongoing-transfer",
   "metadata": {},
   "outputs": [],
   "source": []
  },
  {
   "cell_type": "code",
   "execution_count": null,
   "id": "traditional-special",
   "metadata": {},
   "outputs": [],
   "source": []
  }
 ],
 "metadata": {
  "kernelspec": {
   "display_name": "Python Multi",
   "language": "python",
   "name": "multi"
  },
  "language_info": {
   "codemirror_mode": {
    "name": "ipython",
    "version": 3
   },
   "file_extension": ".py",
   "mimetype": "text/x-python",
   "name": "python",
   "nbconvert_exporter": "python",
   "pygments_lexer": "ipython3",
   "version": "3.7.6"
  }
 },
 "nbformat": 4,
 "nbformat_minor": 5
}
