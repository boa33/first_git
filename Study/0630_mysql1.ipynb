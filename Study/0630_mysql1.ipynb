{
 "cells": [
  {
   "cell_type": "code",
   "execution_count": 1,
   "id": "1634f67a-bc0e-4e6e-8d2c-2beadb0698fe",
   "metadata": {},
   "outputs": [],
   "source": [
    "import MySQLdb"
   ]
  },
  {
   "cell_type": "code",
   "execution_count": 3,
   "id": "a4834712-4157-439a-a9d1-0ab2ceb618f5",
   "metadata": {},
   "outputs": [],
   "source": [
    "# 데이터베이스 연결하기\n",
    "connection = MySQLdb.connect(\n",
    "    user=\"newuser\",\n",
    "    passwd=\"1234\",\n",
    "    host=\"127.0.01\",\n",
    "    db=\"tip\",\n",
    "    charset=\"utf8\")"
   ]
  },
  {
   "cell_type": "code",
   "execution_count": 4,
   "id": "c03ea148-73e5-448d-bf03-3d2534a3b71c",
   "metadata": {},
   "outputs": [],
   "source": [
    "# 커서 생성하기\n",
    "cursor = connection.cursor()"
   ]
  },
  {
   "cell_type": "code",
   "execution_count": 5,
   "id": "bdd0ce7f-4108-4279-91f2-9416381527ae",
   "metadata": {},
   "outputs": [
    {
     "data": {
      "text/plain": [
       "0"
      ]
     },
     "execution_count": 5,
     "metadata": {},
     "output_type": "execute_result"
    }
   ],
   "source": [
    "# 실행할 때마다 다른 결과가 나오지 않게 테이블을 제거해두기\n",
    "cursor.execute(\"DROP TABLE IF EXISTS books\")"
   ]
  },
  {
   "cell_type": "code",
   "execution_count": 6,
   "id": "6ff73e8c-d8d8-4e4b-9230-c8c31f3dc3cc",
   "metadata": {},
   "outputs": [
    {
     "data": {
      "text/plain": [
       "0"
      ]
     },
     "execution_count": 6,
     "metadata": {},
     "output_type": "execute_result"
    }
   ],
   "source": [
    "# 테이블 생성하기\n",
    "cursor.execute(\"CREATE TABLE books (title text, url text)\")"
   ]
  },
  {
   "cell_type": "code",
   "execution_count": 7,
   "id": "1ccfdd52-3c0b-4713-ab43-f047a4e83851",
   "metadata": {},
   "outputs": [
    {
     "data": {
      "text/plain": [
       "1"
      ]
     },
     "execution_count": 7,
     "metadata": {},
     "output_type": "execute_result"
    }
   ],
   "source": [
    "# 데이터 저장하기\n",
    "cursor.execute(\"INSERT INTO books VALUES(%s, %s)\", (\"처음 시작하는 파이썬 프로그래밍\", \"https://example.com\"))"
   ]
  },
  {
   "cell_type": "code",
   "execution_count": 8,
   "id": "20a91102-1238-4b0e-9b6d-4a49340d0791",
   "metadata": {},
   "outputs": [],
   "source": [
    "# 커밋하기\n",
    "connection.commit()"
   ]
  },
  {
   "cell_type": "code",
   "execution_count": null,
   "id": "29744a5b-2520-460c-b0d5-9966b65cc78f",
   "metadata": {},
   "outputs": [],
   "source": [
    "# 연결 종료하기\n",
    "connection.close()"
   ]
  }
 ],
 "metadata": {
  "kernelspec": {
   "display_name": "Python Django",
   "language": "python",
   "name": "django"
  },
  "language_info": {
   "codemirror_mode": {
    "name": "ipython",
    "version": 3
   },
   "file_extension": ".py",
   "mimetype": "text/x-python",
   "name": "python",
   "nbconvert_exporter": "python",
   "pygments_lexer": "ipython3",
   "version": "3.8.3"
  }
 },
 "nbformat": 4,
 "nbformat_minor": 5
}
