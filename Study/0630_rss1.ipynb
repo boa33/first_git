{
 "cells": [
  {
   "cell_type": "code",
   "execution_count": 7,
   "id": "b1ded1c5-69aa-455d-a710-5095e2ba2f5b",
   "metadata": {},
   "outputs": [],
   "source": [
    "import requests\n",
    "import lxml.html\n",
    "import cssselect"
   ]
  },
  {
   "cell_type": "code",
   "execution_count": 8,
   "id": "4fb44036-62d8-43ce-a63b-17e034d8226f",
   "metadata": {
    "tags": []
   },
   "outputs": [],
   "source": [
    "# HTML 소스 코드를 읽어 들입니다.\n",
    "r = requests.get(\"http://wikibook.co.kr/python-for-web-scraping/\")"
   ]
  },
  {
   "cell_type": "code",
   "execution_count": 17,
   "id": "4458de8b-8322-4874-9a07-60a37e2bffa6",
   "metadata": {
    "tags": []
   },
   "outputs": [],
   "source": [
    "html = r.text"
   ]
  },
  {
   "cell_type": "code",
   "execution_count": 18,
   "id": "2a10991f-b904-4f60-8584-efb4ae09006d",
   "metadata": {},
   "outputs": [],
   "source": [
    "#content > div:nth-child(1) > div.col-md-9 > h1"
   ]
  },
  {
   "cell_type": "code",
   "execution_count": 19,
   "id": "3556c91e-a9d7-40bc-9831-a41af8aa3357",
   "metadata": {
    "tags": []
   },
   "outputs": [],
   "source": [
    "# HTML을 HtmlElement 객체로 변환합니다.\n",
    "root = lxml.html.fromstring(html)"
   ]
  },
  {
   "cell_type": "code",
   "execution_count": 20,
   "id": "5cc643e7-fd88-468f-94e5-03b2a899dd90",
   "metadata": {
    "tags": []
   },
   "outputs": [],
   "source": [
    "# XPath를 사용해서 요소를 추출합니다.\n",
    "titleElement = root.xpath('//*[@id=\"content\"]/div[1]/div[2]/h1')"
   ]
  },
  {
   "cell_type": "code",
   "execution_count": 21,
   "id": "8c07cf89-ad82-4474-b050-f8fbc62eb948",
   "metadata": {
    "tags": []
   },
   "outputs": [
    {
     "name": "stdout",
     "output_type": "stream",
     "text": [
      "파이썬을 이용한 웹 크롤링과 스크레이핑\n"
     ]
    }
   ],
   "source": [
    "# 리스트의 첫 번째 요소가 가진 텍스트를 출력합니다.\n",
    "print(titleElement[0].text)"
   ]
  },
  {
   "cell_type": "code",
   "execution_count": 22,
   "id": "d1436015-0a98-4d10-ad66-8ffaca7717b7",
   "metadata": {
    "tags": []
   },
   "outputs": [],
   "source": [
    "# CSS 선택자를 사용해서 요소를 추출합니다.\n",
    "linkAs = root.cssselect('#book-stores > li > a')"
   ]
  },
  {
   "cell_type": "code",
   "execution_count": 23,
   "id": "83bac06e-da6a-4546-b25f-a16caa233123",
   "metadata": {
    "tags": []
   },
   "outputs": [
    {
     "name": "stdout",
     "output_type": "stream",
     "text": [
      "http://www.yes24.com/24/goods/59307498\n",
      "http://www.kyobobook.co.kr/product/detailViewKor.laf?barcode=9791158390952\n",
      "http://book.interpark.com/product/BookDisplay.do?_method=detail&sc.prdNo=281415537\n",
      "http://www.aladin.co.kr/shop/wproduct.aspx?ItemId=137872443\n"
     ]
    }
   ],
   "source": [
    "## for 반복문으로 추출한 요소의 href 속성을 추출합니다.\n",
    "for linkA in linkAs:\n",
    "    print(linkA.attrib[\"href\"])"
   ]
  }
 ],
 "metadata": {
  "kernelspec": {
   "display_name": "Python Django",
   "language": "python",
   "name": "django"
  },
  "language_info": {
   "codemirror_mode": {
    "name": "ipython",
    "version": 3
   },
   "file_extension": ".py",
   "mimetype": "text/x-python",
   "name": "python",
   "nbconvert_exporter": "python",
   "pygments_lexer": "ipython3",
   "version": "3.8.3"
  }
 },
 "nbformat": 4,
 "nbformat_minor": 5
}
