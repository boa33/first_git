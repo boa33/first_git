{
 "cells": [
  {
   "cell_type": "markdown",
   "id": "039d24b0-9ff6-4c0c-8495-235772493466",
   "metadata": {},
   "source": [
    "선형 : 리스트(선형, 연결), 스택, 큐\n",
    "비선형 : 트리, 그래프"
   ]
  },
  {
   "cell_type": "markdown",
   "id": "5837c09c-3b84-46c0-af95-dcb5a6bcd4bd",
   "metadata": {},
   "source": [
    "# 선형리스트"
   ]
  },
  {
   "cell_type": "markdown",
   "id": "4e10fefd-8b05-4738-91ad-59361130a607",
   "metadata": {},
   "source": [
    ": 데이터를 일정한 순서로 나열"
   ]
  },
  {
   "cell_type": "code",
   "execution_count": 2,
   "id": "706726c9-127f-45cd-961a-ad8e828bbaad",
   "metadata": {},
   "outputs": [
    {
     "name": "stdout",
     "output_type": "stream",
     "text": [
      "['다현', '정연', '쯔위', '사나', '지효']\n"
     ]
    }
   ],
   "source": [
    "katok=[\"다현\",\"정연\",'쯔위',\"사나\",\"지효\"]\n",
    "print(katok)"
   ]
  },
  {
   "cell_type": "code",
   "execution_count": 3,
   "id": "ad7cbc9d-241f-4b71-91ae-a7a3146a73c1",
   "metadata": {},
   "outputs": [
    {
     "name": "stdout",
     "output_type": "stream",
     "text": [
      "다현\n"
     ]
    }
   ],
   "source": [
    "print(katok[0])"
   ]
  },
  {
   "cell_type": "code",
   "execution_count": 4,
   "id": "fc194eaf-b7e7-438a-8e07-9320c348f212",
   "metadata": {},
   "outputs": [
    {
     "name": "stdout",
     "output_type": "stream",
     "text": [
      "지효\n"
     ]
    }
   ],
   "source": [
    "print(katok[4])"
   ]
  },
  {
   "cell_type": "code",
   "execution_count": 5,
   "id": "b718bf28-33c6-486f-8895-e50783ff4c54",
   "metadata": {},
   "outputs": [],
   "source": [
    "katok.append(None)"
   ]
  },
  {
   "cell_type": "code",
   "execution_count": 7,
   "id": "cd5f01f8-6689-44d5-9352-4632aa464f03",
   "metadata": {},
   "outputs": [
    {
     "name": "stdout",
     "output_type": "stream",
     "text": [
      "['다현', '정연', '쯔위', '사나', '지효', None]\n"
     ]
    }
   ],
   "source": [
    "print(katok)"
   ]
  },
  {
   "cell_type": "code",
   "execution_count": 8,
   "id": "36bb3eca-8ccd-4b3b-aaa2-ee46239542aa",
   "metadata": {},
   "outputs": [],
   "source": [
    "katok[5] = '모모'"
   ]
  },
  {
   "cell_type": "code",
   "execution_count": 9,
   "id": "2e3488f4-daf2-42a5-9c3a-1939ee73fd93",
   "metadata": {},
   "outputs": [
    {
     "name": "stdout",
     "output_type": "stream",
     "text": [
      "['다현', '정연', '쯔위', '사나', '지효', '모모']\n"
     ]
    }
   ],
   "source": [
    "print(katok)"
   ]
  },
  {
   "cell_type": "code",
   "execution_count": 10,
   "id": "84d57402-6fc1-43b7-a2ca-b56ab54d56ab",
   "metadata": {},
   "outputs": [],
   "source": [
    "katok.append(None)"
   ]
  },
  {
   "cell_type": "code",
   "execution_count": 11,
   "id": "34023974-4eaa-44b3-939e-03dbdeda26a5",
   "metadata": {},
   "outputs": [
    {
     "name": "stdout",
     "output_type": "stream",
     "text": [
      "['다현', '정연', '쯔위', '사나', '지효', '모모', None]\n"
     ]
    }
   ],
   "source": [
    "print(katok)"
   ]
  },
  {
   "cell_type": "code",
   "execution_count": 12,
   "id": "3fe4f49a-ff25-4a54-8fa8-6339922badb9",
   "metadata": {},
   "outputs": [],
   "source": [
    "katok[6] = katok[5]"
   ]
  },
  {
   "cell_type": "code",
   "execution_count": 13,
   "id": "3900d0cb-3800-4ea5-ab85-fca59fbfdd4d",
   "metadata": {},
   "outputs": [
    {
     "name": "stdout",
     "output_type": "stream",
     "text": [
      "['다현', '정연', '쯔위', '사나', '지효', '모모', '모모']\n"
     ]
    }
   ],
   "source": [
    "print(katok)"
   ]
  },
  {
   "cell_type": "code",
   "execution_count": 15,
   "id": "f1208fe0-2430-4a83-a4ff-03528c13197c",
   "metadata": {},
   "outputs": [],
   "source": [
    "katok[5] = None"
   ]
  },
  {
   "cell_type": "code",
   "execution_count": 16,
   "id": "80b67029-4da7-41ac-8f20-781857f77690",
   "metadata": {},
   "outputs": [
    {
     "name": "stdout",
     "output_type": "stream",
     "text": [
      "['다현', '정연', '쯔위', '사나', '지효', None, '모모']\n"
     ]
    }
   ],
   "source": [
    "print(katok)"
   ]
  },
  {
   "cell_type": "code",
   "execution_count": 17,
   "id": "a1e3430e-d410-492a-bf9e-6dd9f3c3796e",
   "metadata": {},
   "outputs": [],
   "source": [
    "katok[5] = katok[4];katok[4] = None"
   ]
  },
  {
   "cell_type": "code",
   "execution_count": 18,
   "id": "0b5940e0-fa4b-499d-b01c-a70d7c1d04e4",
   "metadata": {},
   "outputs": [],
   "source": [
    "katok[4] = katok[3];katok[3] = None"
   ]
  },
  {
   "cell_type": "code",
   "execution_count": 19,
   "id": "32211873-a0dd-4c86-812b-c4e822fb1744",
   "metadata": {},
   "outputs": [
    {
     "name": "stdout",
     "output_type": "stream",
     "text": [
      "['다현', '정연', '쯔위', None, '사나', '지효', '모모']\n"
     ]
    }
   ],
   "source": [
    "print(katok)"
   ]
  },
  {
   "cell_type": "code",
   "execution_count": 22,
   "id": "f78848cc-e56e-4fac-a10e-f59103c0eff4",
   "metadata": {},
   "outputs": [],
   "source": [
    "katok[3] = '미나'"
   ]
  },
  {
   "cell_type": "code",
   "execution_count": 23,
   "id": "818aaf5f-7d51-4e3c-86df-a335277b7175",
   "metadata": {},
   "outputs": [
    {
     "name": "stdout",
     "output_type": "stream",
     "text": [
      "['다현', '정연', '쯔위', '미나', '사나', '미나', '모모']\n"
     ]
    }
   ],
   "source": [
    "print(katok)"
   ]
  },
  {
   "cell_type": "code",
   "execution_count": 30,
   "id": "2488880e-fa08-4e2b-9a1f-524f45bf37ef",
   "metadata": {},
   "outputs": [
    {
     "name": "stdout",
     "output_type": "stream",
     "text": [
      "['다현', '정연', '쯔위', '미나', '사나', '지효', '모모']\n"
     ]
    }
   ],
   "source": [
    "print(katok)"
   ]
  },
  {
   "cell_type": "code",
   "execution_count": 1,
   "id": "e6a21efe-35c5-4d6f-9f8b-d82b475aa53d",
   "metadata": {},
   "outputs": [],
   "source": [
    "katok = []"
   ]
  },
  {
   "cell_type": "code",
   "execution_count": 2,
   "id": "70c305f9-d324-40b3-acf5-ec40ec60f58d",
   "metadata": {},
   "outputs": [
    {
     "name": "stdout",
     "output_type": "stream",
     "text": [
      "['다현', '정연', '쯔위', '시나', '지효']\n"
     ]
    }
   ],
   "source": [
    "def add_data(friend):\n",
    "    katok.append(None)\n",
    "    kLen = len(katok)\n",
    "    katok[kLen-1] = friend\n",
    "    \n",
    "add_data('다현')\n",
    "add_data('정연')\n",
    "add_data('쯔위')\n",
    "add_data('시나')\n",
    "add_data('지효')\n",
    "\n",
    "print(katok)"
   ]
  },
  {
   "cell_type": "code",
   "execution_count": null,
   "id": "d18c5cb6-5d59-4164-abfa-e47ba9b709c8",
   "metadata": {},
   "outputs": [],
   "source": []
  },
  {
   "cell_type": "code",
   "execution_count": null,
   "id": "d741edf5-5429-4c8b-a37b-a93a212c61b1",
   "metadata": {},
   "outputs": [],
   "source": []
  }
 ],
 "metadata": {
  "kernelspec": {
   "display_name": "Python Multi",
   "language": "python",
   "name": "multi"
  },
  "language_info": {
   "codemirror_mode": {
    "name": "ipython",
    "version": 3
   },
   "file_extension": ".py",
   "mimetype": "text/x-python",
   "name": "python",
   "nbconvert_exporter": "python",
   "pygments_lexer": "ipython3",
   "version": "3.7.6"
  }
 },
 "nbformat": 4,
 "nbformat_minor": 5
}
