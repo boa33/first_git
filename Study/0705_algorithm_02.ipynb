{
 "cells": [
  {
   "cell_type": "code",
   "execution_count": null,
   "id": "2ba1d545-e9d0-4b56-9d41-f5d34f18c8a4",
   "metadata": {},
   "outputs": [],
   "source": [
    "# 데이터 삽입"
   ]
  },
  {
   "cell_type": "code",
   "execution_count": 1,
   "id": "8bd82ffc-d6c7-4c80-9eed-92bc90fea8a3",
   "metadata": {},
   "outputs": [],
   "source": [
    "katok=['다현','정연','쯔위','사나','지효']"
   ]
  },
  {
   "cell_type": "code",
   "execution_count": 8,
   "id": "3563ab30-6489-4c0e-8a5c-20a60d5b3197",
   "metadata": {},
   "outputs": [
    {
     "name": "stdout",
     "output_type": "stream",
     "text": [
      "['다현', '정연', '솔라', '쯔위', '사나', '지효']\n"
     ]
    }
   ],
   "source": [
    "def insert_data(position, friend):\n",
    "    katok.append(None)\n",
    "    kLen = len(katok)\n",
    "    \n",
    "    for i in range(kLen-1, position, -1):\n",
    "        katok[i] = katok[i-1]\n",
    "        katok[i-1]=None\n",
    "    katok[position] = friend\n",
    "    \n",
    "insert_data(2,'솔라')\n",
    "\n",
    "print(katok)"
   ]
  },
  {
   "cell_type": "code",
   "execution_count": 2,
   "id": "6ec0337e-8ed0-4969-acda-9fb6a332c57e",
   "metadata": {},
   "outputs": [
    {
     "name": "stdout",
     "output_type": "stream",
     "text": [
      "5\n"
     ]
    }
   ],
   "source": [
    "print(len(katok))"
   ]
  },
  {
   "cell_type": "code",
   "execution_count": null,
   "id": "d802d1df-7c4b-491a-ab26-101a4881a7e1",
   "metadata": {},
   "outputs": [],
   "source": [
    "# 데이터 삭제"
   ]
  },
  {
   "cell_type": "code",
   "execution_count": 1,
   "id": "a7d011d2-3a6e-4468-8f30-8869787987be",
   "metadata": {},
   "outputs": [],
   "source": [
    "katok=['다현','정연','쯔위','사나','지효']"
   ]
  },
  {
   "cell_type": "code",
   "execution_count": 2,
   "id": "b2d5e846-e81d-44b7-b4ad-6299608c13d4",
   "metadata": {},
   "outputs": [
    {
     "name": "stdout",
     "output_type": "stream",
     "text": [
      "['다현', '쯔위', '사나', '지효']\n"
     ]
    }
   ],
   "source": [
    "def delete_data(position) :\n",
    "    kLen = len(katok)\n",
    "    katok[position]=None\n",
    "    \n",
    "    for i in range(position+1, kLen, 1) :\n",
    "        katok[i-1] = katok[i]\n",
    "        katok[i] = None\n",
    "        \n",
    "    del(katok[kLen-1])\n",
    "delete_data(1)\n",
    "print(katok)"
   ]
  },
  {
   "cell_type": "code",
   "execution_count": 1,
   "id": "c606d802-ad67-466c-b2fa-1632c8e030a6",
   "metadata": {},
   "outputs": [
    {
     "name": "stdin",
     "output_type": "stream",
     "text": [
      "선택하세요(1:추가, 2:삽입, 3:삭제, 4:종료)--> 1\n",
      "추가할 데이터 --> 다현\n"
     ]
    },
    {
     "name": "stdout",
     "output_type": "stream",
     "text": [
      "['다현']\n"
     ]
    },
    {
     "name": "stdin",
     "output_type": "stream",
     "text": [
      "선택하세요(1:추가, 2:삽입, 3:삭제, 4:종료)--> 1\n",
      "추가할 데이터 --> 정연\n"
     ]
    },
    {
     "name": "stdout",
     "output_type": "stream",
     "text": [
      "['다현', '정연']\n"
     ]
    },
    {
     "name": "stdin",
     "output_type": "stream",
     "text": [
      "선택하세요(1:추가, 2:삽입, 3:삭제, 4:종료)--> 1\n",
      "추가할 데이터 --> 쯔위\n"
     ]
    },
    {
     "name": "stdout",
     "output_type": "stream",
     "text": [
      "['다현', '정연', '쯔위']\n"
     ]
    },
    {
     "name": "stdin",
     "output_type": "stream",
     "text": [
      "선택하세요(1:추가, 2:삽입, 3:삭제, 4:종료)--> 2\n",
      "삽입할 위치--> 1\n",
      "추가할 데이터 --> 하나\n"
     ]
    },
    {
     "name": "stdout",
     "output_type": "stream",
     "text": [
      "['다현', '하나', '정연', '쯔위']\n"
     ]
    },
    {
     "name": "stdin",
     "output_type": "stream",
     "text": [
      "선택하세요(1:추가, 2:삽입, 3:삭제, 4:종료)--> 2\n",
      "삽입할 위치--> 0\n",
      "추가할 데이터 --> 문별\n"
     ]
    },
    {
     "name": "stdout",
     "output_type": "stream",
     "text": [
      "['문별', '다현', '하나', '정연', '쯔위']\n"
     ]
    },
    {
     "name": "stdin",
     "output_type": "stream",
     "text": [
      "선택하세요(1:추가, 2:삽입, 3:삭제, 4:종료)--> 3\n",
      "삭제할 위치--> 3\n"
     ]
    },
    {
     "name": "stdout",
     "output_type": "stream",
     "text": [
      "['문별', '다현', '하나', '쯔위']\n"
     ]
    },
    {
     "name": "stdin",
     "output_type": "stream",
     "text": [
      "선택하세요(1:추가, 2:삽입, 3:삭제, 4:종료)--> 4\n"
     ]
    },
    {
     "name": "stdout",
     "output_type": "stream",
     "text": [
      "['문별', '다현', '하나', '쯔위']\n"
     ]
    }
   ],
   "source": [
    "def add_data(friend):\n",
    "    \n",
    "    katok.append(None)\n",
    "    kLen = len(katok)\n",
    "    katok[kLen-1] = friend\n",
    "\n",
    "def insert_data(position, friend):\n",
    "    \n",
    "    katok.append(None)\n",
    "    kLen = len(katok)\n",
    "    \n",
    "    for i in range(kLen-1, position, -1):\n",
    "        katok[i] = katok[i-1]\n",
    "        katok[i-1]=None\n",
    "    katok[position] = friend\n",
    "\n",
    "def delete_data(position) :\n",
    "    kLen = len(katok)\n",
    "    katok[position]=None\n",
    "    \n",
    "    for i in range(position+1, kLen, 1) :\n",
    "        katok[i-1] = katok[i]\n",
    "        katok[i] = None\n",
    "        \n",
    "    del(katok[kLen-1])\n",
    "    \n",
    "katok=[]\n",
    "select= -1\n",
    "\n",
    "if __name__ == '__main__':\n",
    "    \n",
    "    while(select !=4):    \n",
    "        \n",
    "        select = int(input(\"선택하세요(1:추가, 2:삽입, 3:삭제, 4:종료)-->\"))\n",
    "        \n",
    "            \n",
    "        if (select==1) :\n",
    "            data = input(\"추가할 데이터 -->\")\n",
    "            add_data(data)\n",
    "            print(katok)\n",
    "        elif (select==2) :\n",
    "            pos = int(input(\"삽입할 위치-->\"))\n",
    "            data = input(\"추가할 데이터 -->\")\n",
    "            insert_data(pos, data)\n",
    "            print(katok)\n",
    "        elif (select==3) :\n",
    "            pos = int(input(\"삭제할 위치-->\"))\n",
    "            delete_data(pos)\n",
    "            print(katok)\n",
    "        elif (select==4) :\n",
    "            print(katok)\n",
    "            exit\n",
    "        else :\n",
    "            print('1~4 중 하나를 입력하세요.')\n",
    "            continue"
   ]
  },
  {
   "cell_type": "markdown",
   "id": "63e244b7-8f82-4f27-839e-478ac976215a",
   "metadata": {},
   "source": [
    "**단순연결 리스트의 기본**"
   ]
  },
  {
   "cell_type": "code",
   "execution_count": 6,
   "id": "2edfe273-35f0-41be-9dd8-aa37ff31db68",
   "metadata": {},
   "outputs": [
    {
     "name": "stdout",
     "output_type": "stream",
     "text": [
      "다현 정연 보아 쯔위 사나 "
     ]
    }
   ],
   "source": [
    "# 노드(데이터) 삽입\n",
    "# node1만으로 다른 노드들과 연결이 되어 있음.\n",
    "\n",
    "class Node():\n",
    "    def __init__(self):\n",
    "        self.data=None\n",
    "        self.link=None\n",
    "\n",
    "node1= Node()\n",
    "node1.data = '다현'\n",
    "\n",
    "node2 = Node()\n",
    "node2.data = '정연'\n",
    "node1.link = node2\n",
    "\n",
    "node3=Node()\n",
    "node3.data=\"쯔위\"\n",
    "node2.link = node3\n",
    "\n",
    "node4=Node()\n",
    "node4.data=\"사나\"\n",
    "node3.link = node4\n",
    "\n",
    "newNode = Node() #새로운 노드 중간에 삽입\n",
    "newNode.data = '보아'\n",
    "newNode.link = node2.link\n",
    "node2.link = newNode\n",
    "\n",
    "# node2.link = node3.link # 노드 삭제\n",
    "# del(node3)\n",
    "\n",
    "current=node1\n",
    "print(current.data, end = \" \")\n",
    "while current.link != None :\n",
    "    current = current.link\n",
    "    print(current.data, end = \" \")\n"
   ]
  },
  {
   "cell_type": "code",
   "execution_count": 14,
   "id": "25ccc4fe-28d4-40b8-8623-0b0f88821964",
   "metadata": {},
   "outputs": [
    {
     "name": "stdout",
     "output_type": "stream",
     "text": [
      "1781 2912 9966 2059 1964 5589 6246 1140 5510 2147 6427 1955 7706 7992 1746 8493 2203 6315 4427 2358 \n"
     ]
    }
   ],
   "source": [
    "# 클래스 또는 함수 선언부\n",
    "class Node():\n",
    "    def __init__(self):\n",
    "        self.data=None\n",
    "        self.link=None\n",
    "        \n",
    "def printNodes(start) : # start 이후로 모두 출력해줌 \n",
    "    current=start\n",
    "    print(current.data, end = \" \")\n",
    "    while current.link != None :\n",
    "        current = current.link\n",
    "        print(current.data, end = \" \")\n",
    "    print()\n",
    "# 전역 변수 부\n",
    "\n",
    "memory = []\n",
    "head, current, pre = None, None, None\n",
    "#(1) \n",
    "#dataArray = katok=[\"다현\",\"정연\",'쯔위',\"사나\",\"지효\"] # DB, 크롤링\n",
    "#(2)\n",
    "import random\n",
    "dataArray = [random.randint(1000,9999)for _ in range(20)]\n",
    "\n",
    "# 메인 코드부\n",
    "if __name__=='__main__' : #C, Javam C++\n",
    "    \n",
    "    node = Node()\n",
    "    node.data = dataArray[0]\n",
    "    head = node\n",
    "    memory.append(node)\n",
    "    \n",
    "    for data in dataArray[1:] : # \"정연\",'쯔위',\"사나\",\"지효\"\n",
    "        pre = node\n",
    "        node = Node()\n",
    "        node.data = data \n",
    "        pre .link = node\n",
    "        memory.append(node)\n",
    "        \n",
    "    printNodes(head)"
   ]
  },
  {
   "cell_type": "code",
   "execution_count": 18,
   "id": "9de32b3f-ee0e-4c1b-812f-bc91c489ccb9",
   "metadata": {},
   "outputs": [],
   "source": [
    "# 노드 삽입\n",
    "# 클래스 또는 함수 선언부\n",
    "class Node():\n",
    "    def __init__(self):\n",
    "        self.data=None\n",
    "        self.link=None\n",
    "        \n",
    "def printNodes(start) : # start 이후로 모두 출력해줌 \n",
    "    current=start\n",
    "    print(current.data, end = \" \")\n",
    "    while current.link != None :\n",
    "        current = current.link\n",
    "        print(current.data, end = \" \")\n",
    "    print()\n",
    "    \n",
    "def insertNode(findData, insertData):\n",
    "    global memory, head, current, pre\n",
    "    \n",
    "    if head.data == findDate :\n",
    "        node = Node()\n",
    "        node.data = insertData\n",
    "        node.link = head\n",
    "        head = node\n",
    "        return\n",
    "    \n",
    "    current = head\n",
    "    while current.link != None : \n",
    "        pre = current\n",
    "        current = current.link\n"
   ]
  },
  {
   "cell_type": "code",
   "execution_count": 19,
   "id": "aa0d506c-f773-42ce-95f0-9a81c93b9143",
   "metadata": {},
   "outputs": [],
   "source": [
    "# 노드 삭제\n",
    "\n",
    "class Node():\n",
    "    def __init__(self):\n",
    "        self.data=None\n",
    "        self.link=None\n",
    "        \n",
    "def printNodes(start) : # start 이후로 모두 출력해줌 \n",
    "    current=start\n",
    "    print(current.data, end = \" \")\n",
    "    while current.link != None :\n",
    "        current = current.link\n",
    "        print(current.data, end = \" \")\n",
    "    print()\n",
    "    \n",
    "def deleteNode(deletData) :\n",
    "    global memory, head, current, pre\n",
    "    \n",
    "    if head.data == deleteData : \n",
    "        current = head\n",
    "        head = head.link\n",
    "        del(current)\n",
    "        return\n",
    "    \n",
    "    current = head\n",
    "    while current.link != None :\n",
    "        pre = current"
   ]
  },
  {
   "cell_type": "code",
   "execution_count": 3,
   "id": "10ac53af-481b-4871-bb7e-21e7d2a01848",
   "metadata": {},
   "outputs": [],
   "source": [
    "# 예제\n",
    "\n",
    "ARRAY_LENGTH = 5  # 배열의 행과 열 크기(고정)\n",
    "\n",
    "def replaceData(numData): # numData\t2차원 정수 배열\n",
    "    retData = [] # 조건에 따라서 전처리된 2차원 배열\n",
    "\n",
    "    ###########   여기부터 코딩 (1) ---------------->\n",
    "    \n",
    "    retData = numData[:]\n",
    "    \n",
    "    for i in range(ARRAY_LENGTH) :\n",
    "        for j in range(ARRAY_LENGTH) :\n",
    "            if retData[i][j] < 0 :\n",
    "                retData[i][j] = 0\n",
    "            if retData[i][j] > 100:\n",
    "                retData[i][j] = retData[i][j] % 100\n",
    "\n",
    "\n",
    "    ###########   <-------------- 여기까지 코딩 (1)\n",
    "\n",
    "    return retData"
   ]
  },
  {
   "cell_type": "code",
   "execution_count": 4,
   "id": "091acbfc-a20f-416a-bafb-4b2e30cf75c8",
   "metadata": {},
   "outputs": [],
   "source": [
    "# 2x2 크기의 배열의 최대합을 구한다.\n",
    "def getMaxSum(numData): # 요구 사항에 맞춰 처리된 2차원 정수 배열\n",
    "    maxSum = 0 # 최대합\n",
    "\n",
    "    ###########   여기부터 코딩 (2) ---------------->\n",
    "\n",
    "    for i in range(ARRAY_LENGTH -1) :\n",
    "        for j in range(ARRAY_LENGTH -1) :\n",
    "            hap = numData[i][j] + numData[i+1][j] + \\\n",
    "                numData[i][j+1] + numData[i+1][j+1]\n",
    "            if hap > maxSum :\n",
    "                maxSum = hap\n",
    "    \n",
    "    ###########   <-------------- 여기까지 코딩 (2)\n",
    "\n",
    "    return maxSum"
   ]
  },
  {
   "cell_type": "code",
   "execution_count": 5,
   "id": "40565c3d-50f7-4484-af60-1f0836a94731",
   "metadata": {},
   "outputs": [],
   "source": [
    "def add_data(friend):\n",
    "    katok.append(None)\n",
    "    kLen = len(katok)\n",
    "    katok[kLen-1] = friend\n",
    "katok = []\n",
    "\n"
   ]
  },
  {
   "cell_type": "code",
   "execution_count": null,
   "id": "ab95b5a0-7ced-4589-8dab-ad57c73de1c7",
   "metadata": {},
   "outputs": [],
   "source": []
  }
 ],
 "metadata": {
  "kernelspec": {
   "display_name": "Python Multi",
   "language": "python",
   "name": "multi"
  },
  "language_info": {
   "codemirror_mode": {
    "name": "ipython",
    "version": 3
   },
   "file_extension": ".py",
   "mimetype": "text/x-python",
   "name": "python",
   "nbconvert_exporter": "python",
   "pygments_lexer": "ipython3",
   "version": "3.7.6"
  }
 },
 "nbformat": 4,
 "nbformat_minor": 5
}
