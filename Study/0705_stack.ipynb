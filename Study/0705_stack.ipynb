{
 "cells": [
  {
   "cell_type": "markdown",
   "id": "2c57af34-4324-4184-87b2-590ed42e63ea",
   "metadata": {},
   "source": [
    "**스택**\n",
    "데이터 삽입 : PUSH\n",
    "데이터 추출 : POP\n",
    "가장 위의 데이터 : TOP"
   ]
  },
  {
   "cell_type": "code",
   "execution_count": 1,
   "id": "f8ffdbb5-52b5-49e9-b5e0-36fcd36c1561",
   "metadata": {},
   "outputs": [
    {
     "name": "stdout",
     "output_type": "stream",
     "text": [
      "['커피', '녹차', '꿀물', None, None]\n"
     ]
    }
   ],
   "source": [
    "stack = [None,None,None,None,None ]\n",
    "top = -1\n",
    "\n",
    "top += 1\n",
    "stack[top] = \"커피\"\n",
    "top += 1\n",
    "stack[top] = \"녹차\"\n",
    "top += 1\n",
    "stack[top] = \"꿀물\"\n",
    "\n",
    "print(stack)"
   ]
  },
  {
   "cell_type": "code",
   "execution_count": 2,
   "id": "55992b2f-6108-4498-a74e-ebe89997e1a4",
   "metadata": {},
   "outputs": [
    {
     "name": "stdout",
     "output_type": "stream",
     "text": [
      "꿀물\n",
      "녹차\n",
      "커피\n"
     ]
    }
   ],
   "source": [
    "# 데이터 추출 : pop\n",
    "\n",
    "data = stack[top]\n",
    "stack[top] = None\n",
    "top -= 1\n",
    "print(data)\n",
    "\n",
    "data = stack[top]\n",
    "stack[top] = None\n",
    "top -= 1\n",
    "print(data)\n",
    "\n",
    "data = stack[top]\n",
    "stack[top] = None\n",
    "top -= 1\n",
    "print(data)"
   ]
  },
  {
   "cell_type": "code",
   "execution_count": 5,
   "id": "bf258d83-6cad-4d7b-9e52-8e4e0e16816f",
   "metadata": {},
   "outputs": [
    {
     "name": "stdout",
     "output_type": "stream",
     "text": [
      "True\n"
     ]
    }
   ],
   "source": [
    "# 데이터 삽입 과정\n",
    "# 스택이 꽉 찾는지 확인 \n",
    "\n",
    "def isStackFull() :\n",
    "    global SIZE, stack, top\n",
    "    if top >= SIZE -1 :\n",
    "        return True\n",
    "    else : \n",
    "        return False\n",
    "    \n",
    "SIZE = 5\n",
    "stack = ['커피', '녹차', ' 꿀물', '콜라', '환타']\n",
    "top = 4\n",
    "\n",
    "print(isStackFull())\n"
   ]
  },
  {
   "cell_type": "code",
   "execution_count": 3,
   "id": "236a4b74-fd08-4207-b670-b32439d68279",
   "metadata": {},
   "outputs": [
    {
     "name": "stdout",
     "output_type": "stream",
     "text": [
      "['커피', '녹차', ' 꿀물', '콜라', None]\n",
      "스택 꽉\n"
     ]
    }
   ],
   "source": [
    "# 데이터 삽입 과정\n",
    "# 스택이 꽉 찾는지 확인 \n",
    "\n",
    "def isStackFull() :\n",
    "    global SIZE, stack, top\n",
    "    if (top >= 1) :\n",
    "        return True\n",
    "    else : \n",
    "        return False\n",
    "    \n",
    "def push(data) :\n",
    "    global SIZE, stack, top\n",
    "    if (isStackFull()):\n",
    "        print(\"스택 꽉\")\n",
    "        return\n",
    "    top += 1\n",
    "    stack[top] = data\n",
    "\n",
    "SIZE = 5\n",
    "stack = ['커피', '녹차', ' 꿀물', '콜라', None]\n",
    "top = 4\n",
    "\n",
    "print(stack)\n",
    "push('환타')"
   ]
  },
  {
   "cell_type": "code",
   "execution_count": 4,
   "id": "4ba68ba6-2809-461a-bc91-1e7845cf0b5f",
   "metadata": {},
   "outputs": [
    {
     "name": "stdout",
     "output_type": "stream",
     "text": [
      "['커피', None, None, None, None]\n",
      "추출한 데이터 --> 커피\n",
      "[None, None, None, None, None]\n",
      "스택 비어\n"
     ]
    }
   ],
   "source": [
    "# 데이터 추출 과정\n",
    " \n",
    "def isStackEmpty() :\n",
    "    global SIZE, stack, top\n",
    "    if top == -1 :\n",
    "        return True\n",
    "    else : \n",
    "        return False\n",
    "    \n",
    "def pop() :\n",
    "    global SIZE, stack, top\n",
    "    if (isStackEmpty()):\n",
    "        print(\"스택 비어\")\n",
    "        return None\n",
    "    data = stack[top]\n",
    "    stack[top] = None\n",
    "    top -= 1\n",
    "    return data\n",
    "\n",
    "SIZE = 5\n",
    "stack = ['커피', None, None, None, None]\n",
    "top = 0\n",
    "\n",
    "print(stack)\n",
    "reData = pop()\n",
    "print('추출한 데이터 -->', reData)\n",
    "print(stack)\n",
    "reData = pop()\n"
   ]
  },
  {
   "cell_type": "code",
   "execution_count": null,
   "id": "db0e5a68-e182-4cf9-9537-3bfad6299186",
   "metadata": {},
   "outputs": [],
   "source": []
  },
  {
   "cell_type": "code",
   "execution_count": null,
   "id": "f238cdd1-0e6d-4654-9ab5-fac5d4c1568c",
   "metadata": {},
   "outputs": [],
   "source": []
  },
  {
   "cell_type": "code",
   "execution_count": null,
   "id": "58b859a1-a238-427d-8fbf-39d4be37e3ae",
   "metadata": {},
   "outputs": [],
   "source": []
  }
 ],
 "metadata": {
  "kernelspec": {
   "display_name": "Python Multi",
   "language": "python",
   "name": "multi"
  },
  "language_info": {
   "codemirror_mode": {
    "name": "ipython",
    "version": 3
   },
   "file_extension": ".py",
   "mimetype": "text/x-python",
   "name": "python",
   "nbconvert_exporter": "python",
   "pygments_lexer": "ipython3",
   "version": "3.7.6"
  }
 },
 "nbformat": 4,
 "nbformat_minor": 5
}
