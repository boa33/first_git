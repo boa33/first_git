{
 "cells": [
  {
   "cell_type": "code",
   "execution_count": 5,
   "id": "e6c96293-ec1c-46f1-acc7-58e8aebb19b9",
   "metadata": {},
   "outputs": [
    {
     "name": "stdout",
     "output_type": "stream",
     "text": [
      "화사 \n",
      "솔라 \n",
      "문별 선미 "
     ]
    }
   ],
   "source": [
    "# 이진 트리\n",
    "\n",
    "class TreeNode():\n",
    "    def __init__(self):\n",
    "        self.left = None\n",
    "        self.data = None\n",
    "        self.right = None\n",
    "\n",
    "node1 = TreeNode()\n",
    "node1.data = '화사'\n",
    "\n",
    "node2 = TreeNode()\n",
    "node2.data = '솔라'\n",
    "node1.left = node2\n",
    "\n",
    "node3 = TreeNode()\n",
    "node3.data = '문별'\n",
    "node1.right = node3\n",
    "\n",
    "node4 = TreeNode()\n",
    "node4.data = '휘인'\n",
    "node2.left = node4\n",
    "\n",
    "node5 = TreeNode()\n",
    "node5.data = '쯔위'\n",
    "node2.right = node5\n",
    "\n",
    "node6 = TreeNode()\n",
    "node6.data = '선미'\n",
    "node3.left = node6\n",
    "\n",
    "print(node1.data, end = \" \")\n",
    "print()\n",
    "print(node1.left.data, end = \" \")\n",
    "print()\n",
    "print(node1.right.data, end = \" \")\n",
    "print(node3.left.data, end = \" \")"
   ]
  },
  {
   "cell_type": "code",
   "execution_count": 22,
   "id": "f611553b-ed7e-409e-a152-480c298d8349",
   "metadata": {},
   "outputs": [
    {
     "name": "stdout",
     "output_type": "stream",
     "text": [
      "없음\n"
     ]
    }
   ],
   "source": [
    "# 이진 탐색 트리\n",
    "\n",
    "class TreeNode():\n",
    "    def __init__(self):\n",
    "        self.left = None\n",
    "        self.data = None\n",
    "        self.right = None\n",
    "\n",
    "# 전역 변수\n",
    "memory = []\n",
    "root = None\n",
    "# 데이터베이스 또는 크롤링으로 얻은 로우 데이터 집합\n",
    "nameAry = ['블랙','레드','에이','걸스','트와','마마무']\n",
    "\n",
    "name = nameAry[0]\n",
    "node =TreeNode()\n",
    "node.data = name\n",
    "root = node\n",
    "memory.append(node)\n",
    "\n",
    "for name in nameAry[1:] :\n",
    "    node = TreeNode() # 새 노드 생성\n",
    "    node.data = name # 새 노드에 데이터를 입력\n",
    "    current = root # 현재 작업 노트를 루트 노드로 지정\n",
    "    while True : \n",
    "        if name < current.data : # 작으면 왼쪽으로 \n",
    "            if current.left == None : # 왼쪽이 비어있으면 저장\n",
    "                current.left = node\n",
    "                break\n",
    "            current = current.left\n",
    "        else :\n",
    "            if current.right == None : \n",
    "                current.right = node\n",
    "                break\n",
    "            current = current.right\n",
    "                \n",
    "    memory.append(node)\n",
    "\n",
    "## 데이터 검색\n",
    "\n",
    "findName = '트와'\n",
    "current = root\n",
    "while True :\n",
    "    if findName == current.data :\n",
    "        print(findName,\"를 찾았음..\")\n",
    "        break\n",
    "    elif findName < current.data :\n",
    "        if current.left == None :\n",
    "            print('없음')\n",
    "            break\n",
    "        current = current.left\n",
    "    else :\n",
    "        if current.left == None :\n",
    "            print('없음')\n",
    "            break\n",
    "        current = current.right\n",
    "        \n",
    "        "
   ]
  },
  {
   "cell_type": "code",
   "execution_count": 23,
   "id": "c766281e-4ec5-4d50-88ab-65687af7eb4b",
   "metadata": {},
   "outputs": [
    {
     "name": "stdout",
     "output_type": "stream",
     "text": [
      "0 1 1 1 \n",
      "1 0 1 0 \n",
      "1 1 0 1 \n",
      "1 0 1 0 \n"
     ]
    }
   ],
   "source": [
    "# 그래프\n",
    "\n",
    "class Graph() :\n",
    "    def __init__(self, size) :\n",
    "        self.SIZE = size\n",
    "        self.graph = [[0 for _ in range(size)] for _ in range(size)]\n",
    "        \n",
    "G1, G3 = None, None\n",
    "\n",
    "## 메인 코드\n",
    "\n",
    "G1 = Graph(4)\n",
    "G1.graph[0][1] = 1 ; G1.graph[0][2] = 1; G1.graph[0][3] = 1\n",
    "G1.graph[1][0] = 1 ; G1.graph[1][2] = 1\n",
    "G1.graph[2][0] = 1 ; G1.graph[2][1] = 1; G1.graph[2][3] = 1\n",
    "G1.graph[3][0] = 1 ; G1.graph[3][2] = 1\n",
    "\n",
    "for row in range(4):\n",
    "    for col in range(4):\n",
    "        print(G1.graph[row][col], end = ' ')\n",
    "    print()"
   ]
  },
  {
   "cell_type": "code",
   "execution_count": null,
   "id": "ea62ac10-6917-4aae-ab0f-8e8a08165a13",
   "metadata": {},
   "outputs": [],
   "source": []
  }
 ],
 "metadata": {
  "kernelspec": {
   "display_name": "Python Multi",
   "language": "python",
   "name": "multi"
  },
  "language_info": {
   "codemirror_mode": {
    "name": "ipython",
    "version": 3
   },
   "file_extension": ".py",
   "mimetype": "text/x-python",
   "name": "python",
   "nbconvert_exporter": "python",
   "pygments_lexer": "ipython3",
   "version": "3.7.6"
  }
 },
 "nbformat": 4,
 "nbformat_minor": 5
}
