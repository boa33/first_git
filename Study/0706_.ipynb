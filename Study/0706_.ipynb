{
 "cells": [
  {
   "cell_type": "code",
   "execution_count": 4,
   "id": "7684b53c-fb5b-4c19-bb41-0f81e20051bf",
   "metadata": {
    "tags": []
   },
   "outputs": [
    {
     "name": "stdout",
     "output_type": "stream",
     "text": [
      "종이 상자를 엽니다. ^^\n",
      "종이 상자를 엽니다. ^^\n",
      "종이 상자를 엽니다. ^^\n",
      "종이 상자를 엽니다. ^^\n",
      "종이 상자를 엽니다. ^^\n",
      "반지를 넣고 반환\n",
      "상자 닫음\n",
      "상자 닫음\n",
      "상자 닫음\n",
      "상자 닫음\n"
     ]
    }
   ],
   "source": [
    "# 재귀호출\n",
    "\n",
    "def openBox() :\n",
    "    global count\n",
    "    print('종이 상자를 엽니다. ^^')\n",
    "    count -= 1\n",
    "    if count ==0 :\n",
    "        print(\"반지를 넣고 반환\")\n",
    "        return\n",
    "    openBox()\n",
    "    print(\"상자 닫음\")\n",
    "\n",
    "count = 5\n",
    "openBox()\n",
    "    "
   ]
  },
  {
   "cell_type": "code",
   "execution_count": 5,
   "id": "55fb6285-2e4f-4729-adca-35f4a8c719bb",
   "metadata": {},
   "outputs": [
    {
     "name": "stdout",
     "output_type": "stream",
     "text": [
      "55\n"
     ]
    }
   ],
   "source": [
    "def addNumber(num):\n",
    "    if num <= 1:\n",
    "        return 1\n",
    "    return num + addNumber(num-1)\n",
    "\n",
    "print(addNumber(10))"
   ]
  },
  {
   "cell_type": "code",
   "execution_count": 7,
   "id": "4727daba-9f21-465e-a959-8f1222c6e542",
   "metadata": {},
   "outputs": [
    {
     "name": "stdout",
     "output_type": "stream",
     "text": [
      "최솟값 :  33\n"
     ]
    }
   ],
   "source": [
    "# 정렬\n",
    "\n",
    "# 선택정렬 : 여러 데이터 중에서 가장 작은값을 뽑는 작동을 반복\n",
    "def findMinIdx(ary) :\n",
    "    minIdx = 0\n",
    "    for i in range(1,len(ary)) :\n",
    "        if (ary[minIdx] > ary[i]) :\n",
    "            minIdx = i\n",
    "    return minIdx\n",
    "\n",
    "\n",
    "testAry  = [55,88,33,77]\n",
    "minpos = findMinIdx(testAry)\n",
    "print('최솟값 : ',testAry[minpos])"
   ]
  },
  {
   "cell_type": "code",
   "execution_count": 9,
   "id": "557ec16c-fe43-4dd9-9921-0ecfd1d03aad",
   "metadata": {},
   "outputs": [
    {
     "name": "stdout",
     "output_type": "stream",
     "text": [
      "정렬전 :  [129, 142, 63, 116, 132, 70, 55, 144]\n",
      "정렬후 :  [55, 63, 70, 116, 129, 132, 142, 144]\n"
     ]
    }
   ],
   "source": [
    "# \n",
    "\n",
    "def findMinIdx(ary) :\n",
    "    minIdx = 0\n",
    "    for i in range(1,len(ary)) :\n",
    "        if (ary[minIdx] > ary[i]) :\n",
    "            minIdx = i\n",
    "    return minIdx\n",
    "\n",
    "# 전역 변수부\n",
    "import random\n",
    "before = [random.randint(50, 190) for _ in range(8)]\n",
    "after = []\n",
    "\n",
    "# 메인 코드부\n",
    "print('정렬전 : ', before)\n",
    "\n",
    "for _ in range(len(before)) :\n",
    "    minPos = findMinIdx(before)\n",
    "    after.append(before[minPos])\n",
    "    del(before[minPos])\n",
    "    \n",
    "print('정렬후 : ', after)\n",
    "\n"
   ]
  },
  {
   "cell_type": "code",
   "execution_count": 27,
   "id": "9154c06c-4592-4be6-a66b-b5062a744eb3",
   "metadata": {},
   "outputs": [
    {
     "name": "stdout",
     "output_type": "stream",
     "text": [
      "정렬전 : ['룶', '댟', '벂', '낀', '뱱']\n",
      "정렬후 : ['낀', '댟', '룶', '뱱', '벂']\n"
     ]
    }
   ],
   "source": [
    "def findMinIdx(ary) :\n",
    "    minIdx = 0\n",
    "    for i in range(1,len(ary)) :\n",
    "        if (ary[minIdx] > ary[i]) :\n",
    "            minIdx = i\n",
    "    return minIdx\n",
    "\n",
    "import random\n",
    "\n",
    "before = [chr(random.randint(44032, 50000)) for _ in range(5)]\n",
    "after = []\n",
    "\n",
    "\n",
    "print ('정렬전 :', before)\n",
    "\n",
    "for _ in range(len(before)) :\n",
    "    minPos = findMinIdx(before)\n",
    "    after.append(before[minPos])\n",
    "    del(before[minPos])\n",
    "    \n",
    "print('정렬후 :', after)"
   ]
  },
  {
   "cell_type": "code",
   "execution_count": 7,
   "id": "11930954-15a7-40be-b382-63ecba59ebeb",
   "metadata": {},
   "outputs": [
    {
     "name": "stdout",
     "output_type": "stream",
     "text": [
      "정렬전 [188, 123, 78, 66, 167, 130, 186, 104]\n",
      "정렬후 [66, 78, 104, 123, 130, 167, 186, 188]\n"
     ]
    }
   ],
   "source": [
    "\n",
    "def selectionSort(ary) :\n",
    "    n=len(ary) # 4개\n",
    "    for i in range(0, n-1) : # 반복 3회\n",
    "        minIdx = i\n",
    "        for k in range(i+1, n) : #작은 반복\n",
    "            if(ary[minIdx] > ary[k]) :\n",
    "                minIdx = k\n",
    "        ary[i], ary[minIdx] = ary[minIdx], ary[i]\n",
    "    return ary\n",
    "\n",
    "\n",
    "import random\n",
    "dataAry = [random.randint(50, 190) for _ in range(8)]\n",
    "\n",
    "\n",
    "print('정렬전', dataAry)\n",
    "dataAry = selectionSort(dataAry)\n",
    "print('정렬후', dataAry)\n",
    "\n",
    "\n",
    "\n"
   ]
  },
  {
   "cell_type": "code",
   "execution_count": 11,
   "id": "0f0656b8-01a6-48ad-aa20-7f72f68cfeb0",
   "metadata": {},
   "outputs": [
    {
     "name": "stdout",
     "output_type": "stream",
     "text": [
      "배열 :  [50, 60, 105, 120, 150, 160, 162, 168, 177]\n",
      "162 은 6 위치에 있음\n"
     ]
    }
   ],
   "source": [
    "# 이진 검색 : 전체를 반씩 잘라 내서 한쪽을 버리는 방식을 사용.\n",
    "\n",
    "\n",
    "# 함수 선언 \n",
    "\n",
    "def binSearch(ary, fDate) :\n",
    "    pos = -1 # 못찾았다는 의미\n",
    "    start = 0\n",
    "    end = len(ary) -1\n",
    "    \n",
    "    while (start <= end ):\n",
    "        mid = (start + end) //2\n",
    "        if fData == ary[mid] :\n",
    "            return mid\n",
    "        elif fData > ary[mid] :\n",
    "            start = mid +1\n",
    "        else :\n",
    "            end = mid -1\n",
    "    return pos\n",
    "\n",
    "\n",
    "# 전역 변수 \n",
    "\n",
    "dataAry = [50, 60, 105, 120, 150, 160, 162, 168, 177]\n",
    "fData = 162\n",
    "\n",
    "\n",
    "# 메인코드\n",
    "\n",
    "print('배열 : ', dataAry)\n",
    "position = binSearch(dataAry,fData)\n",
    "if position == -1 :\n",
    "    print(fData, '없네요')\n",
    "else :\n",
    "    print(fData, '은', position, '위치에 있음')"
   ]
  },
  {
   "cell_type": "code",
   "execution_count": null,
   "id": "659d9eb9-81ac-4fdf-9b73-e5d58a8bd902",
   "metadata": {},
   "outputs": [],
   "source": []
  }
 ],
 "metadata": {
  "kernelspec": {
   "display_name": "Python Multi",
   "language": "python",
   "name": "multi"
  },
  "language_info": {
   "codemirror_mode": {
    "name": "ipython",
    "version": 3
   },
   "file_extension": ".py",
   "mimetype": "text/x-python",
   "name": "python",
   "nbconvert_exporter": "python",
   "pygments_lexer": "ipython3",
   "version": "3.7.6"
  }
 },
 "nbformat": 4,
 "nbformat_minor": 5
}
