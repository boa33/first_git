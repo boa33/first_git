{
 "cells": [
  {
   "cell_type": "code",
   "execution_count": null,
   "id": "aad157cc-36aa-4028-a33d-74809765103c",
   "metadata": {},
   "outputs": [],
   "source": [
    "# Queue\n",
    "데이터 삽입 enqueue\n",
    "데이터 추출 dequeue"
   ]
  },
  {
   "cell_type": "code",
   "execution_count": 1,
   "id": "99c70f4e-fdb2-44a3-bcf4-af78f2d5eeb2",
   "metadata": {},
   "outputs": [
    {
     "name": "stdout",
     "output_type": "stream",
     "text": [
      "['화사', '솔라', '문별', None, None]\n"
     ]
    }
   ],
   "source": [
    "# 큐의 초기화\n",
    "# SIZE =5\n",
    "# queue = [ None for _ in range(SIZE)]\n",
    "queue = [None,None,None,None,None]\n",
    "front = rear = -1 # 머리와 꼬리가 비어있다.\n",
    "\n",
    "# 삽입\n",
    "rear += 1\n",
    "queue[rear] = \"화사\"\n",
    "rear += 1\n",
    "queue[rear] = \"솔라\"\n",
    "rear += 1\n",
    "queue[rear] = \"문별\"\n",
    "\n",
    "print(queue)\n"
   ]
  },
  {
   "cell_type": "code",
   "execution_count": 2,
   "id": "d91669cb-7f1f-4f88-bb98-a39ee9249cbe",
   "metadata": {},
   "outputs": [
    {
     "name": "stdout",
     "output_type": "stream",
     "text": [
      "추출--> 화사\n",
      "추출--> 솔라\n",
      "추출--> 문별\n"
     ]
    }
   ],
   "source": [
    "# 추출(삭제)\n",
    "\n",
    "front += 1\n",
    "data = queue[front]\n",
    "queue[front] = None # 삭제\n",
    "print('추출-->', data)\n",
    "\n",
    "front += 1\n",
    "data = queue[front]\n",
    "queue[front] = None # 삭제\n",
    "print('추출-->', data)\n",
    "\n",
    "front += 1\n",
    "data = queue[front]\n",
    "queue[front] = None # 삭제\n",
    "print('추출-->', data)\n"
   ]
  },
  {
   "cell_type": "code",
   "execution_count": 3,
   "id": "0525804a-2eb2-41d8-85ce-81d6ed4f93f9",
   "metadata": {},
   "outputs": [
    {
     "name": "stdout",
     "output_type": "stream",
     "text": [
      "[None, None, None, None, None]\n"
     ]
    }
   ],
   "source": [
    "print(queue)"
   ]
  },
  {
   "cell_type": "code",
   "execution_count": 12,
   "id": "00192e1f-e1a5-45fb-86c7-c702617a651b",
   "metadata": {},
   "outputs": [
    {
     "name": "stdout",
     "output_type": "stream",
     "text": [
      "[None, None, None, None, None]\n",
      "큐 꽉\n",
      "['화사', '솔라', '문별', '휘인', '재남']\n",
      "화사\n",
      "솔라\n",
      "[None, None, '문별', '휘인', '재남']\n"
     ]
    }
   ],
   "source": [
    "# 큐가 꽉 찼는지 확인하는 함수\n",
    "#if (rear 값 == 큐크기 -1) : # 큐가 꽉 찼음\n",
    "\n",
    "# 함수 선언부\n",
    "# def isQueueFull() : # 꽉 찼음\n",
    "#     global SIZE, queue, front, rear\n",
    "#     if (rear == SIZE-1):\n",
    "#         return True\n",
    "#     else :\n",
    "#         return False\n",
    "\n",
    "    \n",
    "def isQueueFull() : # 꽉 찼음\n",
    "    global SIZE, queue, front, rear\n",
    "    if (rear != SIZE-1):\n",
    "        return False\n",
    "    elif (rear == SIZE -1) and (front == -1) :\n",
    "        return True\n",
    "    else :\n",
    "        for i in range(front+1, SIZE):\n",
    "            queue[i-1] = queue[i]\n",
    "            queue[i] = None\n",
    "        front -= 1\n",
    "        rear -= 1\n",
    "        return False\n",
    "    \n",
    "\n",
    "def isQueueEmpty() :\n",
    "    global SIZE, queue, front, rear\n",
    "    if (rear == front): # 비어있음\n",
    "        return True\n",
    "    else :\n",
    "        return False\n",
    "    \n",
    "def enQueue(data) :    \n",
    "    global SIZE, queue, front, rear\n",
    "    if (isQueueFull()):\n",
    "        print(\"큐 꽉\")\n",
    "        return\n",
    "    rear += 1\n",
    "    queue[rear] = data\n",
    "    \n",
    "\n",
    "def deQueue( ) :    \n",
    "    global SIZE, queue, front, rear\n",
    "    if (isQueueEmpty()):\n",
    "        print(\"큐 텅\")\n",
    "        return None\n",
    "    front += 1\n",
    "    data = queue[front] \n",
    "    queue[front] = None\n",
    "    return data\n",
    "\n",
    "# 전역 변수부 \n",
    "SIZE = 5\n",
    "queue = [None for _ in range(SIZE)]\n",
    "front = rear = -1\n",
    "\n",
    "# 메인 코드부\n",
    "# queue = ['화사','솔라','문별','휘인','선미']\n",
    "# front = -1\n",
    "# rear = 4\n",
    "\n",
    "# print(\"큐 꽉?\",isQueueFull())\n",
    "# print(\"큐 텅?\", isQueueEmpty())\n",
    "\n",
    "print(queue)\n",
    "enQueue('화사');enQueue('솔라');enQueue('문별')\n",
    "enQueue('휘인');enQueue('재남');enQueue('현지')\n",
    "print(queue)\n",
    "retData = deQueue()\n",
    "print(retData)\n",
    "retData = deQueue()\n",
    "print(retData)\n",
    "print(queue)"
   ]
  },
  {
   "cell_type": "code",
   "execution_count": null,
   "id": "deb9a401-3b55-4c22-b998-0f327522d964",
   "metadata": {},
   "outputs": [
    {
     "name": "stdin",
     "output_type": "stream",
     "text": [
      "큐 크기를 입력 :  5\n",
      "삽입 I/추출 E/확인 V/종료 X 중 하나를 선택 : i\n",
      "입력할 데이터 : 화사\n"
     ]
    },
    {
     "name": "stdout",
     "output_type": "stream",
     "text": [
      "큐 상태 : [None, '화사', None, None, None]\n",
      "front : 0 , rear:  1\n"
     ]
    },
    {
     "name": "stdin",
     "output_type": "stream",
     "text": [
      "삽입 I/추출 E/확인 V/종료 X 중 하나를 선택 : i\n",
      "입력할 데이터 : 솔라\n"
     ]
    },
    {
     "name": "stdout",
     "output_type": "stream",
     "text": [
      "큐 상태 : [None, '화사', '솔라', None, None]\n",
      "front : 0 , rear:  2\n"
     ]
    }
   ],
   "source": [
    "# 원형 큐\n",
    "\n",
    "# 함수선언부\n",
    "\n",
    "def isQueueEmpty() :\n",
    "    global SIZE, queue, front, rear\n",
    "    if (rear == front): # 비어있음\n",
    "        return True\n",
    "    else :\n",
    "        return False\n",
    "\n",
    "def isQueueFull() : # 꽉 찼음\n",
    "    global SIZE, queue, front, rear\n",
    "    if ((rear+1) % SIZE == front):\n",
    "        return True\n",
    "    else :\n",
    "        return False\n",
    "    \n",
    "\n",
    "def enQueue(data) :    \n",
    "    global SIZE, queue, front, rear\n",
    "    if (isQueueFull()):\n",
    "        print(\"큐 꽉\")\n",
    "        return\n",
    "    rear = (rear+1)%SIZE\n",
    "    queue[rear] = data    \n",
    "    \n",
    "\n",
    "def deQueue( ) :    \n",
    "    global SIZE, queue, front, rear\n",
    "    if (isQueueEmpty()):\n",
    "        print(\"큐 텅\")\n",
    "        return None\n",
    "    front = (front+1) % SIZE\n",
    "    data = queue[front] \n",
    "    queue[front] = None\n",
    "    return data\n",
    "\n",
    "def peek() :    \n",
    "    global SIZE, queue, front, rear\n",
    "    if (isQueueEmpty()):\n",
    "        print(\"큐 텅\")\n",
    "        return None\n",
    "    return queue[(front+1) % SIZE]\n",
    "\n",
    "# 전역변수부\n",
    "\n",
    "SIZE = int(input(\"큐 크기를 입력 : \"))\n",
    "queue = [None for _ in range(SIZE)]\n",
    "front = rear = 0 # 초기화\n",
    "\n",
    "\n",
    "# 메인코드부\n",
    "\n",
    "if __name__ == \"__main__\":\n",
    "    select = input(\"삽입 I/추출 E/확인 V/종료 X 중 하나를 선택 :\")\n",
    "    \n",
    "    while(select != 'X' and select != 'x'):\n",
    "        if select == 'I' or select =='i' :\n",
    "            data = input ('입력할 데이터 :')\n",
    "            enQueue(data)\n",
    "            print('큐 상태 :', queue)\n",
    "            print('front :', front,', rear: ', rear)\n",
    "        elif select =='E' or select =='e' :\n",
    "            data = deQueue()\n",
    "            print('추출된 데이터 :', data)\n",
    "            print('큐 상태 : ', queue)\n",
    "            print('front :', front,', rear: ', rear)\n",
    "        elif select == 'V' or select =='v' :\n",
    "            data = peek\n",
    "            print('확인된 데이터 :',data)\n",
    "            print('큐 상태 :', queue)\n",
    "            print('front :', front,', rear: ', rear)\n",
    "        else :\n",
    "            print ('입력이 잘못됨')\n",
    "        \n",
    "        select = input(\"삽입 I/추출 E/확인 V/종료 X 중 하나를 선택 :\")\n",
    "    \n",
    "    print(\"프로그램 종료!\")\n",
    "            "
   ]
  },
  {
   "cell_type": "code",
   "execution_count": null,
   "id": "4d1a7596-39ab-40e3-bcab-c35d06bea36c",
   "metadata": {},
   "outputs": [],
   "source": []
  },
  {
   "cell_type": "code",
   "execution_count": null,
   "id": "df3185b9-21df-4762-b1dd-32d71bfe5f2f",
   "metadata": {},
   "outputs": [],
   "source": []
  }
 ],
 "metadata": {
  "kernelspec": {
   "display_name": "Python Multi",
   "language": "python",
   "name": "multi"
  },
  "language_info": {
   "codemirror_mode": {
    "name": "ipython",
    "version": 3
   },
   "file_extension": ".py",
   "mimetype": "text/x-python",
   "name": "python",
   "nbconvert_exporter": "python",
   "pygments_lexer": "ipython3",
   "version": "3.7.6"
  }
 },
 "nbformat": 4,
 "nbformat_minor": 5
}
