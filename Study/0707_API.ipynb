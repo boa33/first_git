{
 "cells": [
  {
   "cell_type": "code",
   "execution_count": null,
   "id": "0932b779-e083-4c4c-b6fc-b00f406d3612",
   "metadata": {},
   "outputs": [],
   "source": [
    "# 소상공인 상가업소 정보 서비스 \n",
    "# https://www.data.go.kr/iim/api/selectAPIAcountView.do"
   ]
  },
  {
   "cell_type": "code",
   "execution_count": 1,
   "id": "efcaa35e-f2af-44b6-a05e-159f162334bd",
   "metadata": {},
   "outputs": [],
   "source": [
    "api_key = '2UH2UOdM6QaHz%2F8QodiEt3lHVmABPh0cJD10ObZLggTN9D9ncMNLP0vrn4prTAXStBSoaWjq8ZHIOAuYTOC5VA%3D%3D'"
   ]
  },
  {
   "cell_type": "code",
   "execution_count": 2,
   "id": "a6d24b70-a9ca-4c71-bdb5-ee53db474c47",
   "metadata": {},
   "outputs": [],
   "source": [
    "import urllib.request"
   ]
  },
  {
   "cell_type": "code",
   "execution_count": 3,
   "id": "b0e005ee-aec9-40cb-86ad-18779576bab9",
   "metadata": {},
   "outputs": [],
   "source": [
    "url = 'http://apis.data.go.kr/B553077/api/open/sdsc/storeListInDong?divId=ctprvnCd&key=11&ServiceKey='+api_key+'&type=json'"
   ]
  },
  {
   "cell_type": "code",
   "execution_count": 5,
   "id": "a5824703-f17c-4435-84d0-a174ffb0b677",
   "metadata": {},
   "outputs": [
    {
     "data": {
      "text/plain": [
       "'http://apis.data.go.kr/B553077/api/open/sdsc/storeListInDong?divId=ctprvnCd&key=11&ServiceKey=2UH2UOdM6QaHz%2F8QodiEt3lHVmABPh0cJD10ObZLggTN9D9ncMNLP0vrn4prTAXStBSoaWjq8ZHIOAuYTOC5VA%3D%3D&type=json'"
      ]
     },
     "execution_count": 5,
     "metadata": {},
     "output_type": "execute_result"
    }
   ],
   "source": [
    "url"
   ]
  },
  {
   "cell_type": "code",
   "execution_count": 6,
   "id": "016e0be6-1e58-4c7b-99bd-039783285448",
   "metadata": {},
   "outputs": [],
   "source": [
    "response = urllib.request.urlopen(url)"
   ]
  },
  {
   "cell_type": "code",
   "execution_count": 7,
   "id": "6931aee0-bdeb-4224-85ac-b52839c84003",
   "metadata": {},
   "outputs": [
    {
     "data": {
      "text/plain": [
       "<http.client.HTTPResponse at 0x110408350>"
      ]
     },
     "execution_count": 7,
     "metadata": {},
     "output_type": "execute_result"
    }
   ],
   "source": [
    "response"
   ]
  },
  {
   "cell_type": "code",
   "execution_count": 8,
   "id": "270d44de-ea1e-437c-aa60-a83885cdcd3e",
   "metadata": {},
   "outputs": [],
   "source": [
    "json_str = response.read().decode(\"utf-8\")"
   ]
  },
  {
   "cell_type": "code",
   "execution_count": 9,
   "id": "500d80ca-252c-4252-8723-5486175e74b8",
   "metadata": {},
   "outputs": [],
   "source": [
    "import json\n",
    "json_object = json.loads(json_str)"
   ]
  },
  {
   "cell_type": "code",
   "execution_count": 10,
   "id": "d430d92e-f4b4-4855-99d9-644a74c70ad6",
   "metadata": {},
   "outputs": [],
   "source": [
    "import pandas as pd\n",
    "from pandas.io.json import json_normalize"
   ]
  },
  {
   "cell_type": "code",
   "execution_count": 11,
   "id": "0115c76f-a89d-4871-b9a0-2b6fc2961237",
   "metadata": {},
   "outputs": [],
   "source": [
    "body = [json_object['body']['items']]"
   ]
  },
  {
   "cell_type": "code",
   "execution_count": 12,
   "id": "67f5d0ac-bd34-44df-9750-15d7a350adbe",
   "metadata": {},
   "outputs": [],
   "source": [
    "df = pd.DataFrame(body)"
   ]
  },
  {
   "cell_type": "code",
   "execution_count": 13,
   "id": "fcbec25c-d44c-43c6-81ab-4097bd516cf0",
   "metadata": {},
   "outputs": [],
   "source": [
    "df.to_csv('smb.csv')"
   ]
  },
  {
   "cell_type": "code",
   "execution_count": 14,
   "id": "d4179755-5047-44f4-a253-3d0ac605979c",
   "metadata": {},
   "outputs": [
    {
     "data": {
      "text/html": [
       "<div>\n",
       "<style scoped>\n",
       "    .dataframe tbody tr th:only-of-type {\n",
       "        vertical-align: middle;\n",
       "    }\n",
       "\n",
       "    .dataframe tbody tr th {\n",
       "        vertical-align: top;\n",
       "    }\n",
       "\n",
       "    .dataframe thead th {\n",
       "        text-align: right;\n",
       "    }\n",
       "</style>\n",
       "<table border=\"1\" class=\"dataframe\">\n",
       "  <thead>\n",
       "    <tr style=\"text-align: right;\">\n",
       "      <th></th>\n",
       "      <th>0</th>\n",
       "      <th>1</th>\n",
       "      <th>2</th>\n",
       "      <th>3</th>\n",
       "      <th>4</th>\n",
       "      <th>5</th>\n",
       "      <th>6</th>\n",
       "      <th>7</th>\n",
       "      <th>8</th>\n",
       "      <th>9</th>\n",
       "      <th>10</th>\n",
       "      <th>11</th>\n",
       "      <th>12</th>\n",
       "      <th>13</th>\n",
       "      <th>14</th>\n",
       "      <th>15</th>\n",
       "      <th>16</th>\n",
       "      <th>17</th>\n",
       "      <th>18</th>\n",
       "      <th>19</th>\n",
       "    </tr>\n",
       "  </thead>\n",
       "  <tbody>\n",
       "    <tr>\n",
       "      <th>0</th>\n",
       "      <td>{'bizesId': '10004623', 'bizesNm': '이철헤어커커', '...</td>\n",
       "      <td>{'bizesId': '10004646', 'bizesNm': '이철헤어커커', '...</td>\n",
       "      <td>{'bizesId': '10025887', 'bizesNm': '잠뱅이', 'brc...</td>\n",
       "      <td>{'bizesId': '10030788', 'bizesNm': '장안순대국밥', '...</td>\n",
       "      <td>{'bizesId': '10031349', 'bizesNm': '장어야', 'brc...</td>\n",
       "      <td>{'bizesId': '10031436', 'bizesNm': '장어천국', 'br...</td>\n",
       "      <td>{'bizesId': '10034303', 'bizesNm': '재건공조', 'br...</td>\n",
       "      <td>{'bizesId': '10038561', 'bizesNm': '전자랜드', 'br...</td>\n",
       "      <td>{'bizesId': '10041487', 'bizesNm': '정관장', 'brc...</td>\n",
       "      <td>{'bizesId': '10041503', 'bizesNm': '정관장', 'brc...</td>\n",
       "      <td>{'bizesId': '10041535', 'bizesNm': '정관장', 'brc...</td>\n",
       "      <td>{'bizesId': '10050747', 'bizesNm': '제시카키친', 'b...</td>\n",
       "      <td>{'bizesId': '10056742', 'bizesNm': '제일전기조명', '...</td>\n",
       "      <td>{'bizesId': '10065677', 'bizesNm': '종가집설렁탕', '...</td>\n",
       "      <td>{'bizesId': '10075124', 'bizesNm': '준오헤어돈암2호점'...</td>\n",
       "      <td>{'bizesId': '10080606', 'bizesNm': '중화공인중개사사무소...</td>\n",
       "      <td>{'bizesId': '10082162', 'bizesNm': '즐거운짜장', 'b...</td>\n",
       "      <td>{'bizesId': '10085207', 'bizesNm': 'GS25', 'br...</td>\n",
       "      <td>{'bizesId': '10086312', 'bizesNm': '지우미용실신월점',...</td>\n",
       "      <td>{'bizesId': '10088738', 'bizesNm': '지혜수산', 'br...</td>\n",
       "    </tr>\n",
       "  </tbody>\n",
       "</table>\n",
       "</div>"
      ],
      "text/plain": [
       "                                                  0   \\\n",
       "0  {'bizesId': '10004623', 'bizesNm': '이철헤어커커', '...   \n",
       "\n",
       "                                                  1   \\\n",
       "0  {'bizesId': '10004646', 'bizesNm': '이철헤어커커', '...   \n",
       "\n",
       "                                                  2   \\\n",
       "0  {'bizesId': '10025887', 'bizesNm': '잠뱅이', 'brc...   \n",
       "\n",
       "                                                  3   \\\n",
       "0  {'bizesId': '10030788', 'bizesNm': '장안순대국밥', '...   \n",
       "\n",
       "                                                  4   \\\n",
       "0  {'bizesId': '10031349', 'bizesNm': '장어야', 'brc...   \n",
       "\n",
       "                                                  5   \\\n",
       "0  {'bizesId': '10031436', 'bizesNm': '장어천국', 'br...   \n",
       "\n",
       "                                                  6   \\\n",
       "0  {'bizesId': '10034303', 'bizesNm': '재건공조', 'br...   \n",
       "\n",
       "                                                  7   \\\n",
       "0  {'bizesId': '10038561', 'bizesNm': '전자랜드', 'br...   \n",
       "\n",
       "                                                  8   \\\n",
       "0  {'bizesId': '10041487', 'bizesNm': '정관장', 'brc...   \n",
       "\n",
       "                                                  9   \\\n",
       "0  {'bizesId': '10041503', 'bizesNm': '정관장', 'brc...   \n",
       "\n",
       "                                                  10  \\\n",
       "0  {'bizesId': '10041535', 'bizesNm': '정관장', 'brc...   \n",
       "\n",
       "                                                  11  \\\n",
       "0  {'bizesId': '10050747', 'bizesNm': '제시카키친', 'b...   \n",
       "\n",
       "                                                  12  \\\n",
       "0  {'bizesId': '10056742', 'bizesNm': '제일전기조명', '...   \n",
       "\n",
       "                                                  13  \\\n",
       "0  {'bizesId': '10065677', 'bizesNm': '종가집설렁탕', '...   \n",
       "\n",
       "                                                  14  \\\n",
       "0  {'bizesId': '10075124', 'bizesNm': '준오헤어돈암2호점'...   \n",
       "\n",
       "                                                  15  \\\n",
       "0  {'bizesId': '10080606', 'bizesNm': '중화공인중개사사무소...   \n",
       "\n",
       "                                                  16  \\\n",
       "0  {'bizesId': '10082162', 'bizesNm': '즐거운짜장', 'b...   \n",
       "\n",
       "                                                  17  \\\n",
       "0  {'bizesId': '10085207', 'bizesNm': 'GS25', 'br...   \n",
       "\n",
       "                                                  18  \\\n",
       "0  {'bizesId': '10086312', 'bizesNm': '지우미용실신월점',...   \n",
       "\n",
       "                                                  19  \n",
       "0  {'bizesId': '10088738', 'bizesNm': '지혜수산', 'br...  "
      ]
     },
     "execution_count": 14,
     "metadata": {},
     "output_type": "execute_result"
    }
   ],
   "source": [
    "df.head()"
   ]
  },
  {
   "cell_type": "code",
   "execution_count": 17,
   "id": "8c9288de-0b1c-4ee9-8f28-b64d0c82a2d2",
   "metadata": {},
   "outputs": [],
   "source": [
    "url01 ='http://apis.data.go.kr/B553077/api/open/sdsc/storeListInUpjong?divId=indsLclsCd&key=Q&ServiceKey='+api_key+'&type=json'"
   ]
  },
  {
   "cell_type": "code",
   "execution_count": 18,
   "id": "fd400e78-9a76-47b4-a8e5-996c6c3a366e",
   "metadata": {},
   "outputs": [
    {
     "data": {
      "text/plain": [
       "'http://apis.data.go.kr/B553077/api/open/sdsc/storeListInUpjong?divId=indsLclsCd&key=Q&ServiceKey=2UH2UOdM6QaHz%2F8QodiEt3lHVmABPh0cJD10ObZLggTN9D9ncMNLP0vrn4prTAXStBSoaWjq8ZHIOAuYTOC5VA%3D%3D&type=json'"
      ]
     },
     "execution_count": 18,
     "metadata": {},
     "output_type": "execute_result"
    }
   ],
   "source": [
    "url01"
   ]
  },
  {
   "cell_type": "code",
   "execution_count": 25,
   "id": "8c0131b9-7810-4f3b-9ef7-e36eaa652a70",
   "metadata": {},
   "outputs": [],
   "source": [
    "response = urllib.request.urlopen(url01)"
   ]
  },
  {
   "cell_type": "code",
   "execution_count": 26,
   "id": "a6d539d6-a04e-44d9-a1ba-cf06322ffb10",
   "metadata": {},
   "outputs": [],
   "source": [
    "json_str = response.read().decode(\"utf-8\")"
   ]
  },
  {
   "cell_type": "code",
   "execution_count": 27,
   "id": "0f597ed1-7316-4770-a4bf-0100e6934c59",
   "metadata": {},
   "outputs": [],
   "source": [
    "import json\n",
    "json_object = json.loads(json_str)"
   ]
  },
  {
   "cell_type": "code",
   "execution_count": 28,
   "id": "e0eea01a-63f7-47a7-a4b8-3f8af9e3c53e",
   "metadata": {},
   "outputs": [],
   "source": [
    "import pandas as pd\n",
    "from pandas.io.json import json_normalize"
   ]
  },
  {
   "cell_type": "code",
   "execution_count": 29,
   "id": "62680ec3-5622-49b3-a6bc-157e533cfac3",
   "metadata": {},
   "outputs": [],
   "source": [
    "body = [json_object['body']['items']]"
   ]
  },
  {
   "cell_type": "code",
   "execution_count": 30,
   "id": "b869d731-d529-4aad-9bb1-3cf7b529c080",
   "metadata": {},
   "outputs": [],
   "source": [
    "df = pd.DataFrame(body)"
   ]
  },
  {
   "cell_type": "code",
   "execution_count": 31,
   "id": "fa6837ea-9b77-4865-9aa3-a40b2e2e7aa6",
   "metadata": {},
   "outputs": [
    {
     "data": {
      "text/html": [
       "<div>\n",
       "<style scoped>\n",
       "    .dataframe tbody tr th:only-of-type {\n",
       "        vertical-align: middle;\n",
       "    }\n",
       "\n",
       "    .dataframe tbody tr th {\n",
       "        vertical-align: top;\n",
       "    }\n",
       "\n",
       "    .dataframe thead th {\n",
       "        text-align: right;\n",
       "    }\n",
       "</style>\n",
       "<table border=\"1\" class=\"dataframe\">\n",
       "  <thead>\n",
       "    <tr style=\"text-align: right;\">\n",
       "      <th></th>\n",
       "      <th>0</th>\n",
       "      <th>1</th>\n",
       "      <th>2</th>\n",
       "      <th>3</th>\n",
       "      <th>4</th>\n",
       "      <th>5</th>\n",
       "      <th>6</th>\n",
       "      <th>7</th>\n",
       "      <th>8</th>\n",
       "      <th>9</th>\n",
       "      <th>10</th>\n",
       "      <th>11</th>\n",
       "      <th>12</th>\n",
       "      <th>13</th>\n",
       "      <th>14</th>\n",
       "      <th>15</th>\n",
       "      <th>16</th>\n",
       "      <th>17</th>\n",
       "      <th>18</th>\n",
       "      <th>19</th>\n",
       "    </tr>\n",
       "  </thead>\n",
       "  <tbody>\n",
       "    <tr>\n",
       "      <th>0</th>\n",
       "      <td>{'bizesId': '10000982', 'bizesNm': '이웃사촌', 'br...</td>\n",
       "      <td>{'bizesId': '10001526', 'bizesNm': '이인영선산곱창', ...</td>\n",
       "      <td>{'bizesId': '10002470', 'bizesNm': '이조숯불갈비', '...</td>\n",
       "      <td>{'bizesId': '10002525', 'bizesNm': '이조식당', 'br...</td>\n",
       "      <td>{'bizesId': '10004196', 'bizesNm': '이창명의짜장면시키신...</td>\n",
       "      <td>{'bizesId': '10004279', 'bizesNm': '이천감자탕', 'b...</td>\n",
       "      <td>{'bizesId': '10005733', 'bizesNm': '이포천서리막국수본점...</td>\n",
       "      <td>{'bizesId': '10009195', 'bizesNm': '인수분식', 'br...</td>\n",
       "      <td>{'bizesId': '10010092', 'bizesNm': '인천기공', 'br...</td>\n",
       "      <td>{'bizesId': '10012350', 'bizesNm': '일광숯가마가든', ...</td>\n",
       "      <td>{'bizesId': '10013441', 'bizesNm': '일미가든', 'br...</td>\n",
       "      <td>{'bizesId': '10013495', 'bizesNm': '일미생삽겹살', '...</td>\n",
       "      <td>{'bizesId': '10013954', 'bizesNm': '일번지막걸리', '...</td>\n",
       "      <td>{'bizesId': '10014156', 'bizesNm': '일사천리', 'br...</td>\n",
       "      <td>{'bizesId': '10015799', 'bizesNm': '일옥식당', 'br...</td>\n",
       "      <td>{'bizesId': '10015943', 'bizesNm': '일월국밥', 'br...</td>\n",
       "      <td>{'bizesId': '10016163', 'bizesNm': '일조가든', 'br...</td>\n",
       "      <td>{'bizesId': '10016962', 'bizesNm': '정진관의일품정', ...</td>\n",
       "      <td>{'bizesId': '10017958', 'bizesNm': '임실치즈피자문화점'...</td>\n",
       "      <td>{'bizesId': '10018036', 'bizesNm': '임실치즈피자인창점'...</td>\n",
       "    </tr>\n",
       "  </tbody>\n",
       "</table>\n",
       "</div>"
      ],
      "text/plain": [
       "                                                  0   \\\n",
       "0  {'bizesId': '10000982', 'bizesNm': '이웃사촌', 'br...   \n",
       "\n",
       "                                                  1   \\\n",
       "0  {'bizesId': '10001526', 'bizesNm': '이인영선산곱창', ...   \n",
       "\n",
       "                                                  2   \\\n",
       "0  {'bizesId': '10002470', 'bizesNm': '이조숯불갈비', '...   \n",
       "\n",
       "                                                  3   \\\n",
       "0  {'bizesId': '10002525', 'bizesNm': '이조식당', 'br...   \n",
       "\n",
       "                                                  4   \\\n",
       "0  {'bizesId': '10004196', 'bizesNm': '이창명의짜장면시키신...   \n",
       "\n",
       "                                                  5   \\\n",
       "0  {'bizesId': '10004279', 'bizesNm': '이천감자탕', 'b...   \n",
       "\n",
       "                                                  6   \\\n",
       "0  {'bizesId': '10005733', 'bizesNm': '이포천서리막국수본점...   \n",
       "\n",
       "                                                  7   \\\n",
       "0  {'bizesId': '10009195', 'bizesNm': '인수분식', 'br...   \n",
       "\n",
       "                                                  8   \\\n",
       "0  {'bizesId': '10010092', 'bizesNm': '인천기공', 'br...   \n",
       "\n",
       "                                                  9   \\\n",
       "0  {'bizesId': '10012350', 'bizesNm': '일광숯가마가든', ...   \n",
       "\n",
       "                                                  10  \\\n",
       "0  {'bizesId': '10013441', 'bizesNm': '일미가든', 'br...   \n",
       "\n",
       "                                                  11  \\\n",
       "0  {'bizesId': '10013495', 'bizesNm': '일미생삽겹살', '...   \n",
       "\n",
       "                                                  12  \\\n",
       "0  {'bizesId': '10013954', 'bizesNm': '일번지막걸리', '...   \n",
       "\n",
       "                                                  13  \\\n",
       "0  {'bizesId': '10014156', 'bizesNm': '일사천리', 'br...   \n",
       "\n",
       "                                                  14  \\\n",
       "0  {'bizesId': '10015799', 'bizesNm': '일옥식당', 'br...   \n",
       "\n",
       "                                                  15  \\\n",
       "0  {'bizesId': '10015943', 'bizesNm': '일월국밥', 'br...   \n",
       "\n",
       "                                                  16  \\\n",
       "0  {'bizesId': '10016163', 'bizesNm': '일조가든', 'br...   \n",
       "\n",
       "                                                  17  \\\n",
       "0  {'bizesId': '10016962', 'bizesNm': '정진관의일품정', ...   \n",
       "\n",
       "                                                  18  \\\n",
       "0  {'bizesId': '10017958', 'bizesNm': '임실치즈피자문화점'...   \n",
       "\n",
       "                                                  19  \n",
       "0  {'bizesId': '10018036', 'bizesNm': '임실치즈피자인창점'...  "
      ]
     },
     "execution_count": 31,
     "metadata": {},
     "output_type": "execute_result"
    }
   ],
   "source": [
    "df.head()"
   ]
  },
  {
   "cell_type": "code",
   "execution_count": null,
   "id": "0c49b7a6-599c-4dd5-8105-09f3ba54b6f1",
   "metadata": {},
   "outputs": [],
   "source": []
  }
 ],
 "metadata": {
  "kernelspec": {
   "display_name": "Python Multi",
   "language": "python",
   "name": "multi"
  },
  "language_info": {
   "codemirror_mode": {
    "name": "ipython",
    "version": 3
   },
   "file_extension": ".py",
   "mimetype": "text/x-python",
   "name": "python",
   "nbconvert_exporter": "python",
   "pygments_lexer": "ipython3",
   "version": "3.7.6"
  }
 },
 "nbformat": 4,
 "nbformat_minor": 5
}
