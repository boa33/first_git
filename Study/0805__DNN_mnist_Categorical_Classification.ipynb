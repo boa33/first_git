{
  "nbformat": 4,
  "nbformat_minor": 0,
  "metadata": {
    "colab": {
      "name": "0805_ DNN_mnist_Categorical_Classification.ipynb",
      "provenance": [],
      "collapsed_sections": []
    },
    "kernelspec": {
      "name": "python3",
      "display_name": "Python 3"
    },
    "language_info": {
      "name": "python"
    },
    "accelerator": "GPU"
  },
  "cells": [
    {
      "cell_type": "markdown",
      "metadata": {
        "id": "kJRgjuySdRQg"
      },
      "source": [
        "MNIST - Categorical Classfication\n",
        "\n",
        "Overfitting Issue"
      ]
    },
    {
      "cell_type": "code",
      "metadata": {
        "id": "Lpq0PMHzdKSs"
      },
      "source": [
        "import warnings\n",
        "warnings.filterwarnings('ignore')"
      ],
      "execution_count": 1,
      "outputs": []
    },
    {
      "cell_type": "code",
      "metadata": {
        "colab": {
          "base_uri": "https://localhost:8080/",
          "height": 35
        },
        "id": "dL-VT0tVdeM7",
        "outputId": "8e38a1b7-b20b-4194-bf50-cae239a73cb2"
      },
      "source": [
        "import tensorflow as tf\n",
        "tf.__version__"
      ],
      "execution_count": 2,
      "outputs": [
        {
          "output_type": "execute_result",
          "data": {
            "application/vnd.google.colaboratory.intrinsic+json": {
              "type": "string"
            },
            "text/plain": [
              "'2.5.0'"
            ]
          },
          "metadata": {
            "tags": []
          },
          "execution_count": 2
        }
      ]
    },
    {
      "cell_type": "code",
      "metadata": {
        "colab": {
          "base_uri": "https://localhost:8080/",
          "height": 35
        },
        "id": "tLw5pgEwdl4O",
        "outputId": "46ba8f2a-a9fc-4c3e-890a-28fd2efb6542"
      },
      "source": [
        "tf.test.gpu_device_name()"
      ],
      "execution_count": 3,
      "outputs": [
        {
          "output_type": "execute_result",
          "data": {
            "application/vnd.google.colaboratory.intrinsic+json": {
              "type": "string"
            },
            "text/plain": [
              "'/device:GPU:0'"
            ]
          },
          "metadata": {
            "tags": []
          },
          "execution_count": 3
        }
      ]
    },
    {
      "cell_type": "code",
      "metadata": {
        "colab": {
          "base_uri": "https://localhost:8080/"
        },
        "id": "AbpfGZ9seHxv",
        "outputId": "b0bc949f-1394-4230-afae-e9b9d8d2b3af"
      },
      "source": [
        "from tensorflow.keras.datasets import mnist\n",
        "(X_train, y_train),(X_test,y_test) = mnist.load_data()"
      ],
      "execution_count": 4,
      "outputs": [
        {
          "output_type": "stream",
          "text": [
            "Downloading data from https://storage.googleapis.com/tensorflow/tf-keras-datasets/mnist.npz\n",
            "11493376/11490434 [==============================] - 0s 0us/step\n"
          ],
          "name": "stdout"
        }
      ]
    },
    {
      "cell_type": "code",
      "metadata": {
        "colab": {
          "base_uri": "https://localhost:8080/"
        },
        "id": "gPxtvppzevWM",
        "outputId": "6d0f6e89-7e3f-4233-a47b-5b122ffb39ce"
      },
      "source": [
        "print(len(X_train))\n",
        "print(X_train.shape)\n",
        "\n",
        "print(len(y_train))\n",
        "print(y_train[0:5])"
      ],
      "execution_count": 5,
      "outputs": [
        {
          "output_type": "stream",
          "text": [
            "60000\n",
            "(60000, 28, 28)\n",
            "60000\n",
            "[5 0 4 1 9]\n"
          ],
          "name": "stdout"
        }
      ]
    },
    {
      "cell_type": "code",
      "metadata": {
        "colab": {
          "base_uri": "https://localhost:8080/"
        },
        "id": "znnXsf-Je5pD",
        "outputId": "3aec054a-8202-4e35-d489-ebe4bd84ab48"
      },
      "source": [
        "print(len(X_test))\n",
        "print(X_test.shape)\n",
        "\n",
        "print(len(y_test))\n",
        "print(y_test[0:5])"
      ],
      "execution_count": 6,
      "outputs": [
        {
          "output_type": "stream",
          "text": [
            "10000\n",
            "(10000, 28, 28)\n",
            "10000\n",
            "[7 2 1 0 4]\n"
          ],
          "name": "stdout"
        }
      ]
    },
    {
      "cell_type": "code",
      "metadata": {
        "colab": {
          "base_uri": "https://localhost:8080/",
          "height": 265
        },
        "id": "qaIyblqDfBkA",
        "outputId": "1a73b695-8789-42cf-ca47-653868347255"
      },
      "source": [
        "import matplotlib.pyplot as plt\n",
        "\n",
        "digit = X_train[4]\n",
        "plt.imshow(digit, cmap = 'gray')\n",
        "plt.show()"
      ],
      "execution_count": 7,
      "outputs": [
        {
          "output_type": "display_data",
          "data": {
            "image/png": "[encoded data removed]",
            "text/plain": [
              "<Figure size 432x288 with 1 Axes>"
            ]
          },
          "metadata": {
            "tags": [],
            "needs_background": "light"
          }
        }
      ]
    },
    {
      "cell_type": "code",
      "metadata": {
        "colab": {
          "base_uri": "https://localhost:8080/"
        },
        "id": "rd2gHZT1fOVo",
        "outputId": "d3aba155-39f0-437e-9732-681a865c486e"
      },
      "source": [
        "import numpy as np\n",
        "np.set_printoptions(linewidth = 150)\n",
        "\n",
        "print(X_train[4])"
      ],
      "execution_count": 8,
      "outputs": [
        {
          "output_type": "stream",
          "text": [
            "[[  0   0   0   0   0   0   0   0   0   0   0   0   0   0   0   0   0   0   0   0   0   0   0   0   0   0   0   0]\n",
            " [  0   0   0   0   0   0   0   0   0   0   0   0   0   0   0   0   0   0   0   0   0   0   0   0   0   0   0   0]\n",
            " [  0   0   0   0   0   0   0   0   0   0   0   0   0   0   0   0   0   0   0   0   0   0   0   0   0   0   0   0]\n",
            " [  0   0   0   0   0   0   0   0   0   0   0   0   0   0   0   0   0   0   0   0   0   0   0   0   0   0   0   0]\n",
            " [  0   0   0   0   0   0   0   0   0   0   0   0   0   0   0   0   0   0   0   0   0   0   0   0   0   0   0   0]\n",
            " [  0   0   0   0   0   0   0   0   0   0   0   0   0   0   0   0   0   0   0   0   0   0   0   0   0   0   0   0]\n",
            " [  0   0   0   0   0   0   0   0   0   0   0   0   0   0   0   0   0   0   0   0   0   0   0   0   0   0   0   0]\n",
            " [  0   0   0   0   0   0   0   0   0   0   0   0  55 148 210 253 253 113  87 148  55   0   0   0   0   0   0   0]\n",
            " [  0   0   0   0   0   0   0   0   0   0   0  87 232 252 253 189 210 252 252 253 168   0   0   0   0   0   0   0]\n",
            " [  0   0   0   0   0   0   0   0   0   4  57 242 252 190  65   5  12 182 252 253 116   0   0   0   0   0   0   0]\n",
            " [  0   0   0   0   0   0   0   0   0  96 252 252 183  14   0   0  92 252 252 225  21   0   0   0   0   0   0   0]\n",
            " [  0   0   0   0   0   0   0   0 132 253 252 146  14   0   0   0 215 252 252  79   0   0   0   0   0   0   0   0]\n",
            " [  0   0   0   0   0   0   0 126 253 247 176   9   0   0   8  78 245 253 129   0   0   0   0   0   0   0   0   0]\n",
            " [  0   0   0   0   0   0  16 232 252 176   0   0   0  36 201 252 252 169  11   0   0   0   0   0   0   0   0   0]\n",
            " [  0   0   0   0   0   0  22 252 252  30  22 119 197 241 253 252 251  77   0   0   0   0   0   0   0   0   0   0]\n",
            " [  0   0   0   0   0   0  16 231 252 253 252 252 252 226 227 252 231   0   0   0   0   0   0   0   0   0   0   0]\n",
            " [  0   0   0   0   0   0   0  55 235 253 217 138  42  24 192 252 143   0   0   0   0   0   0   0   0   0   0   0]\n",
            " [  0   0   0   0   0   0   0   0   0   0   0   0   0  62 255 253 109   0   0   0   0   0   0   0   0   0   0   0]\n",
            " [  0   0   0   0   0   0   0   0   0   0   0   0   0  71 253 252  21   0   0   0   0   0   0   0   0   0   0   0]\n",
            " [  0   0   0   0   0   0   0   0   0   0   0   0   0   0 253 252  21   0   0   0   0   0   0   0   0   0   0   0]\n",
            " [  0   0   0   0   0   0   0   0   0   0   0   0   0  71 253 252  21   0   0   0   0   0   0   0   0   0   0   0]\n",
            " [  0   0   0   0   0   0   0   0   0   0   0   0   0 106 253 252  21   0   0   0   0   0   0   0   0   0   0   0]\n",
            " [  0   0   0   0   0   0   0   0   0   0   0   0   0  45 255 253  21   0   0   0   0   0   0   0   0   0   0   0]\n",
            " [  0   0   0   0   0   0   0   0   0   0   0   0   0   0 218 252  56   0   0   0   0   0   0   0   0   0   0   0]\n",
            " [  0   0   0   0   0   0   0   0   0   0   0   0   0   0  96 252 189  42   0   0   0   0   0   0   0   0   0   0]\n",
            " [  0   0   0   0   0   0   0   0   0   0   0   0   0   0  14 184 252 170  11   0   0   0   0   0   0   0   0   0]\n",
            " [  0   0   0   0   0   0   0   0   0   0   0   0   0   0   0  14 147 252  42   0   0   0   0   0   0   0   0   0]\n",
            " [  0   0   0   0   0   0   0   0   0   0   0   0   0   0   0   0   0   0   0   0   0   0   0   0   0   0   0   0]]\n"
          ],
          "name": "stdout"
        }
      ]
    },
    {
      "cell_type": "code",
      "metadata": {
        "colab": {
          "base_uri": "https://localhost:8080/"
        },
        "id": "Lt2zVUQefahK",
        "outputId": "c2526b6d-b50f-4106-d084-b7b7f6291d1a"
      },
      "source": [
        "# data processing\n",
        "\n",
        "X_train = X_train.reshape((60000, 28*28))\n",
        "X_test = X_test.reshape((10000, 28*28))\n",
        "\n",
        "X_train.shape, X_test.shape"
      ],
      "execution_count": 9,
      "outputs": [
        {
          "output_type": "execute_result",
          "data": {
            "text/plain": [
              "((60000, 784), (10000, 784))"
            ]
          },
          "metadata": {
            "tags": []
          },
          "execution_count": 9
        }
      ]
    },
    {
      "cell_type": "code",
      "metadata": {
        "id": "0HW8tfhdfrk5"
      },
      "source": [
        "# 정규화 normalizaation\n",
        "\n",
        "X_train = X_train.astype(float) / 255\n",
        "X_test = X_test.astype(float) / 255"
      ],
      "execution_count": 10,
      "outputs": []
    },
    {
      "cell_type": "code",
      "metadata": {
        "colab": {
          "base_uri": "https://localhost:8080/"
        },
        "id": "KuPQ-CMIgBsX",
        "outputId": "07e10338-a8c8-4761-ba37-cb00b3adc58d"
      },
      "source": [
        "print(X_train[4])"
      ],
      "execution_count": 11,
      "outputs": [
        {
          "output_type": "stream",
          "text": [
            "[0.         0.         0.         0.         0.         0.         0.         0.         0.         0.         0.         0.         0.\n",
            " 0.         0.         0.         0.         0.         0.         0.         0.         0.         0.         0.         0.         0.\n",
            " 0.         0.         0.         0.         0.         0.         0.         0.         0.         0.         0.         0.         0.\n",
            " 0.         0.         0.         0.         0.         0.         0.         0.         0.         0.         0.         0.         0.\n",
            " 0.         0.         0.         0.         0.         0.         0.         0.         0.         0.         0.         0.         0.\n",
            " 0.         0.         0.         0.         0.         0.         0.         0.         0.         0.         0.         0.         0.\n",
            " 0.         0.         0.         0.         0.         0.         0.         0.         0.         0.         0.         0.         0.\n",
            " 0.         0.         0.         0.         0.         0.         0.         0.         0.         0.         0.         0.         0.\n",
            " 0.         0.         0.         0.         0.         0.         0.         0.         0.         0.         0.         0.         0.\n",
            " 0.         0.         0.         0.         0.         0.         0.         0.         0.         0.         0.         0.         0.\n",
            " 0.         0.         0.         0.         0.         0.         0.         0.         0.         0.         0.         0.         0.\n",
            " 0.         0.         0.         0.         0.         0.         0.         0.         0.         0.         0.         0.         0.\n",
            " 0.         0.         0.         0.         0.         0.         0.         0.         0.         0.         0.         0.         0.\n",
            " 0.         0.         0.         0.         0.         0.         0.         0.         0.         0.         0.         0.         0.\n",
            " 0.         0.         0.         0.         0.         0.         0.         0.         0.         0.         0.         0.         0.\n",
            " 0.         0.         0.         0.         0.         0.         0.         0.         0.         0.         0.         0.         0.\n",
            " 0.21568627 0.58039216 0.82352941 0.99215686 0.99215686 0.44313725 0.34117647 0.58039216 0.21568627 0.         0.         0.         0.\n",
            " 0.         0.         0.         0.         0.         0.         0.         0.         0.         0.         0.         0.         0.\n",
            " 0.         0.34117647 0.90980392 0.98823529 0.99215686 0.74117647 0.82352941 0.98823529 0.98823529 0.99215686 0.65882353 0.         0.\n",
            " 0.         0.         0.         0.         0.         0.         0.         0.         0.         0.         0.         0.         0.\n",
            " 0.         0.01568627 0.22352941 0.94901961 0.98823529 0.74509804 0.25490196 0.01960784 0.04705882 0.71372549 0.98823529 0.99215686 0.45490196\n",
            " 0.         0.         0.         0.         0.         0.         0.         0.         0.         0.         0.         0.         0.\n",
            " 0.         0.         0.         0.37647059 0.98823529 0.98823529 0.71764706 0.05490196 0.         0.         0.36078431 0.98823529 0.98823529\n",
            " 0.88235294 0.08235294 0.         0.         0.         0.         0.         0.         0.         0.         0.         0.         0.\n",
            " 0.         0.         0.         0.         0.51764706 0.99215686 0.98823529 0.57254902 0.05490196 0.         0.         0.         0.84313725\n",
            " 0.98823529 0.98823529 0.30980392 0.         0.         0.         0.         0.         0.         0.         0.         0.         0.\n",
            " 0.         0.         0.         0.         0.         0.49411765 0.99215686 0.96862745 0.69019608 0.03529412 0.         0.         0.03137255\n",
            " 0.30588235 0.96078431 0.99215686 0.50588235 0.         0.         0.         0.         0.         0.         0.         0.         0.\n",
            " 0.         0.         0.         0.         0.         0.         0.0627451  0.90980392 0.98823529 0.69019608 0.         0.         0.\n",
            " 0.14117647 0.78823529 0.98823529 0.98823529 0.6627451  0.04313725 0.         0.         0.         0.         0.         0.         0.\n",
            " 0.         0.         0.         0.         0.         0.         0.         0.         0.08627451 0.98823529 0.98823529 0.11764706 0.08627451\n",
            " 0.46666667 0.77254902 0.94509804 0.99215686 0.98823529 0.98431373 0.30196078 0.         0.         0.         0.         0.         0.\n",
            " 0.         0.         0.         0.         0.         0.         0.         0.         0.         0.         0.0627451  0.90588235 0.98823529\n",
            " 0.99215686 0.98823529 0.98823529 0.98823529 0.88627451 0.89019608 0.98823529 0.90588235 0.         0.         0.         0.         0.\n",
            " 0.         0.         0.         0.         0.         0.         0.         0.         0.         0.         0.         0.         0.\n",
            " 0.21568627 0.92156863 0.99215686 0.85098039 0.54117647 0.16470588 0.09411765 0.75294118 0.98823529 0.56078431 0.         0.         0.\n",
            " 0.         0.         0.         0.         0.         0.         0.         0.         0.         0.         0.         0.         0.\n",
            " 0.         0.         0.         0.         0.         0.         0.         0.         0.24313725 1.         0.99215686 0.42745098 0.\n",
            " 0.         0.         0.         0.         0.         0.         0.         0.         0.         0.         0.         0.         0.\n",
            " 0.         0.         0.         0.         0.         0.         0.         0.         0.         0.         0.27843137 0.99215686 0.98823529\n",
            " 0.08235294 0.         0.         0.         0.         0.         0.         0.         0.         0.         0.         0.         0.\n",
            " 0.         0.         0.         0.         0.         0.         0.         0.         0.         0.         0.         0.         0.\n",
            " 0.99215686 0.98823529 0.08235294 0.         0.         0.         0.         0.         0.         0.         0.         0.         0.\n",
            " 0.         0.         0.         0.         0.         0.         0.         0.         0.         0.         0.         0.         0.\n",
            " 0.         0.27843137 0.99215686 0.98823529 0.08235294 0.         0.         0.         0.         0.         0.         0.         0.\n",
            " 0.         0.         0.         0.         0.         0.         0.         0.         0.         0.         0.         0.         0.\n",
            " 0.         0.         0.         0.41568627 0.99215686 0.98823529 0.08235294 0.         0.         0.         0.         0.         0.\n",
            " 0.         0.         0.         0.         0.         0.         0.         0.         0.         0.         0.         0.         0.\n",
            " 0.         0.         0.         0.         0.         0.17647059 1.         0.99215686 0.08235294 0.         0.         0.         0.\n",
            " 0.         0.         0.         0.         0.         0.         0.         0.         0.         0.         0.         0.         0.\n",
            " 0.         0.         0.         0.         0.         0.         0.         0.         0.85490196 0.98823529 0.21960784 0.         0.\n",
            " 0.         0.         0.         0.         0.         0.         0.         0.         0.         0.         0.         0.         0.\n",
            " 0.         0.         0.         0.         0.         0.         0.         0.         0.         0.         0.37647059 0.98823529 0.74117647\n",
            " 0.16470588 0.         0.         0.         0.         0.         0.         0.         0.         0.         0.         0.         0.\n",
            " 0.         0.         0.         0.         0.         0.         0.         0.         0.         0.         0.         0.         0.05490196\n",
            " 0.72156863 0.98823529 0.66666667 0.04313725 0.         0.         0.         0.         0.         0.         0.         0.         0.\n",
            " 0.         0.         0.         0.         0.         0.         0.         0.         0.         0.         0.         0.         0.\n",
            " 0.         0.         0.05490196 0.57647059 0.98823529 0.16470588 0.         0.         0.         0.         0.         0.         0.\n",
            " 0.         0.         0.         0.         0.         0.         0.         0.         0.         0.         0.         0.         0.\n",
            " 0.         0.         0.         0.         0.         0.         0.         0.         0.         0.         0.         0.         0.\n",
            " 0.         0.         0.         0.        ]\n"
          ],
          "name": "stdout"
        }
      ]
    },
    {
      "cell_type": "code",
      "metadata": {
        "id": "4jebXwxNgMsQ"
      },
      "source": [
        "# One Hot Encoding\n",
        "\n",
        "from tensorflow.keras.utils import to_categorical\n",
        "\n",
        "y_train = to_categorical(y_train)\n",
        "y_test = to_categorical(y_test)"
      ],
      "execution_count": 12,
      "outputs": []
    },
    {
      "cell_type": "code",
      "metadata": {
        "colab": {
          "base_uri": "https://localhost:8080/"
        },
        "id": "J9xSeLxugelf",
        "outputId": "8a056078-9740-4c0f-bcb4-35934483744d"
      },
      "source": [
        "print(y_train[:5])"
      ],
      "execution_count": 13,
      "outputs": [
        {
          "output_type": "stream",
          "text": [
            "[[0. 0. 0. 0. 0. 1. 0. 0. 0. 0.]\n",
            " [1. 0. 0. 0. 0. 0. 0. 0. 0. 0.]\n",
            " [0. 0. 0. 0. 1. 0. 0. 0. 0. 0.]\n",
            " [0. 1. 0. 0. 0. 0. 0. 0. 0. 0.]\n",
            " [0. 0. 0. 0. 0. 0. 0. 0. 0. 1.]]\n"
          ],
          "name": "stdout"
        }
      ]
    },
    {
      "cell_type": "code",
      "metadata": {
        "id": "7qlEdILdghZN"
      },
      "source": [
        "# Model Define\n",
        "\n",
        "from tensorflow.keras import models\n",
        "from tensorflow.keras import layers\n",
        "\n",
        "# 신경망 구조 - Overfitting \n",
        "  # Train_loss 와 Validation_loss 의 차이가 크게 발생 \n",
        "mnist = models.Sequential()\n",
        "mnist.add(layers.Dense(512, activation = 'relu', input_shape = (28*28,)))\n",
        "mnist.add(layers.Dense(256, activation = 'relu')) # *\n",
        "mnist.add(layers.Dense(10, activation = 'softmax'))\n",
        "\n",
        "# input output 그대로 -> * layers를 없애면 오차범위가 출어든다 "
      ],
      "execution_count": 13,
      "outputs": []
    },
    {
      "cell_type": "code",
      "metadata": {
        "id": "1hu8BakZ1lhe"
      },
      "source": [
        "# Model Define\n",
        "\n",
        "from tensorflow.keras import models\n",
        "from tensorflow.keras import layers\n",
        "\n",
        "# Model Capacity\n",
        "  # Model Capacity Layers\n",
        "\n",
        "mnist = models.Sequential()\n",
        "mnist.add(layers.Dense(256, activation = 'relu', input_shape = (28*28,)))\n",
        "mnist.add(layers.Dense(10, activation = 'softmax'))\n"
      ],
      "execution_count": 15,
      "outputs": []
    },
    {
      "cell_type": "code",
      "metadata": {
        "id": "jWx5w1nd4voh"
      },
      "source": [
        "from tensorflow.keras import models\n",
        "from tensorflow.keras import layers\n",
        "from tensorflow.keras import regularizers\n",
        "\n",
        "# L2 Regularization\n",
        "  # L2 regularization\n",
        "mnist = models.Sequential()\n",
        "mnist.add(layers.Dense(512, activation = 'relu', \n",
        "                       kernel_regularizer = regularizers.l2(0.00001),\n",
        "                       input_shape=(28*28,)))\n",
        "mnist.add(layers.Dense(256, activation = 'relu',\n",
        "                       kernel_regularizer = regularizers.l2(0.00001)))\n",
        "mnist.add(layers.Dense(10, activation = 'softmax'))"
      ],
      "execution_count": 14,
      "outputs": []
    },
    {
      "cell_type": "code",
      "metadata": {
        "id": "RBcgNFzm5jCy"
      },
      "source": [
        "from tensorflow.keras import models\n",
        "from tensorflow.keras import layers\n",
        "\n",
        "# Dropout\n",
        "\n",
        "mnist = models.Sequential()\n",
        "mnist.add(layers.Dense(512, activation = 'relu', input_shape=(28*28,)))\n",
        "mnist.add(layers.Dropout(0,4))\n",
        "mnist.add(layers.Dense(256, activation = 'relu'))\n",
        "mnist.add(layers.Dropout(0,2))\n",
        "mnist.add(layers.Dense(10, activation = 'softmax'))"
      ],
      "execution_count": 14,
      "outputs": []
    },
    {
      "cell_type": "code",
      "metadata": {
        "id": "_-iXRYLY54VP"
      },
      "source": [
        "from tensorflow.keras import models\n",
        "from tensorflow.keras import layers\n",
        "\n",
        "# Batch Normalization\n",
        "\n",
        "mnist = models.Sequential()\n",
        "mnist.add(layers.Dense(512, input_shape=(28*28,)))\n",
        "mnist.add(layers.BatchNormalization())\n",
        "mnist.add(layers.Activation('relu'))\n",
        "mnist.add(layers.Dense(256))\n",
        "mnist.add(layers.BatchNormalization())\n",
        "mnist.add(layers.Activation('relu'))\n",
        "mnist.add(layers.Dense(10, activation = 'softmax'))"
      ],
      "execution_count": 19,
      "outputs": []
    },
    {
      "cell_type": "code",
      "metadata": {
        "colab": {
          "base_uri": "https://localhost:8080/"
        },
        "id": "d_sur5BDhKZn",
        "outputId": "f5af2c2f-b1e4-45bf-ce08-79bc47464887"
      },
      "source": [
        "mnist.summary()"
      ],
      "execution_count": 15,
      "outputs": [
        {
          "output_type": "stream",
          "text": [
            "Model: \"sequential\"\n",
            "_________________________________________________________________\n",
            "Layer (type)                 Output Shape              Param #   \n",
            "=================================================================\n",
            "dense (Dense)                (None, 512)               401920    \n",
            "_________________________________________________________________\n",
            "dense_1 (Dense)              (None, 256)               131328    \n",
            "_________________________________________________________________\n",
            "dense_2 (Dense)              (None, 10)                2570      \n",
            "=================================================================\n",
            "Total params: 535,818\n",
            "Trainable params: 535,818\n",
            "Non-trainable params: 0\n",
            "_________________________________________________________________\n"
          ],
          "name": "stdout"
        }
      ]
    },
    {
      "cell_type": "code",
      "metadata": {
        "id": "eihbSOWXhOHN"
      },
      "source": [
        "mnist.compile(loss='categorical_crossentropy',\n",
        "              optimizer = 'rmsprop',\n",
        "              metrics=['accuracy'])"
      ],
      "execution_count": 16,
      "outputs": []
    },
    {
      "cell_type": "code",
      "metadata": {
        "colab": {
          "base_uri": "https://localhost:8080/"
        },
        "id": "ANZJ5iTOhemD",
        "outputId": "3c9de052-d6d2-417f-ebbe-e9ddec1f66fd"
      },
      "source": [
        "%%time\n",
        "\n",
        "Hist_mnist= mnist.fit(X_train, y_train,\n",
        "                      epochs = 100,\n",
        "                      batch_size = 128,\n",
        "                      validation_split = 0.2)"
      ],
      "execution_count": 17,
      "outputs": [
        {
          "output_type": "stream",
          "text": [
            "Epoch 1/100\n",
            "375/375 [==============================] - 5s 4ms/step - loss: 0.2625 - accuracy: 0.9231 - val_loss: 0.1499 - val_accuracy: 0.9554\n",
            "Epoch 2/100\n",
            "375/375 [==============================] - 1s 3ms/step - loss: 0.1036 - accuracy: 0.9707 - val_loss: 0.1061 - val_accuracy: 0.9724\n",
            "Epoch 3/100\n",
            "375/375 [==============================] - 1s 4ms/step - loss: 0.0717 - accuracy: 0.9813 - val_loss: 0.0943 - val_accuracy: 0.9756\n",
            "Epoch 4/100\n",
            "375/375 [==============================] - 1s 4ms/step - loss: 0.0550 - accuracy: 0.9862 - val_loss: 0.1057 - val_accuracy: 0.9742\n",
            "Epoch 5/100\n",
            "375/375 [==============================] - 1s 3ms/step - loss: 0.0463 - accuracy: 0.9891 - val_loss: 0.0966 - val_accuracy: 0.9773\n",
            "Epoch 6/100\n",
            "375/375 [==============================] - 1s 4ms/step - loss: 0.0367 - accuracy: 0.9914 - val_loss: 0.1047 - val_accuracy: 0.9767\n",
            "Epoch 7/100\n",
            "375/375 [==============================] - 1s 3ms/step - loss: 0.0343 - accuracy: 0.9927 - val_loss: 0.1062 - val_accuracy: 0.9778\n",
            "Epoch 8/100\n",
            "375/375 [==============================] - 1s 4ms/step - loss: 0.0305 - accuracy: 0.9944 - val_loss: 0.1096 - val_accuracy: 0.9787\n",
            "Epoch 9/100\n",
            "375/375 [==============================] - 1s 4ms/step - loss: 0.0287 - accuracy: 0.9945 - val_loss: 0.1083 - val_accuracy: 0.9781\n",
            "Epoch 10/100\n",
            "375/375 [==============================] - 1s 3ms/step - loss: 0.0252 - accuracy: 0.9954 - val_loss: 0.1137 - val_accuracy: 0.9786\n",
            "Epoch 11/100\n",
            "375/375 [==============================] - 1s 4ms/step - loss: 0.0251 - accuracy: 0.9956 - val_loss: 0.1154 - val_accuracy: 0.9793\n",
            "Epoch 12/100\n",
            "375/375 [==============================] - 1s 3ms/step - loss: 0.0230 - accuracy: 0.9960 - val_loss: 0.1203 - val_accuracy: 0.9787\n",
            "Epoch 13/100\n",
            "375/375 [==============================] - 1s 3ms/step - loss: 0.0226 - accuracy: 0.9958 - val_loss: 0.1131 - val_accuracy: 0.9808\n",
            "Epoch 14/100\n",
            "375/375 [==============================] - 1s 3ms/step - loss: 0.0227 - accuracy: 0.9958 - val_loss: 0.1064 - val_accuracy: 0.9809\n",
            "Epoch 15/100\n",
            "375/375 [==============================] - 1s 3ms/step - loss: 0.0215 - accuracy: 0.9962 - val_loss: 0.1400 - val_accuracy: 0.9763\n",
            "Epoch 16/100\n",
            "375/375 [==============================] - 1s 3ms/step - loss: 0.0196 - accuracy: 0.9968 - val_loss: 0.1275 - val_accuracy: 0.9775\n",
            "Epoch 17/100\n",
            "375/375 [==============================] - 1s 3ms/step - loss: 0.0205 - accuracy: 0.9962 - val_loss: 0.1218 - val_accuracy: 0.9770\n",
            "Epoch 18/100\n",
            "375/375 [==============================] - 1s 4ms/step - loss: 0.0197 - accuracy: 0.9966 - val_loss: 0.1149 - val_accuracy: 0.9787\n",
            "Epoch 19/100\n",
            "375/375 [==============================] - 1s 3ms/step - loss: 0.0190 - accuracy: 0.9969 - val_loss: 0.1153 - val_accuracy: 0.9803\n",
            "Epoch 20/100\n",
            "375/375 [==============================] - 1s 3ms/step - loss: 0.0182 - accuracy: 0.9966 - val_loss: 0.1141 - val_accuracy: 0.9809\n",
            "Epoch 21/100\n",
            "375/375 [==============================] - 1s 4ms/step - loss: 0.0175 - accuracy: 0.9970 - val_loss: 0.1247 - val_accuracy: 0.9807\n",
            "Epoch 22/100\n",
            "375/375 [==============================] - 1s 4ms/step - loss: 0.0176 - accuracy: 0.9968 - val_loss: 0.1289 - val_accuracy: 0.9787\n",
            "Epoch 23/100\n",
            "375/375 [==============================] - 1s 4ms/step - loss: 0.0170 - accuracy: 0.9971 - val_loss: 0.1452 - val_accuracy: 0.9766\n",
            "Epoch 24/100\n",
            "375/375 [==============================] - 1s 3ms/step - loss: 0.0169 - accuracy: 0.9974 - val_loss: 0.1256 - val_accuracy: 0.9795\n",
            "Epoch 25/100\n",
            "375/375 [==============================] - 1s 3ms/step - loss: 0.0168 - accuracy: 0.9971 - val_loss: 0.1167 - val_accuracy: 0.9811\n",
            "Epoch 26/100\n",
            "375/375 [==============================] - 1s 3ms/step - loss: 0.0160 - accuracy: 0.9976 - val_loss: 0.1205 - val_accuracy: 0.9803\n",
            "Epoch 27/100\n",
            "375/375 [==============================] - 1s 3ms/step - loss: 0.0162 - accuracy: 0.9973 - val_loss: 0.1187 - val_accuracy: 0.9803\n",
            "Epoch 28/100\n",
            "375/375 [==============================] - 1s 4ms/step - loss: 0.0158 - accuracy: 0.9975 - val_loss: 0.1409 - val_accuracy: 0.9760\n",
            "Epoch 29/100\n",
            "375/375 [==============================] - 1s 4ms/step - loss: 0.0166 - accuracy: 0.9970 - val_loss: 0.1257 - val_accuracy: 0.9775\n",
            "Epoch 30/100\n",
            "375/375 [==============================] - 1s 4ms/step - loss: 0.0169 - accuracy: 0.9972 - val_loss: 0.1246 - val_accuracy: 0.9803\n",
            "Epoch 31/100\n",
            "375/375 [==============================] - 1s 3ms/step - loss: 0.0152 - accuracy: 0.9975 - val_loss: 0.1133 - val_accuracy: 0.9797\n",
            "Epoch 32/100\n",
            "375/375 [==============================] - 1s 4ms/step - loss: 0.0142 - accuracy: 0.9977 - val_loss: 0.1243 - val_accuracy: 0.9789\n",
            "Epoch 33/100\n",
            "375/375 [==============================] - 1s 3ms/step - loss: 0.0150 - accuracy: 0.9975 - val_loss: 0.1348 - val_accuracy: 0.9760\n",
            "Epoch 34/100\n",
            "375/375 [==============================] - 1s 4ms/step - loss: 0.0146 - accuracy: 0.9974 - val_loss: 0.1314 - val_accuracy: 0.9782\n",
            "Epoch 35/100\n",
            "375/375 [==============================] - 1s 3ms/step - loss: 0.0140 - accuracy: 0.9977 - val_loss: 0.1358 - val_accuracy: 0.9767\n",
            "Epoch 36/100\n",
            "375/375 [==============================] - 1s 3ms/step - loss: 0.0142 - accuracy: 0.9975 - val_loss: 0.1191 - val_accuracy: 0.9815\n",
            "Epoch 37/100\n",
            "375/375 [==============================] - 1s 3ms/step - loss: 0.0142 - accuracy: 0.9976 - val_loss: 0.1253 - val_accuracy: 0.9791\n",
            "Epoch 38/100\n",
            "375/375 [==============================] - 1s 3ms/step - loss: 0.0129 - accuracy: 0.9978 - val_loss: 0.1281 - val_accuracy: 0.9792\n",
            "Epoch 39/100\n",
            "375/375 [==============================] - 1s 3ms/step - loss: 0.0131 - accuracy: 0.9981 - val_loss: 0.1353 - val_accuracy: 0.9773\n",
            "Epoch 40/100\n",
            "375/375 [==============================] - 1s 3ms/step - loss: 0.0157 - accuracy: 0.9974 - val_loss: 0.1286 - val_accuracy: 0.9801\n",
            "Epoch 41/100\n",
            "375/375 [==============================] - 1s 3ms/step - loss: 0.0142 - accuracy: 0.9976 - val_loss: 0.1189 - val_accuracy: 0.9802\n",
            "Epoch 42/100\n",
            "375/375 [==============================] - 1s 3ms/step - loss: 0.0137 - accuracy: 0.9975 - val_loss: 0.1224 - val_accuracy: 0.9808\n",
            "Epoch 43/100\n",
            "375/375 [==============================] - 1s 3ms/step - loss: 0.0129 - accuracy: 0.9978 - val_loss: 0.1333 - val_accuracy: 0.9777\n",
            "Epoch 44/100\n",
            "375/375 [==============================] - 1s 4ms/step - loss: 0.0123 - accuracy: 0.9982 - val_loss: 0.1327 - val_accuracy: 0.9783\n",
            "Epoch 45/100\n",
            "375/375 [==============================] - 1s 4ms/step - loss: 0.0137 - accuracy: 0.9979 - val_loss: 0.1248 - val_accuracy: 0.9784\n",
            "Epoch 46/100\n",
            "375/375 [==============================] - 1s 4ms/step - loss: 0.0135 - accuracy: 0.9977 - val_loss: 0.1251 - val_accuracy: 0.9793\n",
            "Epoch 47/100\n",
            "375/375 [==============================] - 1s 3ms/step - loss: 0.0130 - accuracy: 0.9980 - val_loss: 0.1379 - val_accuracy: 0.9785\n",
            "Epoch 48/100\n",
            "375/375 [==============================] - 1s 4ms/step - loss: 0.0128 - accuracy: 0.9978 - val_loss: 0.1345 - val_accuracy: 0.9778\n",
            "Epoch 49/100\n",
            "375/375 [==============================] - 1s 3ms/step - loss: 0.0136 - accuracy: 0.9976 - val_loss: 0.1282 - val_accuracy: 0.9790\n",
            "Epoch 50/100\n",
            "375/375 [==============================] - 1s 3ms/step - loss: 0.0134 - accuracy: 0.9977 - val_loss: 0.1472 - val_accuracy: 0.9757\n",
            "Epoch 51/100\n",
            "375/375 [==============================] - 1s 3ms/step - loss: 0.0118 - accuracy: 0.9980 - val_loss: 0.1315 - val_accuracy: 0.9805\n",
            "Epoch 52/100\n",
            "375/375 [==============================] - 1s 3ms/step - loss: 0.0117 - accuracy: 0.9980 - val_loss: 0.1229 - val_accuracy: 0.9804\n",
            "Epoch 53/100\n",
            "375/375 [==============================] - 1s 4ms/step - loss: 0.0121 - accuracy: 0.9983 - val_loss: 0.1274 - val_accuracy: 0.9793\n",
            "Epoch 54/100\n",
            "375/375 [==============================] - 1s 3ms/step - loss: 0.0130 - accuracy: 0.9975 - val_loss: 0.1334 - val_accuracy: 0.9791\n",
            "Epoch 55/100\n",
            "375/375 [==============================] - 1s 3ms/step - loss: 0.0134 - accuracy: 0.9973 - val_loss: 0.1352 - val_accuracy: 0.9780\n",
            "Epoch 56/100\n",
            "375/375 [==============================] - 1s 3ms/step - loss: 0.0122 - accuracy: 0.9980 - val_loss: 0.1394 - val_accuracy: 0.9758\n",
            "Epoch 57/100\n",
            "375/375 [==============================] - 1s 3ms/step - loss: 0.0136 - accuracy: 0.9975 - val_loss: 0.1314 - val_accuracy: 0.9794\n",
            "Epoch 58/100\n",
            "375/375 [==============================] - 1s 3ms/step - loss: 0.0112 - accuracy: 0.9981 - val_loss: 0.1267 - val_accuracy: 0.9797\n",
            "Epoch 59/100\n",
            "375/375 [==============================] - 1s 3ms/step - loss: 0.0125 - accuracy: 0.9978 - val_loss: 0.1300 - val_accuracy: 0.9783\n",
            "Epoch 60/100\n",
            "375/375 [==============================] - 1s 3ms/step - loss: 0.0119 - accuracy: 0.9980 - val_loss: 0.1360 - val_accuracy: 0.9793\n",
            "Epoch 61/100\n",
            "375/375 [==============================] - 1s 3ms/step - loss: 0.0115 - accuracy: 0.9977 - val_loss: 0.1297 - val_accuracy: 0.9778\n",
            "Epoch 62/100\n",
            "375/375 [==============================] - 1s 4ms/step - loss: 0.0110 - accuracy: 0.9982 - val_loss: 0.1269 - val_accuracy: 0.9794\n",
            "Epoch 63/100\n",
            "375/375 [==============================] - 1s 3ms/step - loss: 0.0118 - accuracy: 0.9979 - val_loss: 0.1499 - val_accuracy: 0.9747\n",
            "Epoch 64/100\n",
            "375/375 [==============================] - 1s 3ms/step - loss: 0.0113 - accuracy: 0.9981 - val_loss: 0.1364 - val_accuracy: 0.9800\n",
            "Epoch 65/100\n",
            "375/375 [==============================] - 1s 3ms/step - loss: 0.0124 - accuracy: 0.9980 - val_loss: 0.1542 - val_accuracy: 0.9772\n",
            "Epoch 66/100\n",
            "375/375 [==============================] - 1s 4ms/step - loss: 0.0106 - accuracy: 0.9984 - val_loss: 0.1589 - val_accuracy: 0.9796\n",
            "Epoch 67/100\n",
            "375/375 [==============================] - 1s 3ms/step - loss: 0.0125 - accuracy: 0.9978 - val_loss: 0.1704 - val_accuracy: 0.9743\n",
            "Epoch 68/100\n",
            "375/375 [==============================] - 1s 3ms/step - loss: 0.0114 - accuracy: 0.9980 - val_loss: 0.1605 - val_accuracy: 0.9762\n",
            "Epoch 69/100\n",
            "375/375 [==============================] - 1s 4ms/step - loss: 0.0124 - accuracy: 0.9978 - val_loss: 0.1484 - val_accuracy: 0.9781\n",
            "Epoch 70/100\n",
            "375/375 [==============================] - 1s 3ms/step - loss: 0.0120 - accuracy: 0.9982 - val_loss: 0.1526 - val_accuracy: 0.9755\n",
            "Epoch 71/100\n",
            "375/375 [==============================] - 1s 4ms/step - loss: 0.0114 - accuracy: 0.9981 - val_loss: 0.1501 - val_accuracy: 0.9784\n",
            "Epoch 72/100\n",
            "375/375 [==============================] - 1s 3ms/step - loss: 0.0112 - accuracy: 0.9982 - val_loss: 0.1331 - val_accuracy: 0.9797\n",
            "Epoch 73/100\n",
            "375/375 [==============================] - 1s 3ms/step - loss: 0.0117 - accuracy: 0.9980 - val_loss: 0.1405 - val_accuracy: 0.9775\n",
            "Epoch 74/100\n",
            "375/375 [==============================] - 1s 3ms/step - loss: 0.0110 - accuracy: 0.9983 - val_loss: 0.1598 - val_accuracy: 0.9779\n",
            "Epoch 75/100\n",
            "375/375 [==============================] - 1s 3ms/step - loss: 0.0107 - accuracy: 0.9983 - val_loss: 0.1412 - val_accuracy: 0.9792\n",
            "Epoch 76/100\n",
            "375/375 [==============================] - 1s 4ms/step - loss: 0.0111 - accuracy: 0.9981 - val_loss: 0.1304 - val_accuracy: 0.9808\n",
            "Epoch 77/100\n",
            "375/375 [==============================] - 1s 3ms/step - loss: 0.0113 - accuracy: 0.9982 - val_loss: 0.1841 - val_accuracy: 0.9736\n",
            "Epoch 78/100\n",
            "375/375 [==============================] - 1s 4ms/step - loss: 0.0112 - accuracy: 0.9980 - val_loss: 0.1441 - val_accuracy: 0.9772\n",
            "Epoch 79/100\n",
            "375/375 [==============================] - 1s 4ms/step - loss: 0.0115 - accuracy: 0.9979 - val_loss: 0.1243 - val_accuracy: 0.9795\n",
            "Epoch 80/100\n",
            "375/375 [==============================] - 1s 4ms/step - loss: 0.0115 - accuracy: 0.9982 - val_loss: 0.1435 - val_accuracy: 0.9799\n",
            "Epoch 81/100\n",
            "375/375 [==============================] - 1s 3ms/step - loss: 0.0120 - accuracy: 0.9980 - val_loss: 0.1399 - val_accuracy: 0.9772\n",
            "Epoch 82/100\n",
            "375/375 [==============================] - 1s 4ms/step - loss: 0.0104 - accuracy: 0.9984 - val_loss: 0.1693 - val_accuracy: 0.9743\n",
            "Epoch 83/100\n",
            "375/375 [==============================] - 1s 4ms/step - loss: 0.0109 - accuracy: 0.9981 - val_loss: 0.1464 - val_accuracy: 0.9780\n",
            "Epoch 84/100\n",
            "375/375 [==============================] - 1s 3ms/step - loss: 0.0088 - accuracy: 0.9986 - val_loss: 0.1372 - val_accuracy: 0.9797\n",
            "Epoch 85/100\n",
            "375/375 [==============================] - 1s 4ms/step - loss: 0.0111 - accuracy: 0.9981 - val_loss: 0.1503 - val_accuracy: 0.9787\n",
            "Epoch 86/100\n",
            "375/375 [==============================] - 1s 4ms/step - loss: 0.0097 - accuracy: 0.9983 - val_loss: 0.1371 - val_accuracy: 0.9806\n",
            "Epoch 87/100\n",
            "375/375 [==============================] - 1s 4ms/step - loss: 0.0105 - accuracy: 0.9984 - val_loss: 0.1539 - val_accuracy: 0.9762\n",
            "Epoch 88/100\n",
            "375/375 [==============================] - 1s 3ms/step - loss: 0.0102 - accuracy: 0.9984 - val_loss: 0.1615 - val_accuracy: 0.9765\n",
            "Epoch 89/100\n",
            "375/375 [==============================] - 1s 3ms/step - loss: 0.0106 - accuracy: 0.9983 - val_loss: 0.1527 - val_accuracy: 0.9783\n",
            "Epoch 90/100\n",
            "375/375 [==============================] - 1s 4ms/step - loss: 0.0112 - accuracy: 0.9983 - val_loss: 0.1464 - val_accuracy: 0.9789\n",
            "Epoch 91/100\n",
            "375/375 [==============================] - 1s 4ms/step - loss: 0.0113 - accuracy: 0.9982 - val_loss: 0.1360 - val_accuracy: 0.9793\n",
            "Epoch 92/100\n",
            "375/375 [==============================] - 1s 4ms/step - loss: 0.0095 - accuracy: 0.9985 - val_loss: 0.1490 - val_accuracy: 0.9778\n",
            "Epoch 93/100\n",
            "375/375 [==============================] - 1s 3ms/step - loss: 0.0115 - accuracy: 0.9979 - val_loss: 0.1443 - val_accuracy: 0.9791\n",
            "Epoch 94/100\n",
            "375/375 [==============================] - 1s 4ms/step - loss: 0.0106 - accuracy: 0.9982 - val_loss: 0.1383 - val_accuracy: 0.9789\n",
            "Epoch 95/100\n",
            "375/375 [==============================] - 1s 4ms/step - loss: 0.0100 - accuracy: 0.9983 - val_loss: 0.1603 - val_accuracy: 0.9762\n",
            "Epoch 96/100\n",
            "375/375 [==============================] - 1s 4ms/step - loss: 0.0102 - accuracy: 0.9983 - val_loss: 0.1554 - val_accuracy: 0.9769\n",
            "Epoch 97/100\n",
            "375/375 [==============================] - 1s 3ms/step - loss: 0.0111 - accuracy: 0.9980 - val_loss: 0.1560 - val_accuracy: 0.9778\n",
            "Epoch 98/100\n",
            "375/375 [==============================] - 1s 3ms/step - loss: 0.0117 - accuracy: 0.9979 - val_loss: 0.1564 - val_accuracy: 0.9767\n",
            "Epoch 99/100\n",
            "375/375 [==============================] - 1s 3ms/step - loss: 0.0102 - accuracy: 0.9984 - val_loss: 0.1641 - val_accuracy: 0.9748\n",
            "Epoch 100/100\n",
            "375/375 [==============================] - 1s 4ms/step - loss: 0.0092 - accuracy: 0.9986 - val_loss: 0.1740 - val_accuracy: 0.9758\n",
            "CPU times: user 2min 19s, sys: 17.7 s, total: 2min 36s\n",
            "Wall time: 2min 13s\n"
          ],
          "name": "stdout"
        }
      ]
    },
    {
      "cell_type": "code",
      "metadata": {
        "colab": {
          "base_uri": "https://localhost:8080/",
          "height": 404
        },
        "id": "onidhrt0h4N9",
        "outputId": "902206ff-c6ba-4717-d130-23e16c6a912f"
      },
      "source": [
        "import matplotlib.pyplot as plt\n",
        "\n",
        "epochs = range(1,len(Hist_mnist.history['loss'])+1)\n",
        "\n",
        "plt.figure(figsize = (9,6))\n",
        "plt.plot(epochs, Hist_mnist.history['loss'])\n",
        "plt.plot(epochs, Hist_mnist.history['val_loss'])\n",
        "# plt.ylim(0, 0.25)\n",
        "plt.title('Training & Validation Loss')\n",
        "plt.xlabel('Epochs')\n",
        "plt.ylabel('Loss')\n",
        "plt.legend(['Training Loss', 'Validation Loss'])\n",
        "plt.grid()\n",
        "plt.show()"
      ],
      "execution_count": 18,
      "outputs": [
        {
          "output_type": "display_data",
          "data": {
            "image/png": "[encoded data removed]",
            "text/plain": [
              "<Figure size 648x432 with 1 Axes>"
            ]
          },
          "metadata": {
            "tags": [],
            "needs_background": "light"
          }
        }
      ]
    },
    {
      "cell_type": "code",
      "metadata": {
        "colab": {
          "base_uri": "https://localhost:8080/"
        },
        "id": "W71CooxrjjMQ",
        "outputId": "53b2c981-4dcf-4151-c603-060f237a514b"
      },
      "source": [
        "loss, accuracy = mnist.evaluate(X_test, y_test)\n",
        "print('Loss = {:.5f}'.format(loss))\n",
        "print('Accuracy = {:.5f}'.format(accuracy))"
      ],
      "execution_count": 19,
      "outputs": [
        {
          "output_type": "stream",
          "text": [
            "313/313 [==============================] - 1s 2ms/step - loss: 0.1594 - accuracy: 0.9777\n",
            "Loss = 0.15942\n",
            "Accuracy = 0.97770\n"
          ],
          "name": "stdout"
        }
      ]
    },
    {
      "cell_type": "code",
      "metadata": {
        "colab": {
          "base_uri": "https://localhost:8080/"
        },
        "id": "4SS5t5Gujmag",
        "outputId": "1a849dfe-ee38-4895-9ed2-bd16058cb354"
      },
      "source": [
        "np.set_printoptions(suppress = True, precision = 9)\n",
        "print(mnist.predict(X_test[:1,:]))"
      ],
      "execution_count": 20,
      "outputs": [
        {
          "output_type": "stream",
          "text": [
            "[[0. 0. 0. 0. 0. 0. 0. 1. 0. 0.]]\n"
          ],
          "name": "stdout"
        }
      ]
    },
    {
      "cell_type": "code",
      "metadata": {
        "colab": {
          "base_uri": "https://localhost:8080/"
        },
        "id": "_sKteyxyjnOO",
        "outputId": "5f65b7ff-ccab-4509-c92a-61daae66a2db"
      },
      "source": [
        "print(mnist.predict_classes(X_test[:1,:]))"
      ],
      "execution_count": 29,
      "outputs": [
        {
          "output_type": "stream",
          "text": [
            "[7]\n"
          ],
          "name": "stdout"
        }
      ]
    },
    {
      "cell_type": "code",
      "metadata": {
        "id": "ridFQTA-jo4d"
      },
      "source": [
        ""
      ],
      "execution_count": null,
      "outputs": []
    }
  ]
}