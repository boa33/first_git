{
  "nbformat": 4,
  "nbformat_minor": 0,
  "metadata": {
    "colab": {
      "name": "0807_SimpleRNN_Test_Code_CPU.ipynb",
      "provenance": []
    },
    "kernelspec": {
      "name": "python3",
      "display_name": "Python 3"
    },
    "language_info": {
      "name": "python"
    }
  },
  "cells": [
    {
      "cell_type": "code",
      "metadata": {
        "id": "5fHtKk55uVFV"
      },
      "source": [
        "import warnings\n",
        "warnings.filterwarnings('ignore')"
      ],
      "execution_count": 1,
      "outputs": []
    },
    {
      "cell_type": "code",
      "metadata": {
        "id": "hVsq6fQRuY2F"
      },
      "source": [
        "import numpy as np\n",
        "import matplotlib.pyplot as plt"
      ],
      "execution_count": 2,
      "outputs": []
    },
    {
      "cell_type": "code",
      "metadata": {
        "colab": {
          "base_uri": "https://localhost:8080/"
        },
        "id": "Z4KwrZ9KubRT",
        "outputId": "c9ec21be-59c5-4a6c-c1f4-fa2c8b68a715"
      },
      "source": [
        "# inputs 데이터 생성\n",
        "\n",
        "\n",
        "X = [[[i+j] for i in range (5)] for j in range (100)]\n",
        "\n",
        "X[:3], X[-3:]"
      ],
      "execution_count": 3,
      "outputs": [
        {
          "output_type": "execute_result",
          "data": {
            "text/plain": [
              "([[[0], [1], [2], [3], [4]],\n",
              "  [[1], [2], [3], [4], [5]],\n",
              "  [[2], [3], [4], [5], [6]]],\n",
              " [[[97], [98], [99], [100], [101]],\n",
              "  [[98], [99], [100], [101], [102]],\n",
              "  [[99], [100], [101], [102], [103]]])"
            ]
          },
          "metadata": {
            "tags": []
          },
          "execution_count": 3
        }
      ]
    },
    {
      "cell_type": "code",
      "metadata": {
        "colab": {
          "base_uri": "https://localhost:8080/"
        },
        "id": "egneJLa4u7UX",
        "outputId": "c5870aab-c083-4a96-cfe3-ab919219a756"
      },
      "source": [
        "y = [(i+5) for i in range(100)]\n",
        "\n",
        "y[:3], y[-3:]"
      ],
      "execution_count": 4,
      "outputs": [
        {
          "output_type": "execute_result",
          "data": {
            "text/plain": [
              "([5, 6, 7], [102, 103, 104])"
            ]
          },
          "metadata": {
            "tags": []
          },
          "execution_count": 4
        }
      ]
    },
    {
      "cell_type": "code",
      "metadata": {
        "colab": {
          "base_uri": "https://localhost:8080/"
        },
        "id": "P7FTFaWJvHnB",
        "outputId": "797eba5d-a372-4723-d3b3-c0301c4a4aca"
      },
      "source": [
        "X= np.array(X,dtype= float)\n",
        "y = np.array(y, dtype= float)\n",
        "\n",
        "X.shape, y.shape"
      ],
      "execution_count": 5,
      "outputs": [
        {
          "output_type": "execute_result",
          "data": {
            "text/plain": [
              "((100, 5, 1), (100,))"
            ]
          },
          "metadata": {
            "tags": []
          },
          "execution_count": 5
        }
      ]
    },
    {
      "cell_type": "code",
      "metadata": {
        "colab": {
          "base_uri": "https://localhost:8080/"
        },
        "id": "LWSy49r9vTvp",
        "outputId": "9b938703-5460-4a18-ace8-cb9fd980e8a5"
      },
      "source": [
        "from sklearn.model_selection import train_test_split\n",
        "\n",
        "X_train, X_test, y_train, y_test = train_test_split(X,y,\n",
        "                                                    test_size = 0.2,\n",
        "                                                    random_state = 2045)\n",
        "\n",
        "X_train.shape, y_train.shape, X_test.shape, y_test.shape"
      ],
      "execution_count": 6,
      "outputs": [
        {
          "output_type": "execute_result",
          "data": {
            "text/plain": [
              "((80, 5, 1), (80,), (20, 5, 1), (20,))"
            ]
          },
          "metadata": {
            "tags": []
          },
          "execution_count": 6
        }
      ]
    },
    {
      "cell_type": "code",
      "metadata": {
        "colab": {
          "base_uri": "https://localhost:8080/"
        },
        "id": "ytQs43IFvpP5",
        "outputId": "a2eb062d-cb37-45d3-d007-dcd58f1b2eee"
      },
      "source": [
        "from tensorflow.keras import models, layers\n",
        "\n",
        "model_1 = models.Sequential(name = 'SimpleRNN_1')\n",
        "model_1.add(layers.SimpleRNN(3,\n",
        "                             input_shape = (5,1),\n",
        "                             return_sequences = False))\n",
        "\n",
        "model_1.add(layers.Dense(1))\n",
        "\n",
        "model_1.summary()\n"
      ],
      "execution_count": 8,
      "outputs": [
        {
          "output_type": "stream",
          "text": [
            "Model: \"SimpleRNN_1\"\n",
            "_________________________________________________________________\n",
            "Layer (type)                 Output Shape              Param #   \n",
            "=================================================================\n",
            "simple_rnn_1 (SimpleRNN)     (None, 3)                 15        \n",
            "_________________________________________________________________\n",
            "dense (Dense)                (None, 1)                 4         \n",
            "=================================================================\n",
            "Total params: 19\n",
            "Trainable params: 19\n",
            "Non-trainable params: 0\n",
            "_________________________________________________________________\n"
          ],
          "name": "stdout"
        }
      ]
    },
    {
      "cell_type": "code",
      "metadata": {
        "id": "c64zGsypwLnt"
      },
      "source": [
        "model_1.compile(loss = 'mse',\n",
        "                optimizer = 'adam',\n",
        "                metrics = ['accuracy'])"
      ],
      "execution_count": 9,
      "outputs": []
    },
    {
      "cell_type": "code",
      "metadata": {
        "colab": {
          "base_uri": "https://localhost:8080/"
        },
        "id": "mIlKZHAbwYkP",
        "outputId": "db76ad48-a1ac-423b-b2f9-716e9de48cd1"
      },
      "source": [
        "Hist_1 = model_1.fit(X_train, y_train,\n",
        "                     epochs = 100,\n",
        "                     batch_size = 8,\n",
        "                     validation_data = (X_test, y_test))"
      ],
      "execution_count": 10,
      "outputs": [
        {
          "output_type": "stream",
          "text": [
            "Epoch 1/100\n",
            "10/10 [==============================] - 1s 29ms/step - loss: 3807.6401 - accuracy: 0.0000e+00 - val_loss: 3760.1680 - val_accuracy: 0.0000e+00\n",
            "Epoch 2/100\n",
            "10/10 [==============================] - 0s 6ms/step - loss: 3803.2192 - accuracy: 0.0000e+00 - val_loss: 3755.8730 - val_accuracy: 0.0000e+00\n",
            "Epoch 3/100\n",
            "10/10 [==============================] - 0s 4ms/step - loss: 3799.0398 - accuracy: 0.0000e+00 - val_loss: 3751.4922 - val_accuracy: 0.0000e+00\n",
            "Epoch 4/100\n",
            "10/10 [==============================] - 0s 4ms/step - loss: 3794.7566 - accuracy: 0.0000e+00 - val_loss: 3747.1282 - val_accuracy: 0.0000e+00\n",
            "Epoch 5/100\n",
            "10/10 [==============================] - 0s 5ms/step - loss: 3790.3784 - accuracy: 0.0000e+00 - val_loss: 3742.8364 - val_accuracy: 0.0000e+00\n",
            "Epoch 6/100\n",
            "10/10 [==============================] - 0s 5ms/step - loss: 3786.1804 - accuracy: 0.0000e+00 - val_loss: 3738.4731 - val_accuracy: 0.0000e+00\n",
            "Epoch 7/100\n",
            "10/10 [==============================] - 0s 5ms/step - loss: 3781.8647 - accuracy: 0.0000e+00 - val_loss: 3734.1567 - val_accuracy: 0.0000e+00\n",
            "Epoch 8/100\n",
            "10/10 [==============================] - 0s 5ms/step - loss: 3777.6504 - accuracy: 0.0000e+00 - val_loss: 3729.8081 - val_accuracy: 0.0000e+00\n",
            "Epoch 9/100\n",
            "10/10 [==============================] - 0s 7ms/step - loss: 3773.4387 - accuracy: 0.0000e+00 - val_loss: 3725.4500 - val_accuracy: 0.0000e+00\n",
            "Epoch 10/100\n",
            "10/10 [==============================] - 0s 5ms/step - loss: 3769.1733 - accuracy: 0.0000e+00 - val_loss: 3721.1216 - val_accuracy: 0.0000e+00\n",
            "Epoch 11/100\n",
            "10/10 [==============================] - 0s 5ms/step - loss: 3764.9250 - accuracy: 0.0000e+00 - val_loss: 3716.8188 - val_accuracy: 0.0000e+00\n",
            "Epoch 12/100\n",
            "10/10 [==============================] - 0s 4ms/step - loss: 3760.6235 - accuracy: 0.0000e+00 - val_loss: 3712.5828 - val_accuracy: 0.0000e+00\n",
            "Epoch 13/100\n",
            "10/10 [==============================] - 0s 4ms/step - loss: 3756.4390 - accuracy: 0.0000e+00 - val_loss: 3708.3015 - val_accuracy: 0.0000e+00\n",
            "Epoch 14/100\n",
            "10/10 [==============================] - 0s 5ms/step - loss: 3752.2466 - accuracy: 0.0000e+00 - val_loss: 3703.9968 - val_accuracy: 0.0000e+00\n",
            "Epoch 15/100\n",
            "10/10 [==============================] - 0s 4ms/step - loss: 3747.9922 - accuracy: 0.0000e+00 - val_loss: 3699.7278 - val_accuracy: 0.0000e+00\n",
            "Epoch 16/100\n",
            "10/10 [==============================] - 0s 5ms/step - loss: 3743.7598 - accuracy: 0.0000e+00 - val_loss: 3695.4719 - val_accuracy: 0.0000e+00\n",
            "Epoch 17/100\n",
            "10/10 [==============================] - 0s 4ms/step - loss: 3739.5579 - accuracy: 0.0000e+00 - val_loss: 3691.2070 - val_accuracy: 0.0000e+00\n",
            "Epoch 18/100\n",
            "10/10 [==============================] - 0s 4ms/step - loss: 3735.4390 - accuracy: 0.0000e+00 - val_loss: 3686.8645 - val_accuracy: 0.0000e+00\n",
            "Epoch 19/100\n",
            "10/10 [==============================] - 0s 5ms/step - loss: 3731.1023 - accuracy: 0.0000e+00 - val_loss: 3682.6602 - val_accuracy: 0.0000e+00\n",
            "Epoch 20/100\n",
            "10/10 [==============================] - 0s 5ms/step - loss: 3726.9585 - accuracy: 0.0000e+00 - val_loss: 3678.4016 - val_accuracy: 0.0000e+00\n",
            "Epoch 21/100\n",
            "10/10 [==============================] - 0s 4ms/step - loss: 3722.7515 - accuracy: 0.0000e+00 - val_loss: 3674.1602 - val_accuracy: 0.0000e+00\n",
            "Epoch 22/100\n",
            "10/10 [==============================] - 0s 4ms/step - loss: 3718.5657 - accuracy: 0.0000e+00 - val_loss: 3669.9219 - val_accuracy: 0.0000e+00\n",
            "Epoch 23/100\n",
            "10/10 [==============================] - 0s 4ms/step - loss: 3714.4949 - accuracy: 0.0000e+00 - val_loss: 3665.5859 - val_accuracy: 0.0000e+00\n",
            "Epoch 24/100\n",
            "10/10 [==============================] - 0s 5ms/step - loss: 3710.1929 - accuracy: 0.0000e+00 - val_loss: 3661.3789 - val_accuracy: 0.0000e+00\n",
            "Epoch 25/100\n",
            "10/10 [==============================] - 0s 4ms/step - loss: 3706.0337 - accuracy: 0.0000e+00 - val_loss: 3657.1626 - val_accuracy: 0.0000e+00\n",
            "Epoch 26/100\n",
            "10/10 [==============================] - 0s 6ms/step - loss: 3701.9048 - accuracy: 0.0000e+00 - val_loss: 3652.9102 - val_accuracy: 0.0000e+00\n",
            "Epoch 27/100\n",
            "10/10 [==============================] - 0s 5ms/step - loss: 3697.6731 - accuracy: 0.0000e+00 - val_loss: 3648.7280 - val_accuracy: 0.0000e+00\n",
            "Epoch 28/100\n",
            "10/10 [==============================] - 0s 4ms/step - loss: 3693.5786 - accuracy: 0.0000e+00 - val_loss: 3644.4856 - val_accuracy: 0.0000e+00\n",
            "Epoch 29/100\n",
            "10/10 [==============================] - 0s 4ms/step - loss: 3689.4604 - accuracy: 0.0000e+00 - val_loss: 3640.2156 - val_accuracy: 0.0000e+00\n",
            "Epoch 30/100\n",
            "10/10 [==============================] - 0s 5ms/step - loss: 3685.2651 - accuracy: 0.0000e+00 - val_loss: 3635.9954 - val_accuracy: 0.0000e+00\n",
            "Epoch 31/100\n",
            "10/10 [==============================] - 0s 5ms/step - loss: 3681.0903 - accuracy: 0.0000e+00 - val_loss: 3631.8071 - val_accuracy: 0.0000e+00\n",
            "Epoch 32/100\n",
            "10/10 [==============================] - 0s 5ms/step - loss: 3677.0332 - accuracy: 0.0000e+00 - val_loss: 3627.5405 - val_accuracy: 0.0000e+00\n",
            "Epoch 33/100\n",
            "10/10 [==============================] - 0s 5ms/step - loss: 3672.7876 - accuracy: 0.0000e+00 - val_loss: 3623.3823 - val_accuracy: 0.0000e+00\n",
            "Epoch 34/100\n",
            "10/10 [==============================] - 0s 6ms/step - loss: 3668.6902 - accuracy: 0.0000e+00 - val_loss: 3619.1899 - val_accuracy: 0.0000e+00\n",
            "Epoch 35/100\n",
            "10/10 [==============================] - 0s 5ms/step - loss: 3664.5520 - accuracy: 0.0000e+00 - val_loss: 3615.0063 - val_accuracy: 0.0000e+00\n",
            "Epoch 36/100\n",
            "10/10 [==============================] - 0s 6ms/step - loss: 3660.4602 - accuracy: 0.0000e+00 - val_loss: 3610.7930 - val_accuracy: 0.0000e+00\n",
            "Epoch 37/100\n",
            "10/10 [==============================] - 0s 5ms/step - loss: 3656.3816 - accuracy: 0.0000e+00 - val_loss: 3606.5461 - val_accuracy: 0.0000e+00\n",
            "Epoch 38/100\n",
            "10/10 [==============================] - 0s 4ms/step - loss: 3652.1660 - accuracy: 0.0000e+00 - val_loss: 3602.3979 - val_accuracy: 0.0000e+00\n",
            "Epoch 39/100\n",
            "10/10 [==============================] - 0s 4ms/step - loss: 3648.0898 - accuracy: 0.0000e+00 - val_loss: 3598.2163 - val_accuracy: 0.0000e+00\n",
            "Epoch 40/100\n",
            "10/10 [==============================] - 0s 4ms/step - loss: 3643.9102 - accuracy: 0.0000e+00 - val_loss: 3594.1101 - val_accuracy: 0.0000e+00\n",
            "Epoch 41/100\n",
            "10/10 [==============================] - 0s 5ms/step - loss: 3639.8821 - accuracy: 0.0000e+00 - val_loss: 3589.9272 - val_accuracy: 0.0000e+00\n",
            "Epoch 42/100\n",
            "10/10 [==============================] - 0s 5ms/step - loss: 3635.8789 - accuracy: 0.0000e+00 - val_loss: 3585.6633 - val_accuracy: 0.0000e+00\n",
            "Epoch 43/100\n",
            "10/10 [==============================] - 0s 5ms/step - loss: 3631.6714 - accuracy: 0.0000e+00 - val_loss: 3581.5161 - val_accuracy: 0.0000e+00\n",
            "Epoch 44/100\n",
            "10/10 [==============================] - 0s 5ms/step - loss: 3627.5554 - accuracy: 0.0000e+00 - val_loss: 3577.3999 - val_accuracy: 0.0000e+00\n",
            "Epoch 45/100\n",
            "10/10 [==============================] - 0s 4ms/step - loss: 3623.5825 - accuracy: 0.0000e+00 - val_loss: 3573.1824 - val_accuracy: 0.0000e+00\n",
            "Epoch 46/100\n",
            "10/10 [==============================] - 0s 5ms/step - loss: 3619.3757 - accuracy: 0.0000e+00 - val_loss: 3569.0930 - val_accuracy: 0.0000e+00\n",
            "Epoch 47/100\n",
            "10/10 [==============================] - 0s 5ms/step - loss: 3615.3452 - accuracy: 0.0000e+00 - val_loss: 3564.9609 - val_accuracy: 0.0000e+00\n",
            "Epoch 48/100\n",
            "10/10 [==============================] - 0s 6ms/step - loss: 3611.2727 - accuracy: 0.0000e+00 - val_loss: 3560.8340 - val_accuracy: 0.0000e+00\n",
            "Epoch 49/100\n",
            "10/10 [==============================] - 0s 5ms/step - loss: 3607.2292 - accuracy: 0.0000e+00 - val_loss: 3556.6855 - val_accuracy: 0.0000e+00\n",
            "Epoch 50/100\n",
            "10/10 [==============================] - 0s 4ms/step - loss: 3603.1316 - accuracy: 0.0000e+00 - val_loss: 3552.5735 - val_accuracy: 0.0000e+00\n",
            "Epoch 51/100\n",
            "10/10 [==============================] - 0s 4ms/step - loss: 3599.1492 - accuracy: 0.0000e+00 - val_loss: 3548.3892 - val_accuracy: 0.0000e+00\n",
            "Epoch 52/100\n",
            "10/10 [==============================] - 0s 5ms/step - loss: 3595.0020 - accuracy: 0.0000e+00 - val_loss: 3544.2993 - val_accuracy: 0.0000e+00\n",
            "Epoch 53/100\n",
            "10/10 [==============================] - 0s 5ms/step - loss: 3590.9790 - accuracy: 0.0000e+00 - val_loss: 3540.1860 - val_accuracy: 0.0000e+00\n",
            "Epoch 54/100\n",
            "10/10 [==============================] - 0s 5ms/step - loss: 3586.9883 - accuracy: 0.0000e+00 - val_loss: 3536.0220 - val_accuracy: 0.0000e+00\n",
            "Epoch 55/100\n",
            "10/10 [==============================] - 0s 5ms/step - loss: 3582.7734 - accuracy: 0.0000e+00 - val_loss: 3532.0312 - val_accuracy: 0.0000e+00\n",
            "Epoch 56/100\n",
            "10/10 [==============================] - 0s 4ms/step - loss: 3578.8445 - accuracy: 0.0000e+00 - val_loss: 3527.9211 - val_accuracy: 0.0000e+00\n",
            "Epoch 57/100\n",
            "10/10 [==============================] - 0s 4ms/step - loss: 3574.8835 - accuracy: 0.0000e+00 - val_loss: 3523.7410 - val_accuracy: 0.0000e+00\n",
            "Epoch 58/100\n",
            "10/10 [==============================] - 0s 5ms/step - loss: 3570.7480 - accuracy: 0.0000e+00 - val_loss: 3519.6538 - val_accuracy: 0.0000e+00\n",
            "Epoch 59/100\n",
            "10/10 [==============================] - 0s 5ms/step - loss: 3566.7876 - accuracy: 0.0000e+00 - val_loss: 3515.4868 - val_accuracy: 0.0000e+00\n",
            "Epoch 60/100\n",
            "10/10 [==============================] - 0s 5ms/step - loss: 3562.7122 - accuracy: 0.0000e+00 - val_loss: 3511.3457 - val_accuracy: 0.0000e+00\n",
            "Epoch 61/100\n",
            "10/10 [==============================] - 0s 5ms/step - loss: 3558.6492 - accuracy: 0.0000e+00 - val_loss: 3507.1914 - val_accuracy: 0.0000e+00\n",
            "Epoch 62/100\n",
            "10/10 [==============================] - 0s 5ms/step - loss: 3554.4993 - accuracy: 0.0000e+00 - val_loss: 3503.0591 - val_accuracy: 0.0000e+00\n",
            "Epoch 63/100\n",
            "10/10 [==============================] - 0s 4ms/step - loss: 3550.2266 - accuracy: 0.0000e+00 - val_loss: 3498.9106 - val_accuracy: 0.0000e+00\n",
            "Epoch 64/100\n",
            "10/10 [==============================] - 0s 4ms/step - loss: 3545.8179 - accuracy: 0.0000e+00 - val_loss: 3494.2153 - val_accuracy: 0.0000e+00\n",
            "Epoch 65/100\n",
            "10/10 [==============================] - 0s 6ms/step - loss: 3540.2246 - accuracy: 0.0000e+00 - val_loss: 3486.6692 - val_accuracy: 0.0000e+00\n",
            "Epoch 66/100\n",
            "10/10 [==============================] - 0s 7ms/step - loss: 3526.1382 - accuracy: 0.0000e+00 - val_loss: 3451.8230 - val_accuracy: 0.0000e+00\n",
            "Epoch 67/100\n",
            "10/10 [==============================] - 0s 5ms/step - loss: 3466.8118 - accuracy: 0.0000e+00 - val_loss: 3392.0164 - val_accuracy: 0.0000e+00\n",
            "Epoch 68/100\n",
            "10/10 [==============================] - 0s 5ms/step - loss: 3440.7598 - accuracy: 0.0000e+00 - val_loss: 3387.3796 - val_accuracy: 0.0000e+00\n",
            "Epoch 69/100\n",
            "10/10 [==============================] - 0s 4ms/step - loss: 3436.8062 - accuracy: 0.0000e+00 - val_loss: 3383.5430 - val_accuracy: 0.0000e+00\n",
            "Epoch 70/100\n",
            "10/10 [==============================] - 0s 7ms/step - loss: 3433.0359 - accuracy: 0.0000e+00 - val_loss: 3379.6465 - val_accuracy: 0.0000e+00\n",
            "Epoch 71/100\n",
            "10/10 [==============================] - 0s 5ms/step - loss: 3429.2083 - accuracy: 0.0000e+00 - val_loss: 3375.7324 - val_accuracy: 0.0000e+00\n",
            "Epoch 72/100\n",
            "10/10 [==============================] - 0s 5ms/step - loss: 3425.3418 - accuracy: 0.0000e+00 - val_loss: 3371.8433 - val_accuracy: 0.0000e+00\n",
            "Epoch 73/100\n",
            "10/10 [==============================] - 0s 5ms/step - loss: 3421.4773 - accuracy: 0.0000e+00 - val_loss: 3367.9800 - val_accuracy: 0.0000e+00\n",
            "Epoch 74/100\n",
            "10/10 [==============================] - 0s 5ms/step - loss: 3417.6758 - accuracy: 0.0000e+00 - val_loss: 3364.0828 - val_accuracy: 0.0000e+00\n",
            "Epoch 75/100\n",
            "10/10 [==============================] - 0s 5ms/step - loss: 3413.8921 - accuracy: 0.0000e+00 - val_loss: 3360.1406 - val_accuracy: 0.0000e+00\n",
            "Epoch 76/100\n",
            "10/10 [==============================] - 0s 5ms/step - loss: 3410.0210 - accuracy: 0.0000e+00 - val_loss: 3356.2422 - val_accuracy: 0.0000e+00\n",
            "Epoch 77/100\n",
            "10/10 [==============================] - 0s 6ms/step - loss: 3406.1125 - accuracy: 0.0000e+00 - val_loss: 3352.4324 - val_accuracy: 0.0000e+00\n",
            "Epoch 78/100\n",
            "10/10 [==============================] - 0s 5ms/step - loss: 3402.3892 - accuracy: 0.0000e+00 - val_loss: 3348.5203 - val_accuracy: 0.0000e+00\n",
            "Epoch 79/100\n",
            "10/10 [==============================] - 0s 5ms/step - loss: 3398.6301 - accuracy: 0.0000e+00 - val_loss: 3344.5535 - val_accuracy: 0.0000e+00\n",
            "Epoch 80/100\n",
            "10/10 [==============================] - 0s 5ms/step - loss: 3394.7109 - accuracy: 0.0000e+00 - val_loss: 3340.6958 - val_accuracy: 0.0000e+00\n",
            "Epoch 81/100\n",
            "10/10 [==============================] - 0s 5ms/step - loss: 3390.9851 - accuracy: 0.0000e+00 - val_loss: 3336.7546 - val_accuracy: 0.0000e+00\n",
            "Epoch 82/100\n",
            "10/10 [==============================] - 0s 5ms/step - loss: 3387.1167 - accuracy: 0.0000e+00 - val_loss: 3332.8796 - val_accuracy: 0.0000e+00\n",
            "Epoch 83/100\n",
            "10/10 [==============================] - 0s 4ms/step - loss: 3383.2961 - accuracy: 0.0000e+00 - val_loss: 3329.0203 - val_accuracy: 0.0000e+00\n",
            "Epoch 84/100\n",
            "10/10 [==============================] - 0s 4ms/step - loss: 3379.4194 - accuracy: 0.0000e+00 - val_loss: 3325.2390 - val_accuracy: 0.0000e+00\n",
            "Epoch 85/100\n",
            "10/10 [==============================] - 0s 5ms/step - loss: 3375.7153 - accuracy: 0.0000e+00 - val_loss: 3321.3618 - val_accuracy: 0.0000e+00\n",
            "Epoch 86/100\n",
            "10/10 [==============================] - 0s 5ms/step - loss: 3371.8425 - accuracy: 0.0000e+00 - val_loss: 3317.5649 - val_accuracy: 0.0000e+00\n",
            "Epoch 87/100\n",
            "10/10 [==============================] - 0s 5ms/step - loss: 3368.1665 - accuracy: 0.0000e+00 - val_loss: 3313.6489 - val_accuracy: 0.0000e+00\n",
            "Epoch 88/100\n",
            "10/10 [==============================] - 0s 5ms/step - loss: 3364.3184 - accuracy: 0.0000e+00 - val_loss: 3309.7954 - val_accuracy: 0.0000e+00\n",
            "Epoch 89/100\n",
            "10/10 [==============================] - 0s 4ms/step - loss: 3360.4976 - accuracy: 0.0000e+00 - val_loss: 3305.9797 - val_accuracy: 0.0000e+00\n",
            "Epoch 90/100\n",
            "10/10 [==============================] - 0s 5ms/step - loss: 3356.8020 - accuracy: 0.0000e+00 - val_loss: 3302.0776 - val_accuracy: 0.0000e+00\n",
            "Epoch 91/100\n",
            "10/10 [==============================] - 0s 5ms/step - loss: 3352.9988 - accuracy: 0.0000e+00 - val_loss: 3298.2070 - val_accuracy: 0.0000e+00\n",
            "Epoch 92/100\n",
            "10/10 [==============================] - 0s 5ms/step - loss: 3349.1750 - accuracy: 0.0000e+00 - val_loss: 3294.3853 - val_accuracy: 0.0000e+00\n",
            "Epoch 93/100\n",
            "10/10 [==============================] - 0s 4ms/step - loss: 3345.3406 - accuracy: 0.0000e+00 - val_loss: 3290.6323 - val_accuracy: 0.0000e+00\n",
            "Epoch 94/100\n",
            "10/10 [==============================] - 0s 5ms/step - loss: 3341.7310 - accuracy: 0.0000e+00 - val_loss: 3286.7195 - val_accuracy: 0.0000e+00\n",
            "Epoch 95/100\n",
            "10/10 [==============================] - 0s 5ms/step - loss: 3337.9087 - accuracy: 0.0000e+00 - val_loss: 3282.8706 - val_accuracy: 0.0000e+00\n",
            "Epoch 96/100\n",
            "10/10 [==============================] - 0s 5ms/step - loss: 3334.0625 - accuracy: 0.0000e+00 - val_loss: 3279.1074 - val_accuracy: 0.0000e+00\n",
            "Epoch 97/100\n",
            "10/10 [==============================] - 0s 4ms/step - loss: 3330.3306 - accuracy: 0.0000e+00 - val_loss: 3275.3198 - val_accuracy: 0.0000e+00\n",
            "Epoch 98/100\n",
            "10/10 [==============================] - 0s 4ms/step - loss: 3326.6609 - accuracy: 0.0000e+00 - val_loss: 3271.4478 - val_accuracy: 0.0000e+00\n",
            "Epoch 99/100\n",
            "10/10 [==============================] - 0s 5ms/step - loss: 3322.8813 - accuracy: 0.0000e+00 - val_loss: 3267.6086 - val_accuracy: 0.0000e+00\n",
            "Epoch 100/100\n",
            "10/10 [==============================] - 0s 5ms/step - loss: 3319.0396 - accuracy: 0.0000e+00 - val_loss: 3263.8684 - val_accuracy: 0.0000e+00\n"
          ],
          "name": "stdout"
        }
      ]
    },
    {
      "cell_type": "code",
      "metadata": {
        "id": "wAoVuC2XwmHM"
      },
      "source": [
        "y_hat = model_1.predict(X_test)"
      ],
      "execution_count": 11,
      "outputs": []
    },
    {
      "cell_type": "code",
      "metadata": {
        "colab": {
          "base_uri": "https://localhost:8080/",
          "height": 265
        },
        "id": "IV-iN3cEwsrp",
        "outputId": "8b5c5b65-7062-4d0d-b17e-e926214423fa"
      },
      "source": [
        "plt.plot(Hist_1.history['loss'])\n",
        "plt.show()"
      ],
      "execution_count": 12,
      "outputs": [
        {
          "output_type": "display_data",
          "data": {
            "image/png": "[encoded data removed]",
            "text/plain": [
              "<Figure size 432x288 with 1 Axes>"
            ]
          },
          "metadata": {
            "tags": [],
            "needs_background": "light"
          }
        }
      ]
    },
    {
      "cell_type": "code",
      "metadata": {
        "colab": {
          "base_uri": "https://localhost:8080/",
          "height": 265
        },
        "id": "2m7WxO8lwxls",
        "outputId": "730ed4f6-bf4e-48d6-97b5-2457ca6c69ab"
      },
      "source": [
        "# 학습되지 않음 / 녹색 - 정답(y_test) , 적색 - 예측(y_hat)\n",
        "\n",
        "\n",
        "plt.scatter(range(20), y_test, c='g')\n",
        "plt.scatter(range(20), y_hat, c= 'r')\n",
        "plt.show()"
      ],
      "execution_count": 14,
      "outputs": [
        {
          "output_type": "display_data",
          "data": {
            "image/png": "[encoded data removed]",
            "text/plain": [
              "<Figure size 432x288 with 1 Axes>"
            ]
          },
          "metadata": {
            "tags": [],
            "needs_background": "light"
          }
        }
      ]
    },
    {
      "cell_type": "code",
      "metadata": {
        "id": "T5mlPEm7xEOk"
      },
      "source": [
        "X = [[[i+j] for i in range(5)] for j in range(100)]\n",
        "y = [(i+5) for i in range (100)]\n",
        "\n",
        "X = (X - np.min(X)) / (np.max(X) - np.min(X))\n",
        "y = (y - np.min(y)) / (np.max(y) - np.min(y))"
      ],
      "execution_count": 16,
      "outputs": []
    },
    {
      "cell_type": "code",
      "metadata": {
        "colab": {
          "base_uri": "https://localhost:8080/"
        },
        "id": "H_397SGDxhZp",
        "outputId": "15826742-7ac1-4322-9c61-76fa1ce238e8"
      },
      "source": [
        "X = np.array(X, dtype = float)\n",
        "y = np.array(y, dtype = float)\n",
        "\n",
        "X.shape, y.shape"
      ],
      "execution_count": 17,
      "outputs": [
        {
          "output_type": "execute_result",
          "data": {
            "text/plain": [
              "((100, 5, 1), (100,))"
            ]
          },
          "metadata": {
            "tags": []
          },
          "execution_count": 17
        }
      ]
    },
    {
      "cell_type": "code",
      "metadata": {
        "colab": {
          "base_uri": "https://localhost:8080/"
        },
        "id": "M5w0S51dxufz",
        "outputId": "f926cb05-c23d-4123-893f-0aa6a988d466"
      },
      "source": [
        "X_train, X_test, y_train, y_test = train_test_split(X, y, \n",
        "                                                    test_size = 0.2, \n",
        "                                                    random_state = 2045)\n",
        "\n",
        "X_train.shape, y_train.shape, X_test.shape, y_test.shape"
      ],
      "execution_count": 18,
      "outputs": [
        {
          "output_type": "execute_result",
          "data": {
            "text/plain": [
              "((80, 5, 1), (80,), (20, 5, 1), (20,))"
            ]
          },
          "metadata": {
            "tags": []
          },
          "execution_count": 18
        }
      ]
    },
    {
      "cell_type": "code",
      "metadata": {
        "colab": {
          "base_uri": "https://localhost:8080/"
        },
        "id": "ojfH5M5gxw8o",
        "outputId": "58cf3571-81c6-4be4-986e-06072e269a5a"
      },
      "source": [
        "model_2 = models.Sequential(name = 'SimpleRNN_2')\n",
        "model_2.add(layers.SimpleRNN(3,\n",
        "                             input_shape = (None, 1), \n",
        "                             return_sequences = False))\n",
        "model_2.add(layers.Dense(1))\n",
        "\n",
        "model_2.summary()"
      ],
      "execution_count": 19,
      "outputs": [
        {
          "output_type": "stream",
          "text": [
            "Model: \"SimpleRNN_2\"\n",
            "_________________________________________________________________\n",
            "Layer (type)                 Output Shape              Param #   \n",
            "=================================================================\n",
            "simple_rnn_2 (SimpleRNN)     (None, 3)                 15        \n",
            "_________________________________________________________________\n",
            "dense_1 (Dense)              (None, 1)                 4         \n",
            "=================================================================\n",
            "Total params: 19\n",
            "Trainable params: 19\n",
            "Non-trainable params: 0\n",
            "_________________________________________________________________\n"
          ],
          "name": "stdout"
        }
      ]
    },
    {
      "cell_type": "code",
      "metadata": {
        "id": "vhwlXv2jxykI"
      },
      "source": [
        "model_2.compile(loss = 'mse', \n",
        "                optimizer = 'adam', \n",
        "                metrics = ['accuracy'])"
      ],
      "execution_count": 20,
      "outputs": []
    },
    {
      "cell_type": "code",
      "metadata": {
        "colab": {
          "base_uri": "https://localhost:8080/"
        },
        "id": "-cinDnAbx0d3",
        "outputId": "6170e65e-d560-4e0f-8750-a9e220b84e94"
      },
      "source": [
        "Hist_2 = model_2.fit(X_train, y_train, \n",
        "                     epochs = 100,\n",
        "                     batch_size = 8,\n",
        "                     validation_data = (X_test, y_test))"
      ],
      "execution_count": 21,
      "outputs": [
        {
          "output_type": "stream",
          "text": [
            "Epoch 1/100\n",
            "10/10 [==============================] - 1s 27ms/step - loss: 0.6574 - accuracy: 0.0125 - val_loss: 0.5790 - val_accuracy: 0.0000e+00\n",
            "Epoch 2/100\n",
            "10/10 [==============================] - 0s 4ms/step - loss: 0.5144 - accuracy: 0.0125 - val_loss: 0.4361 - val_accuracy: 0.0000e+00\n",
            "Epoch 3/100\n",
            "10/10 [==============================] - 0s 4ms/step - loss: 0.3848 - accuracy: 0.0125 - val_loss: 0.3176 - val_accuracy: 0.0000e+00\n",
            "Epoch 4/100\n",
            "10/10 [==============================] - 0s 6ms/step - loss: 0.2814 - accuracy: 0.0125 - val_loss: 0.2261 - val_accuracy: 0.0000e+00\n",
            "Epoch 5/100\n",
            "10/10 [==============================] - 0s 4ms/step - loss: 0.2033 - accuracy: 0.0125 - val_loss: 0.1622 - val_accuracy: 0.0000e+00\n",
            "Epoch 6/100\n",
            "10/10 [==============================] - 0s 4ms/step - loss: 0.1534 - accuracy: 0.0125 - val_loss: 0.1191 - val_accuracy: 0.0000e+00\n",
            "Epoch 7/100\n",
            "10/10 [==============================] - 0s 4ms/step - loss: 0.1190 - accuracy: 0.0125 - val_loss: 0.0936 - val_accuracy: 0.0000e+00\n",
            "Epoch 8/100\n",
            "10/10 [==============================] - 0s 4ms/step - loss: 0.0998 - accuracy: 0.0125 - val_loss: 0.0785 - val_accuracy: 0.0000e+00\n",
            "Epoch 9/100\n",
            "10/10 [==============================] - 0s 5ms/step - loss: 0.0881 - accuracy: 0.0125 - val_loss: 0.0698 - val_accuracy: 0.0000e+00\n",
            "Epoch 10/100\n",
            "10/10 [==============================] - 0s 6ms/step - loss: 0.0799 - accuracy: 0.0125 - val_loss: 0.0648 - val_accuracy: 0.0000e+00\n",
            "Epoch 11/100\n",
            "10/10 [==============================] - 0s 7ms/step - loss: 0.0752 - accuracy: 0.0250 - val_loss: 0.0610 - val_accuracy: 0.0000e+00\n",
            "Epoch 12/100\n",
            "10/10 [==============================] - 0s 5ms/step - loss: 0.0710 - accuracy: 0.0250 - val_loss: 0.0579 - val_accuracy: 0.0000e+00\n",
            "Epoch 13/100\n",
            "10/10 [==============================] - 0s 4ms/step - loss: 0.0676 - accuracy: 0.0250 - val_loss: 0.0551 - val_accuracy: 0.0000e+00\n",
            "Epoch 14/100\n",
            "10/10 [==============================] - 0s 4ms/step - loss: 0.0641 - accuracy: 0.0250 - val_loss: 0.0524 - val_accuracy: 0.0000e+00\n",
            "Epoch 15/100\n",
            "10/10 [==============================] - 0s 5ms/step - loss: 0.0609 - accuracy: 0.0250 - val_loss: 0.0497 - val_accuracy: 0.0000e+00\n",
            "Epoch 16/100\n",
            "10/10 [==============================] - 0s 4ms/step - loss: 0.0577 - accuracy: 0.0250 - val_loss: 0.0471 - val_accuracy: 0.0000e+00\n",
            "Epoch 17/100\n",
            "10/10 [==============================] - 0s 4ms/step - loss: 0.0545 - accuracy: 0.0250 - val_loss: 0.0446 - val_accuracy: 0.0000e+00\n",
            "Epoch 18/100\n",
            "10/10 [==============================] - 0s 6ms/step - loss: 0.0515 - accuracy: 0.0250 - val_loss: 0.0421 - val_accuracy: 0.0000e+00\n",
            "Epoch 19/100\n",
            "10/10 [==============================] - 0s 4ms/step - loss: 0.0487 - accuracy: 0.0250 - val_loss: 0.0397 - val_accuracy: 0.0000e+00\n",
            "Epoch 20/100\n",
            "10/10 [==============================] - 0s 4ms/step - loss: 0.0458 - accuracy: 0.0250 - val_loss: 0.0373 - val_accuracy: 0.0000e+00\n",
            "Epoch 21/100\n",
            "10/10 [==============================] - 0s 7ms/step - loss: 0.0428 - accuracy: 0.0250 - val_loss: 0.0350 - val_accuracy: 0.0000e+00\n",
            "Epoch 22/100\n",
            "10/10 [==============================] - 0s 4ms/step - loss: 0.0400 - accuracy: 0.0250 - val_loss: 0.0330 - val_accuracy: 0.0000e+00\n",
            "Epoch 23/100\n",
            "10/10 [==============================] - 0s 4ms/step - loss: 0.0378 - accuracy: 0.0250 - val_loss: 0.0308 - val_accuracy: 0.0000e+00\n",
            "Epoch 24/100\n",
            "10/10 [==============================] - 0s 7ms/step - loss: 0.0349 - accuracy: 0.0250 - val_loss: 0.0287 - val_accuracy: 0.0000e+00\n",
            "Epoch 25/100\n",
            "10/10 [==============================] - 0s 4ms/step - loss: 0.0325 - accuracy: 0.0250 - val_loss: 0.0267 - val_accuracy: 0.0000e+00\n",
            "Epoch 26/100\n",
            "10/10 [==============================] - 0s 4ms/step - loss: 0.0301 - accuracy: 0.0250 - val_loss: 0.0249 - val_accuracy: 0.0000e+00\n",
            "Epoch 27/100\n",
            "10/10 [==============================] - 0s 5ms/step - loss: 0.0279 - accuracy: 0.0250 - val_loss: 0.0231 - val_accuracy: 0.0000e+00\n",
            "Epoch 28/100\n",
            "10/10 [==============================] - 0s 5ms/step - loss: 0.0257 - accuracy: 0.0250 - val_loss: 0.0214 - val_accuracy: 0.0000e+00\n",
            "Epoch 29/100\n",
            "10/10 [==============================] - 0s 4ms/step - loss: 0.0238 - accuracy: 0.0250 - val_loss: 0.0197 - val_accuracy: 0.0000e+00\n",
            "Epoch 30/100\n",
            "10/10 [==============================] - 0s 4ms/step - loss: 0.0218 - accuracy: 0.0250 - val_loss: 0.0182 - val_accuracy: 0.0000e+00\n",
            "Epoch 31/100\n",
            "10/10 [==============================] - 0s 5ms/step - loss: 0.0201 - accuracy: 0.0250 - val_loss: 0.0168 - val_accuracy: 0.0000e+00\n",
            "Epoch 32/100\n",
            "10/10 [==============================] - 0s 5ms/step - loss: 0.0183 - accuracy: 0.0250 - val_loss: 0.0154 - val_accuracy: 0.0000e+00\n",
            "Epoch 33/100\n",
            "10/10 [==============================] - 0s 5ms/step - loss: 0.0167 - accuracy: 0.0250 - val_loss: 0.0142 - val_accuracy: 0.0000e+00\n",
            "Epoch 34/100\n",
            "10/10 [==============================] - 0s 5ms/step - loss: 0.0153 - accuracy: 0.0250 - val_loss: 0.0131 - val_accuracy: 0.0000e+00\n",
            "Epoch 35/100\n",
            "10/10 [==============================] - 0s 5ms/step - loss: 0.0140 - accuracy: 0.0250 - val_loss: 0.0120 - val_accuracy: 0.0000e+00\n",
            "Epoch 36/100\n",
            "10/10 [==============================] - 0s 4ms/step - loss: 0.0127 - accuracy: 0.0250 - val_loss: 0.0110 - val_accuracy: 0.0000e+00\n",
            "Epoch 37/100\n",
            "10/10 [==============================] - 0s 5ms/step - loss: 0.0116 - accuracy: 0.0250 - val_loss: 0.0101 - val_accuracy: 0.0000e+00\n",
            "Epoch 38/100\n",
            "10/10 [==============================] - 0s 5ms/step - loss: 0.0107 - accuracy: 0.0250 - val_loss: 0.0093 - val_accuracy: 0.0000e+00\n",
            "Epoch 39/100\n",
            "10/10 [==============================] - 0s 4ms/step - loss: 0.0097 - accuracy: 0.0250 - val_loss: 0.0086 - val_accuracy: 0.0000e+00\n",
            "Epoch 40/100\n",
            "10/10 [==============================] - 0s 5ms/step - loss: 0.0089 - accuracy: 0.0250 - val_loss: 0.0080 - val_accuracy: 0.0000e+00\n",
            "Epoch 41/100\n",
            "10/10 [==============================] - 0s 4ms/step - loss: 0.0082 - accuracy: 0.0250 - val_loss: 0.0074 - val_accuracy: 0.0000e+00\n",
            "Epoch 42/100\n",
            "10/10 [==============================] - 0s 5ms/step - loss: 0.0076 - accuracy: 0.0250 - val_loss: 0.0069 - val_accuracy: 0.0000e+00\n",
            "Epoch 43/100\n",
            "10/10 [==============================] - 0s 5ms/step - loss: 0.0071 - accuracy: 0.0250 - val_loss: 0.0065 - val_accuracy: 0.0000e+00\n",
            "Epoch 44/100\n",
            "10/10 [==============================] - 0s 5ms/step - loss: 0.0066 - accuracy: 0.0250 - val_loss: 0.0061 - val_accuracy: 0.0000e+00\n",
            "Epoch 45/100\n",
            "10/10 [==============================] - 0s 4ms/step - loss: 0.0062 - accuracy: 0.0250 - val_loss: 0.0058 - val_accuracy: 0.0000e+00\n",
            "Epoch 46/100\n",
            "10/10 [==============================] - 0s 5ms/step - loss: 0.0059 - accuracy: 0.0250 - val_loss: 0.0056 - val_accuracy: 0.0000e+00\n",
            "Epoch 47/100\n",
            "10/10 [==============================] - 0s 5ms/step - loss: 0.0056 - accuracy: 0.0250 - val_loss: 0.0053 - val_accuracy: 0.0000e+00\n",
            "Epoch 48/100\n",
            "10/10 [==============================] - 0s 5ms/step - loss: 0.0053 - accuracy: 0.0250 - val_loss: 0.0051 - val_accuracy: 0.0000e+00\n",
            "Epoch 49/100\n",
            "10/10 [==============================] - 0s 5ms/step - loss: 0.0051 - accuracy: 0.0250 - val_loss: 0.0050 - val_accuracy: 0.0000e+00\n",
            "Epoch 50/100\n",
            "10/10 [==============================] - 0s 5ms/step - loss: 0.0049 - accuracy: 0.0250 - val_loss: 0.0048 - val_accuracy: 0.0000e+00\n",
            "Epoch 51/100\n",
            "10/10 [==============================] - 0s 5ms/step - loss: 0.0048 - accuracy: 0.0250 - val_loss: 0.0046 - val_accuracy: 0.0000e+00\n",
            "Epoch 52/100\n",
            "10/10 [==============================] - 0s 6ms/step - loss: 0.0047 - accuracy: 0.0250 - val_loss: 0.0046 - val_accuracy: 0.0000e+00\n",
            "Epoch 53/100\n",
            "10/10 [==============================] - 0s 5ms/step - loss: 0.0046 - accuracy: 0.0250 - val_loss: 0.0044 - val_accuracy: 0.0000e+00\n",
            "Epoch 54/100\n",
            "10/10 [==============================] - 0s 4ms/step - loss: 0.0044 - accuracy: 0.0250 - val_loss: 0.0044 - val_accuracy: 0.0000e+00\n",
            "Epoch 55/100\n",
            "10/10 [==============================] - 0s 5ms/step - loss: 0.0044 - accuracy: 0.0250 - val_loss: 0.0043 - val_accuracy: 0.0000e+00\n",
            "Epoch 56/100\n",
            "10/10 [==============================] - 0s 7ms/step - loss: 0.0044 - accuracy: 0.0250 - val_loss: 0.0043 - val_accuracy: 0.0000e+00\n",
            "Epoch 57/100\n",
            "10/10 [==============================] - 0s 4ms/step - loss: 0.0043 - accuracy: 0.0250 - val_loss: 0.0042 - val_accuracy: 0.0000e+00\n",
            "Epoch 58/100\n",
            "10/10 [==============================] - 0s 5ms/step - loss: 0.0042 - accuracy: 0.0250 - val_loss: 0.0041 - val_accuracy: 0.0000e+00\n",
            "Epoch 59/100\n",
            "10/10 [==============================] - 0s 5ms/step - loss: 0.0041 - accuracy: 0.0250 - val_loss: 0.0041 - val_accuracy: 0.0000e+00\n",
            "Epoch 60/100\n",
            "10/10 [==============================] - 0s 5ms/step - loss: 0.0041 - accuracy: 0.0250 - val_loss: 0.0041 - val_accuracy: 0.0000e+00\n",
            "Epoch 61/100\n",
            "10/10 [==============================] - 0s 4ms/step - loss: 0.0040 - accuracy: 0.0250 - val_loss: 0.0040 - val_accuracy: 0.0000e+00\n",
            "Epoch 62/100\n",
            "10/10 [==============================] - 0s 5ms/step - loss: 0.0040 - accuracy: 0.0250 - val_loss: 0.0039 - val_accuracy: 0.0000e+00\n",
            "Epoch 63/100\n",
            "10/10 [==============================] - 0s 5ms/step - loss: 0.0040 - accuracy: 0.0250 - val_loss: 0.0039 - val_accuracy: 0.0000e+00\n",
            "Epoch 64/100\n",
            "10/10 [==============================] - 0s 5ms/step - loss: 0.0039 - accuracy: 0.0250 - val_loss: 0.0038 - val_accuracy: 0.0000e+00\n",
            "Epoch 65/100\n",
            "10/10 [==============================] - 0s 5ms/step - loss: 0.0039 - accuracy: 0.0250 - val_loss: 0.0038 - val_accuracy: 0.0000e+00\n",
            "Epoch 66/100\n",
            "10/10 [==============================] - 0s 5ms/step - loss: 0.0038 - accuracy: 0.0250 - val_loss: 0.0038 - val_accuracy: 0.0000e+00\n",
            "Epoch 67/100\n",
            "10/10 [==============================] - 0s 4ms/step - loss: 0.0038 - accuracy: 0.0250 - val_loss: 0.0038 - val_accuracy: 0.0000e+00\n",
            "Epoch 68/100\n",
            "10/10 [==============================] - 0s 5ms/step - loss: 0.0038 - accuracy: 0.0250 - val_loss: 0.0037 - val_accuracy: 0.0000e+00\n",
            "Epoch 69/100\n",
            "10/10 [==============================] - 0s 5ms/step - loss: 0.0037 - accuracy: 0.0250 - val_loss: 0.0037 - val_accuracy: 0.0000e+00\n",
            "Epoch 70/100\n",
            "10/10 [==============================] - 0s 4ms/step - loss: 0.0037 - accuracy: 0.0250 - val_loss: 0.0036 - val_accuracy: 0.0000e+00\n",
            "Epoch 71/100\n",
            "10/10 [==============================] - 0s 5ms/step - loss: 0.0037 - accuracy: 0.0250 - val_loss: 0.0036 - val_accuracy: 0.0000e+00\n",
            "Epoch 72/100\n",
            "10/10 [==============================] - 0s 5ms/step - loss: 0.0036 - accuracy: 0.0250 - val_loss: 0.0036 - val_accuracy: 0.0000e+00\n",
            "Epoch 73/100\n",
            "10/10 [==============================] - 0s 4ms/step - loss: 0.0036 - accuracy: 0.0250 - val_loss: 0.0035 - val_accuracy: 0.0000e+00\n",
            "Epoch 74/100\n",
            "10/10 [==============================] - 0s 6ms/step - loss: 0.0036 - accuracy: 0.0250 - val_loss: 0.0035 - val_accuracy: 0.0000e+00\n",
            "Epoch 75/100\n",
            "10/10 [==============================] - 0s 5ms/step - loss: 0.0036 - accuracy: 0.0250 - val_loss: 0.0034 - val_accuracy: 0.0000e+00\n",
            "Epoch 76/100\n",
            "10/10 [==============================] - 0s 5ms/step - loss: 0.0035 - accuracy: 0.0250 - val_loss: 0.0034 - val_accuracy: 0.0000e+00\n",
            "Epoch 77/100\n",
            "10/10 [==============================] - 0s 5ms/step - loss: 0.0035 - accuracy: 0.0250 - val_loss: 0.0034 - val_accuracy: 0.0000e+00\n",
            "Epoch 78/100\n",
            "10/10 [==============================] - 0s 4ms/step - loss: 0.0035 - accuracy: 0.0250 - val_loss: 0.0034 - val_accuracy: 0.0000e+00\n",
            "Epoch 79/100\n",
            "10/10 [==============================] - 0s 5ms/step - loss: 0.0034 - accuracy: 0.0250 - val_loss: 0.0034 - val_accuracy: 0.0000e+00\n",
            "Epoch 80/100\n",
            "10/10 [==============================] - 0s 4ms/step - loss: 0.0034 - accuracy: 0.0250 - val_loss: 0.0033 - val_accuracy: 0.0000e+00\n",
            "Epoch 81/100\n",
            "10/10 [==============================] - 0s 5ms/step - loss: 0.0034 - accuracy: 0.0250 - val_loss: 0.0033 - val_accuracy: 0.0000e+00\n",
            "Epoch 82/100\n",
            "10/10 [==============================] - 0s 5ms/step - loss: 0.0033 - accuracy: 0.0250 - val_loss: 0.0033 - val_accuracy: 0.0000e+00\n",
            "Epoch 83/100\n",
            "10/10 [==============================] - 0s 5ms/step - loss: 0.0033 - accuracy: 0.0250 - val_loss: 0.0032 - val_accuracy: 0.0000e+00\n",
            "Epoch 84/100\n",
            "10/10 [==============================] - 0s 5ms/step - loss: 0.0033 - accuracy: 0.0250 - val_loss: 0.0031 - val_accuracy: 0.0000e+00\n",
            "Epoch 85/100\n",
            "10/10 [==============================] - 0s 5ms/step - loss: 0.0032 - accuracy: 0.0250 - val_loss: 0.0031 - val_accuracy: 0.0000e+00\n",
            "Epoch 86/100\n",
            "10/10 [==============================] - 0s 7ms/step - loss: 0.0032 - accuracy: 0.0250 - val_loss: 0.0031 - val_accuracy: 0.0000e+00\n",
            "Epoch 87/100\n",
            "10/10 [==============================] - 0s 5ms/step - loss: 0.0032 - accuracy: 0.0250 - val_loss: 0.0031 - val_accuracy: 0.0000e+00\n",
            "Epoch 88/100\n",
            "10/10 [==============================] - 0s 4ms/step - loss: 0.0031 - accuracy: 0.0250 - val_loss: 0.0030 - val_accuracy: 0.0000e+00\n",
            "Epoch 89/100\n",
            "10/10 [==============================] - 0s 5ms/step - loss: 0.0031 - accuracy: 0.0250 - val_loss: 0.0030 - val_accuracy: 0.0000e+00\n",
            "Epoch 90/100\n",
            "10/10 [==============================] - 0s 4ms/step - loss: 0.0031 - accuracy: 0.0250 - val_loss: 0.0030 - val_accuracy: 0.0000e+00\n",
            "Epoch 91/100\n",
            "10/10 [==============================] - 0s 5ms/step - loss: 0.0031 - accuracy: 0.0250 - val_loss: 0.0030 - val_accuracy: 0.0000e+00\n",
            "Epoch 92/100\n",
            "10/10 [==============================] - 0s 5ms/step - loss: 0.0030 - accuracy: 0.0250 - val_loss: 0.0029 - val_accuracy: 0.0000e+00\n",
            "Epoch 93/100\n",
            "10/10 [==============================] - 0s 5ms/step - loss: 0.0030 - accuracy: 0.0250 - val_loss: 0.0029 - val_accuracy: 0.0000e+00\n",
            "Epoch 94/100\n",
            "10/10 [==============================] - 0s 5ms/step - loss: 0.0030 - accuracy: 0.0250 - val_loss: 0.0029 - val_accuracy: 0.0000e+00\n",
            "Epoch 95/100\n",
            "10/10 [==============================] - 0s 4ms/step - loss: 0.0029 - accuracy: 0.0250 - val_loss: 0.0029 - val_accuracy: 0.0000e+00\n",
            "Epoch 96/100\n",
            "10/10 [==============================] - 0s 4ms/step - loss: 0.0029 - accuracy: 0.0250 - val_loss: 0.0028 - val_accuracy: 0.0000e+00\n",
            "Epoch 97/100\n",
            "10/10 [==============================] - 0s 4ms/step - loss: 0.0029 - accuracy: 0.0250 - val_loss: 0.0028 - val_accuracy: 0.0000e+00\n",
            "Epoch 98/100\n",
            "10/10 [==============================] - 0s 4ms/step - loss: 0.0029 - accuracy: 0.0250 - val_loss: 0.0028 - val_accuracy: 0.0000e+00\n",
            "Epoch 99/100\n",
            "10/10 [==============================] - 0s 5ms/step - loss: 0.0028 - accuracy: 0.0250 - val_loss: 0.0027 - val_accuracy: 0.0000e+00\n",
            "Epoch 100/100\n",
            "10/10 [==============================] - 0s 4ms/step - loss: 0.0028 - accuracy: 0.0250 - val_loss: 0.0027 - val_accuracy: 0.0000e+00\n"
          ],
          "name": "stdout"
        }
      ]
    },
    {
      "cell_type": "code",
      "metadata": {
        "id": "ipLSxU69x19Q"
      },
      "source": [
        "y_hat = model_2.predict(X_test)"
      ],
      "execution_count": 22,
      "outputs": []
    },
    {
      "cell_type": "code",
      "metadata": {
        "colab": {
          "base_uri": "https://localhost:8080/",
          "height": 265
        },
        "id": "fVjqhwR9x5yj",
        "outputId": "3f236f0b-9e72-480a-8cb2-44b7259c741a"
      },
      "source": [
        "plt.plot(Hist_2.history['loss'])\n",
        "plt.show()"
      ],
      "execution_count": 23,
      "outputs": [
        {
          "output_type": "display_data",
          "data": {
            "image/png": "[encoded data removed]",
            "text/plain": [
              "<Figure size 432x288 with 1 Axes>"
            ]
          },
          "metadata": {
            "tags": [],
            "needs_background": "light"
          }
        }
      ]
    },
    {
      "cell_type": "code",
      "metadata": {
        "colab": {
          "base_uri": "https://localhost:8080/",
          "height": 265
        },
        "id": "0WBFODMOx66R",
        "outputId": "5eaf9e06-16ff-4045-8218-b9235bc02168"
      },
      "source": [
        "plt.scatter(range(20), y_test, c = 'g')\n",
        "plt.scatter(range(20), y_hat, c = 'r')\n",
        "plt.show()"
      ],
      "execution_count": 24,
      "outputs": [
        {
          "output_type": "display_data",
          "data": {
            "image/png": "[encoded data removed]",
            "text/plain": [
              "<Figure size 432x288 with 1 Axes>"
            ]
          },
          "metadata": {
            "tags": [],
            "needs_background": "light"
          }
        }
      ]
    },
    {
      "cell_type": "code",
      "metadata": {
        "colab": {
          "base_uri": "https://localhost:8080/"
        },
        "id": "R1EAkIsox9Dh",
        "outputId": "4274623b-61a7-4eab-c0ef-6ffd3421f34f"
      },
      "source": [
        "model_3 = models.Sequential(name = 'Stackd_RNN')\n",
        "model_3.add(layers.SimpleRNN(3,\n",
        "                             input_shape = (None, 1), \n",
        "                             return_sequences = True))\n",
        "model_3.add(layers.SimpleRNN(3,\n",
        "                             input_shape = (None, 1),\n",
        "                             return_sequences = False))\n",
        "model_3.add(layers.Dense(1))\n",
        "\n",
        "model_3.summary()"
      ],
      "execution_count": 25,
      "outputs": [
        {
          "output_type": "stream",
          "text": [
            "Model: \"Stackd_RNN\"\n",
            "_________________________________________________________________\n",
            "Layer (type)                 Output Shape              Param #   \n",
            "=================================================================\n",
            "simple_rnn_3 (SimpleRNN)     (None, None, 3)           15        \n",
            "_________________________________________________________________\n",
            "simple_rnn_4 (SimpleRNN)     (None, 3)                 21        \n",
            "_________________________________________________________________\n",
            "dense_2 (Dense)              (None, 1)                 4         \n",
            "=================================================================\n",
            "Total params: 40\n",
            "Trainable params: 40\n",
            "Non-trainable params: 0\n",
            "_________________________________________________________________\n"
          ],
          "name": "stdout"
        }
      ]
    },
    {
      "cell_type": "code",
      "metadata": {
        "id": "ZVY7BmxdyAjf"
      },
      "source": [
        "model_3.compile(loss = 'mse', \n",
        "                optimizer = 'adam', \n",
        "                metrics = ['accuracy'])"
      ],
      "execution_count": 26,
      "outputs": []
    },
    {
      "cell_type": "code",
      "metadata": {
        "colab": {
          "base_uri": "https://localhost:8080/"
        },
        "id": "wN5Jz2u7yCya",
        "outputId": "f2a45859-c736-465b-ddcc-31e8c0f1d70f"
      },
      "source": [
        "Hist_3 = model_3.fit(X_train, y_train, \n",
        "                     epochs = 100,\n",
        "                     batch_size = 8,\n",
        "                     validation_data = (X_test, y_test))"
      ],
      "execution_count": 27,
      "outputs": [
        {
          "output_type": "stream",
          "text": [
            "Epoch 1/100\n",
            "10/10 [==============================] - 2s 37ms/step - loss: 0.1550 - accuracy: 0.0125 - val_loss: 0.1203 - val_accuracy: 0.0000e+00\n",
            "Epoch 2/100\n",
            "10/10 [==============================] - 0s 5ms/step - loss: 0.1155 - accuracy: 0.0125 - val_loss: 0.0881 - val_accuracy: 0.0000e+00\n",
            "Epoch 3/100\n",
            "10/10 [==============================] - 0s 5ms/step - loss: 0.0878 - accuracy: 0.0125 - val_loss: 0.0671 - val_accuracy: 0.0000e+00\n",
            "Epoch 4/100\n",
            "10/10 [==============================] - 0s 5ms/step - loss: 0.0695 - accuracy: 0.0125 - val_loss: 0.0537 - val_accuracy: 0.0000e+00\n",
            "Epoch 5/100\n",
            "10/10 [==============================] - 0s 6ms/step - loss: 0.0566 - accuracy: 0.0250 - val_loss: 0.0451 - val_accuracy: 0.0000e+00\n",
            "Epoch 6/100\n",
            "10/10 [==============================] - 0s 5ms/step - loss: 0.0470 - accuracy: 0.0250 - val_loss: 0.0391 - val_accuracy: 0.0000e+00\n",
            "Epoch 7/100\n",
            "10/10 [==============================] - 0s 5ms/step - loss: 0.0393 - accuracy: 0.0250 - val_loss: 0.0347 - val_accuracy: 0.0000e+00\n",
            "Epoch 8/100\n",
            "10/10 [==============================] - 0s 5ms/step - loss: 0.0337 - accuracy: 0.0250 - val_loss: 0.0308 - val_accuracy: 0.0000e+00\n",
            "Epoch 9/100\n",
            "10/10 [==============================] - 0s 5ms/step - loss: 0.0286 - accuracy: 0.0250 - val_loss: 0.0275 - val_accuracy: 0.0000e+00\n",
            "Epoch 10/100\n",
            "10/10 [==============================] - 0s 5ms/step - loss: 0.0254 - accuracy: 0.0250 - val_loss: 0.0246 - val_accuracy: 0.0000e+00\n",
            "Epoch 11/100\n",
            "10/10 [==============================] - 0s 5ms/step - loss: 0.0221 - accuracy: 0.0250 - val_loss: 0.0219 - val_accuracy: 0.0000e+00\n",
            "Epoch 12/100\n",
            "10/10 [==============================] - 0s 5ms/step - loss: 0.0195 - accuracy: 0.0250 - val_loss: 0.0196 - val_accuracy: 0.0000e+00\n",
            "Epoch 13/100\n",
            "10/10 [==============================] - 0s 5ms/step - loss: 0.0173 - accuracy: 0.0250 - val_loss: 0.0176 - val_accuracy: 0.0000e+00\n",
            "Epoch 14/100\n",
            "10/10 [==============================] - 0s 5ms/step - loss: 0.0155 - accuracy: 0.0250 - val_loss: 0.0158 - val_accuracy: 0.0000e+00\n",
            "Epoch 15/100\n",
            "10/10 [==============================] - 0s 5ms/step - loss: 0.0140 - accuracy: 0.0250 - val_loss: 0.0142 - val_accuracy: 0.0000e+00\n",
            "Epoch 16/100\n",
            "10/10 [==============================] - 0s 5ms/step - loss: 0.0125 - accuracy: 0.0250 - val_loss: 0.0126 - val_accuracy: 0.0000e+00\n",
            "Epoch 17/100\n",
            "10/10 [==============================] - 0s 5ms/step - loss: 0.0112 - accuracy: 0.0250 - val_loss: 0.0112 - val_accuracy: 0.0000e+00\n",
            "Epoch 18/100\n",
            "10/10 [==============================] - 0s 6ms/step - loss: 0.0100 - accuracy: 0.0250 - val_loss: 0.0099 - val_accuracy: 0.0000e+00\n",
            "Epoch 19/100\n",
            "10/10 [==============================] - 0s 5ms/step - loss: 0.0091 - accuracy: 0.0250 - val_loss: 0.0089 - val_accuracy: 0.0000e+00\n",
            "Epoch 20/100\n",
            "10/10 [==============================] - 0s 5ms/step - loss: 0.0081 - accuracy: 0.0250 - val_loss: 0.0078 - val_accuracy: 0.0000e+00\n",
            "Epoch 21/100\n",
            "10/10 [==============================] - 0s 5ms/step - loss: 0.0073 - accuracy: 0.0250 - val_loss: 0.0069 - val_accuracy: 0.0000e+00\n",
            "Epoch 22/100\n",
            "10/10 [==============================] - 0s 5ms/step - loss: 0.0065 - accuracy: 0.0250 - val_loss: 0.0062 - val_accuracy: 0.0000e+00\n",
            "Epoch 23/100\n",
            "10/10 [==============================] - 0s 5ms/step - loss: 0.0059 - accuracy: 0.0250 - val_loss: 0.0055 - val_accuracy: 0.0000e+00\n",
            "Epoch 24/100\n",
            "10/10 [==============================] - 0s 7ms/step - loss: 0.0052 - accuracy: 0.0250 - val_loss: 0.0049 - val_accuracy: 0.0000e+00\n",
            "Epoch 25/100\n",
            "10/10 [==============================] - 0s 9ms/step - loss: 0.0047 - accuracy: 0.0250 - val_loss: 0.0044 - val_accuracy: 0.0000e+00\n",
            "Epoch 26/100\n",
            "10/10 [==============================] - 0s 7ms/step - loss: 0.0043 - accuracy: 0.0250 - val_loss: 0.0038 - val_accuracy: 0.0000e+00\n",
            "Epoch 27/100\n",
            "10/10 [==============================] - 0s 5ms/step - loss: 0.0038 - accuracy: 0.0250 - val_loss: 0.0035 - val_accuracy: 0.0000e+00\n",
            "Epoch 28/100\n",
            "10/10 [==============================] - 0s 6ms/step - loss: 0.0035 - accuracy: 0.0250 - val_loss: 0.0030 - val_accuracy: 0.0000e+00\n",
            "Epoch 29/100\n",
            "10/10 [==============================] - 0s 5ms/step - loss: 0.0031 - accuracy: 0.0250 - val_loss: 0.0028 - val_accuracy: 0.0000e+00\n",
            "Epoch 30/100\n",
            "10/10 [==============================] - 0s 5ms/step - loss: 0.0029 - accuracy: 0.0250 - val_loss: 0.0025 - val_accuracy: 0.0000e+00\n",
            "Epoch 31/100\n",
            "10/10 [==============================] - 0s 5ms/step - loss: 0.0026 - accuracy: 0.0250 - val_loss: 0.0023 - val_accuracy: 0.0000e+00\n",
            "Epoch 32/100\n",
            "10/10 [==============================] - 0s 5ms/step - loss: 0.0024 - accuracy: 0.0250 - val_loss: 0.0021 - val_accuracy: 0.0000e+00\n",
            "Epoch 33/100\n",
            "10/10 [==============================] - 0s 5ms/step - loss: 0.0022 - accuracy: 0.0250 - val_loss: 0.0019 - val_accuracy: 0.0000e+00\n",
            "Epoch 34/100\n",
            "10/10 [==============================] - 0s 6ms/step - loss: 0.0020 - accuracy: 0.0250 - val_loss: 0.0017 - val_accuracy: 0.0000e+00\n",
            "Epoch 35/100\n",
            "10/10 [==============================] - 0s 6ms/step - loss: 0.0019 - accuracy: 0.0250 - val_loss: 0.0016 - val_accuracy: 0.0000e+00\n",
            "Epoch 36/100\n",
            "10/10 [==============================] - 0s 6ms/step - loss: 0.0018 - accuracy: 0.0250 - val_loss: 0.0015 - val_accuracy: 0.0000e+00\n",
            "Epoch 37/100\n",
            "10/10 [==============================] - 0s 6ms/step - loss: 0.0017 - accuracy: 0.0250 - val_loss: 0.0014 - val_accuracy: 0.0000e+00\n",
            "Epoch 38/100\n",
            "10/10 [==============================] - 0s 5ms/step - loss: 0.0016 - accuracy: 0.0250 - val_loss: 0.0013 - val_accuracy: 0.0000e+00\n",
            "Epoch 39/100\n",
            "10/10 [==============================] - 0s 5ms/step - loss: 0.0015 - accuracy: 0.0250 - val_loss: 0.0013 - val_accuracy: 0.0000e+00\n",
            "Epoch 40/100\n",
            "10/10 [==============================] - 0s 6ms/step - loss: 0.0014 - accuracy: 0.0250 - val_loss: 0.0012 - val_accuracy: 0.0000e+00\n",
            "Epoch 41/100\n",
            "10/10 [==============================] - 0s 5ms/step - loss: 0.0014 - accuracy: 0.0250 - val_loss: 0.0012 - val_accuracy: 0.0000e+00\n",
            "Epoch 42/100\n",
            "10/10 [==============================] - 0s 5ms/step - loss: 0.0013 - accuracy: 0.0250 - val_loss: 0.0011 - val_accuracy: 0.0000e+00\n",
            "Epoch 43/100\n",
            "10/10 [==============================] - 0s 7ms/step - loss: 0.0013 - accuracy: 0.0250 - val_loss: 0.0011 - val_accuracy: 0.0000e+00\n",
            "Epoch 44/100\n",
            "10/10 [==============================] - 0s 6ms/step - loss: 0.0012 - accuracy: 0.0250 - val_loss: 0.0010 - val_accuracy: 0.0000e+00\n",
            "Epoch 45/100\n",
            "10/10 [==============================] - 0s 6ms/step - loss: 0.0012 - accuracy: 0.0250 - val_loss: 9.9569e-04 - val_accuracy: 0.0000e+00\n",
            "Epoch 46/100\n",
            "10/10 [==============================] - 0s 6ms/step - loss: 0.0012 - accuracy: 0.0250 - val_loss: 9.6648e-04 - val_accuracy: 0.0000e+00\n",
            "Epoch 47/100\n",
            "10/10 [==============================] - 0s 6ms/step - loss: 0.0011 - accuracy: 0.0250 - val_loss: 9.4440e-04 - val_accuracy: 0.0000e+00\n",
            "Epoch 48/100\n",
            "10/10 [==============================] - 0s 6ms/step - loss: 0.0011 - accuracy: 0.0250 - val_loss: 9.1724e-04 - val_accuracy: 0.0000e+00\n",
            "Epoch 49/100\n",
            "10/10 [==============================] - 0s 6ms/step - loss: 0.0011 - accuracy: 0.0250 - val_loss: 8.8922e-04 - val_accuracy: 0.0000e+00\n",
            "Epoch 50/100\n",
            "10/10 [==============================] - 0s 5ms/step - loss: 0.0010 - accuracy: 0.0250 - val_loss: 8.6287e-04 - val_accuracy: 0.0000e+00\n",
            "Epoch 51/100\n",
            "10/10 [==============================] - 0s 8ms/step - loss: 0.0010 - accuracy: 0.0250 - val_loss: 8.4256e-04 - val_accuracy: 0.0000e+00\n",
            "Epoch 52/100\n",
            "10/10 [==============================] - 0s 5ms/step - loss: 9.8560e-04 - accuracy: 0.0250 - val_loss: 8.1710e-04 - val_accuracy: 0.0000e+00\n",
            "Epoch 53/100\n",
            "10/10 [==============================] - 0s 5ms/step - loss: 9.5609e-04 - accuracy: 0.0250 - val_loss: 7.8863e-04 - val_accuracy: 0.0000e+00\n",
            "Epoch 54/100\n",
            "10/10 [==============================] - 0s 5ms/step - loss: 9.4263e-04 - accuracy: 0.0250 - val_loss: 7.6403e-04 - val_accuracy: 0.0000e+00\n",
            "Epoch 55/100\n",
            "10/10 [==============================] - 0s 6ms/step - loss: 9.1661e-04 - accuracy: 0.0250 - val_loss: 7.5023e-04 - val_accuracy: 0.0000e+00\n",
            "Epoch 56/100\n",
            "10/10 [==============================] - 0s 8ms/step - loss: 8.9000e-04 - accuracy: 0.0250 - val_loss: 7.1887e-04 - val_accuracy: 0.0000e+00\n",
            "Epoch 57/100\n",
            "10/10 [==============================] - 0s 5ms/step - loss: 8.9733e-04 - accuracy: 0.0250 - val_loss: 7.0946e-04 - val_accuracy: 0.0000e+00\n",
            "Epoch 58/100\n",
            "10/10 [==============================] - 0s 5ms/step - loss: 8.4666e-04 - accuracy: 0.0250 - val_loss: 6.9010e-04 - val_accuracy: 0.0000e+00\n",
            "Epoch 59/100\n",
            "10/10 [==============================] - 0s 6ms/step - loss: 8.3922e-04 - accuracy: 0.0250 - val_loss: 6.5914e-04 - val_accuracy: 0.0000e+00\n",
            "Epoch 60/100\n",
            "10/10 [==============================] - 0s 5ms/step - loss: 8.1790e-04 - accuracy: 0.0250 - val_loss: 6.3136e-04 - val_accuracy: 0.0000e+00\n",
            "Epoch 61/100\n",
            "10/10 [==============================] - 0s 6ms/step - loss: 7.9974e-04 - accuracy: 0.0250 - val_loss: 6.0985e-04 - val_accuracy: 0.0000e+00\n",
            "Epoch 62/100\n",
            "10/10 [==============================] - 0s 5ms/step - loss: 7.9312e-04 - accuracy: 0.0250 - val_loss: 6.0236e-04 - val_accuracy: 0.0000e+00\n",
            "Epoch 63/100\n",
            "10/10 [==============================] - 0s 7ms/step - loss: 7.7083e-04 - accuracy: 0.0250 - val_loss: 5.7717e-04 - val_accuracy: 0.0000e+00\n",
            "Epoch 64/100\n",
            "10/10 [==============================] - 0s 5ms/step - loss: 7.5774e-04 - accuracy: 0.0250 - val_loss: 5.5826e-04 - val_accuracy: 0.0000e+00\n",
            "Epoch 65/100\n",
            "10/10 [==============================] - 0s 5ms/step - loss: 7.3982e-04 - accuracy: 0.0250 - val_loss: 5.5176e-04 - val_accuracy: 0.0000e+00\n",
            "Epoch 66/100\n",
            "10/10 [==============================] - 0s 5ms/step - loss: 7.3645e-04 - accuracy: 0.0250 - val_loss: 5.3401e-04 - val_accuracy: 0.0000e+00\n",
            "Epoch 67/100\n",
            "10/10 [==============================] - 0s 6ms/step - loss: 7.2115e-04 - accuracy: 0.0250 - val_loss: 5.1976e-04 - val_accuracy: 0.0000e+00\n",
            "Epoch 68/100\n",
            "10/10 [==============================] - 0s 5ms/step - loss: 7.0926e-04 - accuracy: 0.0250 - val_loss: 5.0623e-04 - val_accuracy: 0.0000e+00\n",
            "Epoch 69/100\n",
            "10/10 [==============================] - 0s 5ms/step - loss: 6.9789e-04 - accuracy: 0.0250 - val_loss: 4.8850e-04 - val_accuracy: 0.0000e+00\n",
            "Epoch 70/100\n",
            "10/10 [==============================] - 0s 6ms/step - loss: 6.9133e-04 - accuracy: 0.0250 - val_loss: 4.8157e-04 - val_accuracy: 0.0000e+00\n",
            "Epoch 71/100\n",
            "10/10 [==============================] - 0s 8ms/step - loss: 7.0704e-04 - accuracy: 0.0250 - val_loss: 4.7977e-04 - val_accuracy: 0.0000e+00\n",
            "Epoch 72/100\n",
            "10/10 [==============================] - 0s 5ms/step - loss: 6.8324e-04 - accuracy: 0.0250 - val_loss: 4.4937e-04 - val_accuracy: 0.0000e+00\n",
            "Epoch 73/100\n",
            "10/10 [==============================] - 0s 5ms/step - loss: 6.7710e-04 - accuracy: 0.0250 - val_loss: 4.7027e-04 - val_accuracy: 0.0000e+00\n",
            "Epoch 74/100\n",
            "10/10 [==============================] - 0s 6ms/step - loss: 6.4933e-04 - accuracy: 0.0250 - val_loss: 4.3264e-04 - val_accuracy: 0.0000e+00\n",
            "Epoch 75/100\n",
            "10/10 [==============================] - 0s 6ms/step - loss: 6.3768e-04 - accuracy: 0.0250 - val_loss: 4.2887e-04 - val_accuracy: 0.0000e+00\n",
            "Epoch 76/100\n",
            "10/10 [==============================] - 0s 6ms/step - loss: 6.3321e-04 - accuracy: 0.0250 - val_loss: 4.2068e-04 - val_accuracy: 0.0000e+00\n",
            "Epoch 77/100\n",
            "10/10 [==============================] - 0s 5ms/step - loss: 6.2837e-04 - accuracy: 0.0250 - val_loss: 4.1349e-04 - val_accuracy: 0.0000e+00\n",
            "Epoch 78/100\n",
            "10/10 [==============================] - 0s 5ms/step - loss: 6.2645e-04 - accuracy: 0.0250 - val_loss: 4.3077e-04 - val_accuracy: 0.0000e+00\n",
            "Epoch 79/100\n",
            "10/10 [==============================] - 0s 5ms/step - loss: 6.1077e-04 - accuracy: 0.0250 - val_loss: 3.9091e-04 - val_accuracy: 0.0000e+00\n",
            "Epoch 80/100\n",
            "10/10 [==============================] - 0s 6ms/step - loss: 6.0464e-04 - accuracy: 0.0250 - val_loss: 3.8470e-04 - val_accuracy: 0.0000e+00\n",
            "Epoch 81/100\n",
            "10/10 [==============================] - 0s 6ms/step - loss: 5.9673e-04 - accuracy: 0.0250 - val_loss: 3.8012e-04 - val_accuracy: 0.0000e+00\n",
            "Epoch 82/100\n",
            "10/10 [==============================] - 0s 5ms/step - loss: 5.8980e-04 - accuracy: 0.0250 - val_loss: 3.7258e-04 - val_accuracy: 0.0000e+00\n",
            "Epoch 83/100\n",
            "10/10 [==============================] - 0s 6ms/step - loss: 5.8217e-04 - accuracy: 0.0250 - val_loss: 3.6564e-04 - val_accuracy: 0.0000e+00\n",
            "Epoch 84/100\n",
            "10/10 [==============================] - 0s 5ms/step - loss: 5.9124e-04 - accuracy: 0.0250 - val_loss: 3.8351e-04 - val_accuracy: 0.0000e+00\n",
            "Epoch 85/100\n",
            "10/10 [==============================] - 0s 5ms/step - loss: 5.7653e-04 - accuracy: 0.0250 - val_loss: 3.3703e-04 - val_accuracy: 0.0000e+00\n",
            "Epoch 86/100\n",
            "10/10 [==============================] - 0s 7ms/step - loss: 5.6333e-04 - accuracy: 0.0250 - val_loss: 3.5643e-04 - val_accuracy: 0.0000e+00\n",
            "Epoch 87/100\n",
            "10/10 [==============================] - 0s 6ms/step - loss: 5.5723e-04 - accuracy: 0.0250 - val_loss: 3.4978e-04 - val_accuracy: 0.0000e+00\n",
            "Epoch 88/100\n",
            "10/10 [==============================] - 0s 5ms/step - loss: 5.5271e-04 - accuracy: 0.0250 - val_loss: 3.3893e-04 - val_accuracy: 0.0000e+00\n",
            "Epoch 89/100\n",
            "10/10 [==============================] - 0s 6ms/step - loss: 5.5433e-04 - accuracy: 0.0250 - val_loss: 3.2991e-04 - val_accuracy: 0.0000e+00\n",
            "Epoch 90/100\n",
            "10/10 [==============================] - 0s 6ms/step - loss: 5.6136e-04 - accuracy: 0.0250 - val_loss: 3.4836e-04 - val_accuracy: 0.0000e+00\n",
            "Epoch 91/100\n",
            "10/10 [==============================] - 0s 6ms/step - loss: 5.2628e-04 - accuracy: 0.0250 - val_loss: 3.0624e-04 - val_accuracy: 0.0000e+00\n",
            "Epoch 92/100\n",
            "10/10 [==============================] - 0s 5ms/step - loss: 5.2227e-04 - accuracy: 0.0250 - val_loss: 3.2470e-04 - val_accuracy: 0.0000e+00\n",
            "Epoch 93/100\n",
            "10/10 [==============================] - 0s 5ms/step - loss: 5.2669e-04 - accuracy: 0.0250 - val_loss: 3.3590e-04 - val_accuracy: 0.0000e+00\n",
            "Epoch 94/100\n",
            "10/10 [==============================] - 0s 5ms/step - loss: 5.1588e-04 - accuracy: 0.0250 - val_loss: 2.9311e-04 - val_accuracy: 0.0000e+00\n",
            "Epoch 95/100\n",
            "10/10 [==============================] - 0s 5ms/step - loss: 5.0574e-04 - accuracy: 0.0250 - val_loss: 3.3168e-04 - val_accuracy: 0.0000e+00\n",
            "Epoch 96/100\n",
            "10/10 [==============================] - 0s 6ms/step - loss: 5.0597e-04 - accuracy: 0.0250 - val_loss: 2.8537e-04 - val_accuracy: 0.0000e+00\n",
            "Epoch 97/100\n",
            "10/10 [==============================] - 0s 5ms/step - loss: 4.8941e-04 - accuracy: 0.0250 - val_loss: 2.9604e-04 - val_accuracy: 0.0000e+00\n",
            "Epoch 98/100\n",
            "10/10 [==============================] - 0s 6ms/step - loss: 4.8537e-04 - accuracy: 0.0250 - val_loss: 3.0155e-04 - val_accuracy: 0.0000e+00\n",
            "Epoch 99/100\n",
            "10/10 [==============================] - 0s 7ms/step - loss: 4.8581e-04 - accuracy: 0.0250 - val_loss: 2.8969e-04 - val_accuracy: 0.0000e+00\n",
            "Epoch 100/100\n",
            "10/10 [==============================] - 0s 5ms/step - loss: 4.7728e-04 - accuracy: 0.0250 - val_loss: 2.7433e-04 - val_accuracy: 0.0000e+00\n"
          ],
          "name": "stdout"
        }
      ]
    },
    {
      "cell_type": "code",
      "metadata": {
        "id": "0Qz3XpOhyELm"
      },
      "source": [
        "y_hat = model_3.predict(X_test)"
      ],
      "execution_count": 28,
      "outputs": []
    },
    {
      "cell_type": "code",
      "metadata": {
        "colab": {
          "base_uri": "https://localhost:8080/",
          "height": 266
        },
        "id": "HDmCS9JlyHxK",
        "outputId": "21e88451-79b0-41e7-8e79-d3389a5e265a"
      },
      "source": [
        "plt.plot(Hist_3.history['loss'])\n",
        "plt.show()"
      ],
      "execution_count": 29,
      "outputs": [
        {
          "output_type": "display_data",
          "data": {
            "image/png": "[encoded data removed]",
            "text/plain": [
              "<Figure size 432x288 with 1 Axes>"
            ]
          },
          "metadata": {
            "tags": [],
            "needs_background": "light"
          }
        }
      ]
    },
    {
      "cell_type": "code",
      "metadata": {
        "colab": {
          "base_uri": "https://localhost:8080/",
          "height": 265
        },
        "id": "v4iBkavQyI_3",
        "outputId": "186da07e-11be-4729-dfba-35b77b14d94c"
      },
      "source": [
        "plt.scatter(range(20), y_test, c = 'g')\n",
        "plt.scatter(range(20), y_hat, c = 'r')\n",
        "plt.show()"
      ],
      "execution_count": 30,
      "outputs": [
        {
          "output_type": "display_data",
          "data": {
            "image/png": "[encoded data removed]",
            "text/plain": [
              "<Figure size 432x288 with 1 Axes>"
            ]
          },
          "metadata": {
            "tags": [],
            "needs_background": "light"
          }
        }
      ]
    },
    {
      "cell_type": "code",
      "metadata": {
        "id": "kLCdXyOkyKx_"
      },
      "source": [
        "# 'input_length'에 대한 Sequance 전체를 출력할지 설정\n",
        "# 'False' vs. 'True'\n",
        "\n",
        "X = [[[i + j] for i in range(5)] for j in range(100)]\n",
        "y = [i + 5 for i in range(100)]"
      ],
      "execution_count": 31,
      "outputs": []
    },
    {
      "cell_type": "code",
      "metadata": {
        "id": "hNHC2XVMyQlw"
      },
      "source": [
        "X = np.array(X, dtype = float)\n",
        "y = np.array(y, dtype = float)"
      ],
      "execution_count": 32,
      "outputs": []
    },
    {
      "cell_type": "code",
      "metadata": {
        "colab": {
          "base_uri": "https://localhost:8080/"
        },
        "id": "ReH-3PStySfW",
        "outputId": "58fe72de-77a4-4a32-954a-db7aacc76708"
      },
      "source": [
        "X_train, X_test, y_train, y_test = train_test_split(X, y, \n",
        "                                                    test_size = 0.2, \n",
        "                                                    random_state = 2045)\n",
        "\n",
        "X_train.shape, y_train.shape, X_test.shape, y_test.shape"
      ],
      "execution_count": 33,
      "outputs": [
        {
          "output_type": "execute_result",
          "data": {
            "text/plain": [
              "((80, 5, 1), (80,), (20, 5, 1), (20,))"
            ]
          },
          "metadata": {
            "tags": []
          },
          "execution_count": 33
        }
      ]
    },
    {
      "cell_type": "code",
      "metadata": {
        "colab": {
          "base_uri": "https://localhost:8080/"
        },
        "id": "63V84EzkyUAg",
        "outputId": "214a88c0-f4ae-46b1-a175-aa095793ae42"
      },
      "source": [
        "X_test[0].reshape(1, 5, 1)"
      ],
      "execution_count": 34,
      "outputs": [
        {
          "output_type": "execute_result",
          "data": {
            "text/plain": [
              "array([[[29.],\n",
              "        [30.],\n",
              "        [31.],\n",
              "        [32.],\n",
              "        [33.]]])"
            ]
          },
          "metadata": {
            "tags": []
          },
          "execution_count": 34
        }
      ]
    },
    {
      "cell_type": "code",
      "metadata": {
        "id": "Q6BQKlbyyWHi"
      },
      "source": [
        "# 마지막 output만 출력\n",
        "Model_False = models.Sequential()\n",
        "Model_False.add(layers.SimpleRNN(1,\n",
        "                                 input_shape = (5, 1), \n",
        "                                 return_sequences = False))\n",
        "\n",
        "Model_False.compile(loss = 'mse',\n",
        "                    optimizer = 'adam',\n",
        "                    metrics = ['accuracy'])"
      ],
      "execution_count": 35,
      "outputs": []
    },
    {
      "cell_type": "code",
      "metadata": {
        "id": "3RucWzGrydl7"
      },
      "source": [
        "Model_False = models.Sequential()\n",
        "Model_False.add(layers.SimpleRNN(3,\n",
        "                                 input_shape = (5, 1), \n",
        "                                 return_sequences = False))\n",
        "\n",
        "Model_False.compile(loss = 'mse',\n",
        "                    optimizer = 'adam',\n",
        "                    metrics = ['accuracy'])"
      ],
      "execution_count": 36,
      "outputs": []
    },
    {
      "cell_type": "code",
      "metadata": {
        "colab": {
          "base_uri": "https://localhost:8080/"
        },
        "id": "Dpbyv8b6yf4M",
        "outputId": "18949c90-5a25-4873-b0c2-ea108037f607"
      },
      "source": [
        "Model_False.predict(X_test[0].reshape(1, 5, 1))"
      ],
      "execution_count": 37,
      "outputs": [
        {
          "output_type": "execute_result",
          "data": {
            "text/plain": [
              "array([[ 1.        ,  1.        , -0.99999887]], dtype=float32)"
            ]
          },
          "metadata": {
            "tags": []
          },
          "execution_count": 37
        }
      ]
    },
    {
      "cell_type": "code",
      "metadata": {
        "id": "TGH9O3m8yhy8"
      },
      "source": [
        "Model_True = models.Sequential()\n",
        "Model_True.add(layers.SimpleRNN(1,\n",
        "                                input_shape = (5, 1), \n",
        "                                return_sequences = True))\n",
        "\n",
        "Model_True.compile(loss = 'mse',\n",
        "                   optimizer = 'adam',\n",
        "                   metrics = ['accuracy'])"
      ],
      "execution_count": 38,
      "outputs": []
    },
    {
      "cell_type": "code",
      "metadata": {
        "colab": {
          "base_uri": "https://localhost:8080/"
        },
        "id": "eoCse8E0ymsX",
        "outputId": "494a9e04-e077-4aae-b37c-5d8239119fd3"
      },
      "source": [
        "Model_True.predict(X_test[0].reshape(1, 5, 1))"
      ],
      "execution_count": 39,
      "outputs": [
        {
          "output_type": "stream",
          "text": [
            "WARNING:tensorflow:5 out of the last 5 calls to <function Model.make_predict_function.<locals>.predict_function at 0x7f91d6c908c0> triggered tf.function retracing. Tracing is expensive and the excessive number of tracings could be due to (1) creating @tf.function repeatedly in a loop, (2) passing tensors with different shapes, (3) passing Python objects instead of tensors. For (1), please define your @tf.function outside of the loop. For (2), @tf.function has experimental_relax_shapes=True option that relaxes argument shapes that can avoid unnecessary retracing. For (3), please refer to https://www.tensorflow.org/guide/function#controlling_retracing and https://www.tensorflow.org/api_docs/python/tf/function for  more details.\n"
          ],
          "name": "stdout"
        },
        {
          "output_type": "execute_result",
          "data": {
            "text/plain": [
              "array([[[1.],\n",
              "        [1.],\n",
              "        [1.],\n",
              "        [1.],\n",
              "        [1.]]], dtype=float32)"
            ]
          },
          "metadata": {
            "tags": []
          },
          "execution_count": 39
        }
      ]
    },
    {
      "cell_type": "code",
      "metadata": {
        "id": "9zZi9yg8yoxF"
      },
      "source": [
        "Model_True = models.Sequential()\n",
        "Model_True.add(layers.SimpleRNN(3,\n",
        "                                input_shape = (5, 1), \n",
        "                                return_sequences = True))\n",
        "\n",
        "Model_True.compile(loss = 'mse',\n",
        "                   optimizer = 'adam',\n",
        "                   metrics = ['accuracy'])"
      ],
      "execution_count": 40,
      "outputs": []
    },
    {
      "cell_type": "code",
      "metadata": {
        "colab": {
          "base_uri": "https://localhost:8080/"
        },
        "id": "DDHn0iAZyqXs",
        "outputId": "6022e79b-220b-4640-d6e3-e6a071c81323"
      },
      "source": [
        "Model_True.predict(X_test[0].reshape(1, 5, 1))"
      ],
      "execution_count": 41,
      "outputs": [
        {
          "output_type": "stream",
          "text": [
            "WARNING:tensorflow:6 out of the last 6 calls to <function Model.make_predict_function.<locals>.predict_function at 0x7f91d6994560> triggered tf.function retracing. Tracing is expensive and the excessive number of tracings could be due to (1) creating @tf.function repeatedly in a loop, (2) passing tensors with different shapes, (3) passing Python objects instead of tensors. For (1), please define your @tf.function outside of the loop. For (2), @tf.function has experimental_relax_shapes=True option that relaxes argument shapes that can avoid unnecessary retracing. For (3), please refer to https://www.tensorflow.org/guide/function#controlling_retracing and https://www.tensorflow.org/api_docs/python/tf/function for  more details.\n"
          ],
          "name": "stdout"
        },
        {
          "output_type": "execute_result",
          "data": {
            "text/plain": [
              "array([[[-1.,  1.,  1.],\n",
              "        [-1.,  1.,  1.],\n",
              "        [-1.,  1.,  1.],\n",
              "        [-1.,  1.,  1.],\n",
              "        [-1.,  1.,  1.]]], dtype=float32)"
            ]
          },
          "metadata": {
            "tags": []
          },
          "execution_count": 41
        }
      ]
    },
    {
      "cell_type": "code",
      "metadata": {
        "id": "6RW7nuEuyro8"
      },
      "source": [
        ""
      ],
      "execution_count": null,
      "outputs": []
    }
  ]
}