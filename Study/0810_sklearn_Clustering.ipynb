{
  "nbformat": 4,
  "nbformat_minor": 0,
  "metadata": {
    "colab": {
      "name": "0810_sklearn_Clustering.ipynb",
      "provenance": []
    },
    "kernelspec": {
      "name": "python3",
      "display_name": "Python 3"
    },
    "language_info": {
      "name": "python"
    }
  },
  "cells": [
    {
      "cell_type": "code",
      "metadata": {
        "id": "fpLEjgtpwSqJ"
      },
      "source": [
        "# sklearn Clustering 군집분석\n",
        "\n",
        "import warnings\n",
        "warnings.filterwarnings('ignore')"
      ],
      "execution_count": 1,
      "outputs": []
    },
    {
      "cell_type": "code",
      "metadata": {
        "id": "a7236_87wouu"
      },
      "source": [
        "# 실습용 데이터 설정 \n",
        "\n",
        "\n",
        "import matplotlib.pyplot as plt\n",
        "import numpy as np\n",
        "import pandas as pd\n",
        "\n"
      ],
      "execution_count": 2,
      "outputs": []
    },
    {
      "cell_type": "code",
      "metadata": {
        "id": "RYX0mn0gwx2T"
      },
      "source": [
        "# load iris Dataset\n",
        "\n",
        "from sklearn.datasets import load_iris\n",
        "iris = load_iris()"
      ],
      "execution_count": 3,
      "outputs": []
    },
    {
      "cell_type": "code",
      "metadata": {
        "colab": {
          "base_uri": "https://localhost:8080/",
          "height": 142
        },
        "id": "Jcg8RJa0w7Ou",
        "outputId": "758b6b20-04fd-40cb-de42-8932c3493d8f"
      },
      "source": [
        "DF = pd.DataFrame(data = iris.data,\n",
        "                  columns = ['sepal_lenght',\n",
        "                            'sepal_width',\n",
        "                            'petal_length',\n",
        "                            'petal_width'])\n",
        "\n",
        "DF.head(3)"
      ],
      "execution_count": 5,
      "outputs": [
        {
          "output_type": "execute_result",
          "data": {
            "text/html": [
              "<div>\n",
              "<style scoped>\n",
              "    .dataframe tbody tr th:only-of-type {\n",
              "        vertical-align: middle;\n",
              "    }\n",
              "\n",
              "    .dataframe tbody tr th {\n",
              "        vertical-align: top;\n",
              "    }\n",
              "\n",
              "    .dataframe thead th {\n",
              "        text-align: right;\n",
              "    }\n",
              "</style>\n",
              "<table border=\"1\" class=\"dataframe\">\n",
              "  <thead>\n",
              "    <tr style=\"text-align: right;\">\n",
              "      <th></th>\n",
              "      <th>sepal_lenght</th>\n",
              "      <th>sepal_width</th>\n",
              "      <th>petal_length</th>\n",
              "      <th>petal_width</th>\n",
              "    </tr>\n",
              "  </thead>\n",
              "  <tbody>\n",
              "    <tr>\n",
              "      <th>0</th>\n",
              "      <td>5.1</td>\n",
              "      <td>3.5</td>\n",
              "      <td>1.4</td>\n",
              "      <td>0.2</td>\n",
              "    </tr>\n",
              "    <tr>\n",
              "      <th>1</th>\n",
              "      <td>4.9</td>\n",
              "      <td>3.0</td>\n",
              "      <td>1.4</td>\n",
              "      <td>0.2</td>\n",
              "    </tr>\n",
              "    <tr>\n",
              "      <th>2</th>\n",
              "      <td>4.7</td>\n",
              "      <td>3.2</td>\n",
              "      <td>1.3</td>\n",
              "      <td>0.2</td>\n",
              "    </tr>\n",
              "  </tbody>\n",
              "</table>\n",
              "</div>"
            ],
            "text/plain": [
              "   sepal_lenght  sepal_width  petal_length  petal_width\n",
              "0           5.1          3.5           1.4          0.2\n",
              "1           4.9          3.0           1.4          0.2\n",
              "2           4.7          3.2           1.3          0.2"
            ]
          },
          "metadata": {
            "tags": []
          },
          "execution_count": 5
        }
      ]
    },
    {
      "cell_type": "code",
      "metadata": {
        "colab": {
          "base_uri": "https://localhost:8080/"
        },
        "id": "zD0J_pIQxSBH",
        "outputId": "0569e49f-7afc-4326-b962-8131738cad62"
      },
      "source": [
        "# K-means \n",
        "# Modeling\n",
        "\n",
        "from sklearn.cluster import KMeans\n",
        "\n",
        "kmeans_3 = KMeans(n_clusters = 3,\n",
        "                  init = 'k-means++',\n",
        "                  max_iter = 15,\n",
        "                  random_state = 2045)\n",
        "\n",
        "kmeans_3.fit(iris.data)"
      ],
      "execution_count": 6,
      "outputs": [
        {
          "output_type": "execute_result",
          "data": {
            "text/plain": [
              "KMeans(algorithm='auto', copy_x=True, init='k-means++', max_iter=15,\n",
              "       n_clusters=3, n_init=10, n_jobs=None, precompute_distances='auto',\n",
              "       random_state=2045, tol=0.0001, verbose=0)"
            ]
          },
          "metadata": {
            "tags": []
          },
          "execution_count": 6
        }
      ]
    },
    {
      "cell_type": "code",
      "metadata": {
        "id": "3nvQTL4NxtXy"
      },
      "source": [
        "#군집결과\n",
        "\n",
        "DF['kmeans'] = kmeans_3.labels_\n",
        "DF['target'] = iris.target"
      ],
      "execution_count": 7,
      "outputs": []
    },
    {
      "cell_type": "code",
      "metadata": {
        "colab": {
          "base_uri": "https://localhost:8080/"
        },
        "id": "xmxxBQhMx3pC",
        "outputId": "037ba32f-a09a-423f-b7df-9acafb920717"
      },
      "source": [
        "DF.groupby('target')['kmeans'].value_counts()"
      ],
      "execution_count": 8,
      "outputs": [
        {
          "output_type": "execute_result",
          "data": {
            "text/plain": [
              "target  kmeans\n",
              "0       1         50\n",
              "1       0         48\n",
              "        2          2\n",
              "2       2         36\n",
              "        0         14\n",
              "Name: kmeans, dtype: int64"
            ]
          },
          "metadata": {
            "tags": []
          },
          "execution_count": 8
        }
      ]
    },
    {
      "cell_type": "code",
      "metadata": {
        "colab": {
          "base_uri": "https://localhost:8080/"
        },
        "id": "YgrIv3XGx96K",
        "outputId": "d16c5fc8-dd7f-429f-e5e6-7c968d5470e1"
      },
      "source": [
        "# Mean Shift (평균이동)\n",
        "\n",
        "# Modeling\n",
        "# Hyperparameter\n",
        "# bandwidth : 대역폭이 클수록 적은 수의 군집중심을 가짐\n",
        "\n",
        "from sklearn.cluster import MeanShift\n",
        "meanshift = MeanShift(bandwidth = 0.86)\n",
        "meanshift.fit_predict(iris.data)"
      ],
      "execution_count": 11,
      "outputs": [
        {
          "output_type": "execute_result",
          "data": {
            "text/plain": [
              "array([1, 1, 1, 1, 1, 1, 1, 1, 1, 1, 1, 1, 1, 1, 1, 1, 1, 1, 1, 1, 1, 1,\n",
              "       1, 1, 1, 1, 1, 1, 1, 1, 1, 1, 1, 1, 1, 1, 1, 1, 1, 1, 1, 1, 1, 1,\n",
              "       1, 1, 1, 1, 1, 1, 0, 0, 0, 0, 0, 0, 0, 0, 0, 0, 0, 0, 0, 0, 0, 0,\n",
              "       0, 0, 0, 0, 0, 0, 0, 0, 0, 0, 0, 2, 0, 0, 0, 0, 0, 0, 0, 0, 0, 0,\n",
              "       0, 0, 0, 0, 0, 0, 0, 0, 0, 0, 1, 0, 2, 0, 2, 2, 2, 2, 0, 2, 2, 2,\n",
              "       2, 2, 2, 0, 0, 2, 2, 2, 2, 0, 2, 0, 2, 0, 2, 2, 0, 0, 2, 2, 2, 2,\n",
              "       2, 0, 2, 2, 2, 2, 0, 2, 2, 2, 0, 2, 2, 2, 0, 2, 2, 0])"
            ]
          },
          "metadata": {
            "tags": []
          },
          "execution_count": 11
        }
      ]
    },
    {
      "cell_type": "code",
      "metadata": {
        "colab": {
          "base_uri": "https://localhost:8080/"
        },
        "id": "JKV7d5AmybtV",
        "outputId": "c19b284c-d04b-4759-f1d4-b47abdc537f6"
      },
      "source": [
        "from sklearn.cluster import estimate_bandwidth\n",
        "\n",
        "estimate_bandwidth(iris.data)"
      ],
      "execution_count": 12,
      "outputs": [
        {
          "output_type": "execute_result",
          "data": {
            "text/plain": [
              "1.2020768127998687"
            ]
          },
          "metadata": {
            "tags": []
          },
          "execution_count": 12
        }
      ]
    },
    {
      "cell_type": "code",
      "metadata": {
        "id": "oJ3l7nn-ymuu"
      },
      "source": [
        "# 군집결과\n",
        "\n",
        "DF['meanshift'] = meanshift.fit_predict(iris.data)"
      ],
      "execution_count": 13,
      "outputs": []
    },
    {
      "cell_type": "code",
      "metadata": {
        "colab": {
          "base_uri": "https://localhost:8080/"
        },
        "id": "q_7P063Pys2G",
        "outputId": "0181d7cd-baa2-4d31-d6d2-c045c8d49c63"
      },
      "source": [
        "DF.groupby('target')['meanshift'].value_counts()"
      ],
      "execution_count": 14,
      "outputs": [
        {
          "output_type": "execute_result",
          "data": {
            "text/plain": [
              "target  meanshift\n",
              "0       1            50\n",
              "1       0            48\n",
              "        1             1\n",
              "        2             1\n",
              "2       2            36\n",
              "        0            14\n",
              "Name: meanshift, dtype: int64"
            ]
          },
          "metadata": {
            "tags": []
          },
          "execution_count": 14
        }
      ]
    },
    {
      "cell_type": "code",
      "metadata": {
        "colab": {
          "base_uri": "https://localhost:8080/"
        },
        "id": "KRxXFOycy1p3",
        "outputId": "7c1a0a3e-8d2d-4f70-9b4d-c40d11064fea"
      },
      "source": [
        "# GMM(Gaussian Mixture Model)\n",
        "# 데이터가 여러개의 가우시안 분포를 가진 데이터들의 집합이라고 가정\n",
        "\n",
        "\n",
        "# Modeling\n",
        "\n",
        "from sklearn.mixture import GaussianMixture\n",
        "\n",
        "gmm = GaussianMixture(n_components = 3,\n",
        "                      random_state = 2045)\n",
        "\n",
        "gmm.fit(iris.data)"
      ],
      "execution_count": 15,
      "outputs": [
        {
          "output_type": "execute_result",
          "data": {
            "text/plain": [
              "GaussianMixture(covariance_type='full', init_params='kmeans', max_iter=100,\n",
              "                means_init=None, n_components=3, n_init=1, precisions_init=None,\n",
              "                random_state=2045, reg_covar=1e-06, tol=0.001, verbose=0,\n",
              "                verbose_interval=10, warm_start=False, weights_init=None)"
            ]
          },
          "metadata": {
            "tags": []
          },
          "execution_count": 15
        }
      ]
    },
    {
      "cell_type": "code",
      "metadata": {
        "colab": {
          "base_uri": "https://localhost:8080/"
        },
        "id": "8P79pmfEzPaO",
        "outputId": "42e039bf-26a8-4319-a126-9ca5f88c3f9e"
      },
      "source": [
        "gmm.predict(iris.data)"
      ],
      "execution_count": 16,
      "outputs": [
        {
          "output_type": "execute_result",
          "data": {
            "text/plain": [
              "array([1, 1, 1, 1, 1, 1, 1, 1, 1, 1, 1, 1, 1, 1, 1, 1, 1, 1, 1, 1, 1, 1,\n",
              "       1, 1, 1, 1, 1, 1, 1, 1, 1, 1, 1, 1, 1, 1, 1, 1, 1, 1, 1, 1, 1, 1,\n",
              "       1, 1, 1, 1, 1, 1, 0, 0, 0, 0, 0, 0, 0, 0, 0, 0, 0, 0, 0, 0, 0, 0,\n",
              "       0, 0, 2, 0, 2, 0, 2, 0, 0, 0, 0, 2, 0, 0, 0, 0, 0, 2, 0, 0, 0, 0,\n",
              "       0, 0, 0, 0, 0, 0, 0, 0, 0, 0, 0, 0, 2, 2, 2, 2, 2, 2, 2, 2, 2, 2,\n",
              "       2, 2, 2, 2, 2, 2, 2, 2, 2, 2, 2, 2, 2, 2, 2, 2, 2, 2, 2, 2, 2, 2,\n",
              "       2, 2, 2, 2, 2, 2, 2, 2, 2, 2, 2, 2, 2, 2, 2, 2, 2, 2])"
            ]
          },
          "metadata": {
            "tags": []
          },
          "execution_count": 16
        }
      ]
    },
    {
      "cell_type": "code",
      "metadata": {
        "colab": {
          "base_uri": "https://localhost:8080/"
        },
        "id": "W4gDwryPzSJD",
        "outputId": "414dfa0b-2565-4fec-8230-0a21e3e5d891"
      },
      "source": [
        "#  군집결과\n",
        "\n",
        "DF['gmm'] = gmm.predict(iris.data)\n",
        "\n",
        "DF.groupby('target')['gmm'].value_counts()"
      ],
      "execution_count": 18,
      "outputs": [
        {
          "output_type": "execute_result",
          "data": {
            "text/plain": [
              "target  gmm\n",
              "0       1      50\n",
              "1       0      45\n",
              "        2       5\n",
              "2       2      50\n",
              "Name: gmm, dtype: int64"
            ]
          },
          "metadata": {
            "tags": []
          },
          "execution_count": 18
        }
      ]
    },
    {
      "cell_type": "code",
      "metadata": {
        "colab": {
          "base_uri": "https://localhost:8080/"
        },
        "id": "PJHOe5DczeJD",
        "outputId": "ebe91109-1f92-498b-fc5c-90f15eb54543"
      },
      "source": [
        "# DBSCAN \n",
        "# 밀도 기반 군집\n",
        "\n",
        "# Modeling\n",
        "\n",
        "# Hyperparameter\n",
        "#  epsilon(esp, 입실론 주변 영역)\n",
        "#   개별 데이터포인트를 중심으로 '입실론 반경'을 가지는 주변 영역\n",
        "#   'Core Point' 기준\n",
        "#  min point(min_samples, 최소 데이터 개수)\n",
        "#   개별 데이터포인트의 '입실론 주변 영역'에 포함되는 다른 데이터포인트의 개수\n",
        "#   조건 만족 시 'Core Point'로 지정\n",
        "\n",
        "\n",
        "from sklearn.cluster import DBSCAN\n",
        "\n",
        "dbscan = DBSCAN(eps = 0.8,\n",
        "                min_samples = 8,\n",
        "                metric = 'euclidean')\n",
        "\n",
        "dbscan.fit_predict(iris.data)\n"
      ],
      "execution_count": 19,
      "outputs": [
        {
          "output_type": "execute_result",
          "data": {
            "text/plain": [
              "array([ 0,  0,  0,  0,  0,  0,  0,  0,  0,  0,  0,  0,  0,  0,  0,  0,  0,\n",
              "        0,  0,  0,  0,  0,  0,  0,  0,  0,  0,  0,  0,  0,  0,  0,  0,  0,\n",
              "        0,  0,  0,  0,  0,  0,  0,  0,  0,  0,  0,  0,  0,  0,  0,  0,  1,\n",
              "        1,  1,  1,  1,  1,  1,  1,  1,  1,  1,  1,  1,  1,  1,  1,  1,  1,\n",
              "        1,  1,  1,  1,  1,  1,  1,  1,  1,  1,  1,  1,  1,  1,  1,  1,  1,\n",
              "        1,  1,  1,  1,  1,  1,  1,  1,  1,  1,  1,  1,  1,  1,  1,  1,  1,\n",
              "        1,  1,  1,  1,  1,  1,  1,  1,  1,  1,  1,  1,  1,  1,  1, -1, -1,\n",
              "        1,  1,  1,  1,  1,  1,  1,  1,  1,  1,  1,  1, -1,  1,  1,  1,  1,\n",
              "        1,  1,  1,  1,  1,  1,  1,  1,  1,  1,  1,  1,  1,  1])"
            ]
          },
          "metadata": {
            "tags": []
          },
          "execution_count": 19
        }
      ]
    },
    {
      "cell_type": "code",
      "metadata": {
        "colab": {
          "base_uri": "https://localhost:8080/"
        },
        "id": "TvFD0G2K0EM1",
        "outputId": "6709afe1-0568-4d28-c085-f6610cf11e08"
      },
      "source": [
        "# 군집결과\n",
        "\n",
        "DF['dbscan'] = dbscan.fit_predict(iris.data)\n",
        "\n",
        "DF.groupby('target')['dbscan'].value_counts()"
      ],
      "execution_count": 21,
      "outputs": [
        {
          "output_type": "execute_result",
          "data": {
            "text/plain": [
              "target  dbscan\n",
              "0        0        50\n",
              "1        1        50\n",
              "2        1        47\n",
              "        -1         3\n",
              "Name: dbscan, dtype: int64"
            ]
          },
          "metadata": {
            "tags": []
          },
          "execution_count": 21
        }
      ]
    },
    {
      "cell_type": "code",
      "metadata": {
        "id": "G3flP1pA0Tv3"
      },
      "source": [
        ""
      ],
      "execution_count": null,
      "outputs": []
    }
  ]
}